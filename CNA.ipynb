{
 "cells": [
  {
   "cell_type": "markdown",
   "metadata": {},
   "source": [
    "# DISCRETIZACION DE VARIABLES NUMERICAS"
   ]
  },
  {
   "cell_type": "code",
   "execution_count": 79,
   "metadata": {},
   "outputs": [],
   "source": [
    "#importando librerias \n",
    "import pandas as pd\n",
    "import numpy as np\n",
    "import matplotlib.pyplot as plt\n",
    "import seaborn as sns\n",
    "from libraries import *"
   ]
  },
  {
   "cell_type": "code",
   "execution_count": 80,
   "metadata": {},
   "outputs": [],
   "source": [
    "#Cargando datos\n",
    "data = pd.read_csv(\"./dataset.csv\",delimiter=\";\")"
   ]
  },
  {
   "cell_type": "code",
   "execution_count": 81,
   "metadata": {},
   "outputs": [
    {
     "data": {
      "text/plain": [
       "SOCIO                     8618\n",
       "CUENTA                    8618\n",
       "AGENCIA                      7\n",
       "TIPO_SOCIO                   4\n",
       "MONEDA                       1\n",
       "PAGARE                    9734\n",
       "PRODUCTO                    38\n",
       "FEC_ULT_PAGO               411\n",
       "TEA_INTERES                958\n",
       "CUOTA_FIJA                7955\n",
       "DIAS                         4\n",
       "NOM_FRECUENCIA               4\n",
       "EDAD                        65\n",
       "ESTADO_CIVIL                 6\n",
       "SEXO                         3\n",
       "TIPO_VIVIENDA                3\n",
       "OTORGA                    1223\n",
       "RIESGO_INDIVIDUAL            5\n",
       "NCUO_ATRASADAS             111\n",
       "CUO_FALTANTES_VIGENTES     198\n",
       "NDIAS_ATRASADOS            547\n",
       "MONTO_PRESTAMO            1244\n",
       "SALDO_PRESTAMO            8176\n",
       "NRO_REPRO                   13\n",
       "ANA_ORIGEN                 168\n",
       "ANA_ACTUAL                  83\n",
       "PROFESION                   80\n",
       "OCUPACION                 2900\n",
       "ACTIVIDAD_ECO               37\n",
       "dtype: int64"
      ]
     },
     "execution_count": 81,
     "metadata": {},
     "output_type": "execute_result"
    }
   ],
   "source": [
    "data.nunique() #CANTIDAD DE VALORES DIFERENTES EN EL DATASET "
   ]
  },
  {
   "cell_type": "code",
   "execution_count": 82,
   "metadata": {},
   "outputs": [],
   "source": [
    "data['MORA'] = np.where(data['NDIAS_ATRASADOS'] > data['DIAS'],1,0)"
   ]
  },
  {
   "cell_type": "code",
   "execution_count": 83,
   "metadata": {},
   "outputs": [],
   "source": [
    "def min_max_per_category(data, category_column, value_column, labels):\n",
    "    result = []\n",
    "    for label in labels:\n",
    "        min_value = data.query(f\"{category_column} == {label}\")[value_column].min().round()\n",
    "        max_value = data.query(f\"{category_column} == {label}\")[value_column].max().round()\n",
    "        result.append(f'{min_value}-{max_value}')\n",
    "    return result"
   ]
  },
  {
   "cell_type": "markdown",
   "metadata": {},
   "source": [
    "### TEA_INTERES"
   ]
  },
  {
   "cell_type": "code",
   "execution_count": 84,
   "metadata": {},
   "outputs": [
    {
     "data": {
      "text/plain": [
       "958"
      ]
     },
     "execution_count": 84,
     "metadata": {},
     "output_type": "execute_result"
    }
   ],
   "source": [
    "data.TEA_INTERES.nunique()"
   ]
  },
  {
   "cell_type": "code",
   "execution_count": 85,
   "metadata": {},
   "outputs": [
    {
     "data": {
      "text/plain": [
       "'2.2.1'"
      ]
     },
     "execution_count": 85,
     "metadata": {},
     "output_type": "execute_result"
    }
   ],
   "source": [
    "pd.__version__"
   ]
  },
  {
   "cell_type": "code",
   "execution_count": 86,
   "metadata": {},
   "outputs": [],
   "source": [
    "labels = [i for i in range(0, 10)]\n",
    "data['TEA_ANUAL'] = pd.qcut(data['TEA_INTERES'], 10, labels=labels)"
   ]
  },
  {
   "cell_type": "code",
   "execution_count": 87,
   "metadata": {},
   "outputs": [
    {
     "data": {
      "text/html": [
       "<div>\n",
       "<style scoped>\n",
       "    .dataframe tbody tr th:only-of-type {\n",
       "        vertical-align: middle;\n",
       "    }\n",
       "\n",
       "    .dataframe tbody tr th {\n",
       "        vertical-align: top;\n",
       "    }\n",
       "\n",
       "    .dataframe thead th {\n",
       "        text-align: right;\n",
       "    }\n",
       "</style>\n",
       "<table border=\"1\" class=\"dataframe\">\n",
       "  <thead>\n",
       "    <tr style=\"text-align: right;\">\n",
       "      <th></th>\n",
       "      <th>TEA_INTERES</th>\n",
       "      <th>TEA_ANUAL</th>\n",
       "    </tr>\n",
       "  </thead>\n",
       "  <tbody>\n",
       "    <tr>\n",
       "      <th>0</th>\n",
       "      <td>69.39</td>\n",
       "      <td>3</td>\n",
       "    </tr>\n",
       "    <tr>\n",
       "      <th>1</th>\n",
       "      <td>101.22</td>\n",
       "      <td>5</td>\n",
       "    </tr>\n",
       "    <tr>\n",
       "      <th>2</th>\n",
       "      <td>45.93</td>\n",
       "      <td>1</td>\n",
       "    </tr>\n",
       "    <tr>\n",
       "      <th>3</th>\n",
       "      <td>100.08</td>\n",
       "      <td>4</td>\n",
       "    </tr>\n",
       "    <tr>\n",
       "      <th>4</th>\n",
       "      <td>125.22</td>\n",
       "      <td>5</td>\n",
       "    </tr>\n",
       "    <tr>\n",
       "      <th>...</th>\n",
       "      <td>...</td>\n",
       "      <td>...</td>\n",
       "    </tr>\n",
       "    <tr>\n",
       "      <th>9729</th>\n",
       "      <td>42.58</td>\n",
       "      <td>1</td>\n",
       "    </tr>\n",
       "    <tr>\n",
       "      <th>9730</th>\n",
       "      <td>42.58</td>\n",
       "      <td>1</td>\n",
       "    </tr>\n",
       "    <tr>\n",
       "      <th>9731</th>\n",
       "      <td>39.29</td>\n",
       "      <td>0</td>\n",
       "    </tr>\n",
       "    <tr>\n",
       "      <th>9732</th>\n",
       "      <td>79.56</td>\n",
       "      <td>3</td>\n",
       "    </tr>\n",
       "    <tr>\n",
       "      <th>9733</th>\n",
       "      <td>340.87</td>\n",
       "      <td>9</td>\n",
       "    </tr>\n",
       "  </tbody>\n",
       "</table>\n",
       "<p>9734 rows × 2 columns</p>\n",
       "</div>"
      ],
      "text/plain": [
       "      TEA_INTERES TEA_ANUAL\n",
       "0           69.39         3\n",
       "1          101.22         5\n",
       "2           45.93         1\n",
       "3          100.08         4\n",
       "4          125.22         5\n",
       "...           ...       ...\n",
       "9729        42.58         1\n",
       "9730        42.58         1\n",
       "9731        39.29         0\n",
       "9732        79.56         3\n",
       "9733       340.87         9\n",
       "\n",
       "[9734 rows x 2 columns]"
      ]
     },
     "execution_count": 87,
     "metadata": {},
     "output_type": "execute_result"
    }
   ],
   "source": [
    "data[['TEA_INTERES', 'TEA_ANUAL']]"
   ]
  },
  {
   "cell_type": "code",
   "execution_count": 88,
   "metadata": {},
   "outputs": [],
   "source": [
    "min_max_list = min_max_per_category(data, 'TEA_ANUAL', 'TEA_INTERES', labels)\n",
    "\n",
    "# Crear un diccionario de mapeo de etiquetas a valores concatenados\n",
    "label_to_min_max = dict(zip(labels, min_max_list))\n",
    "\n",
    "# Asignar los valores concatenados a la columna TEA_ANUAL\n",
    "data['TEA_ANUAL'] = data['TEA_ANUAL'].map(label_to_min_max)"
   ]
  },
  {
   "cell_type": "code",
   "execution_count": 89,
   "metadata": {},
   "outputs": [
    {
     "data": {
      "text/html": [
       "<div>\n",
       "<style scoped>\n",
       "    .dataframe tbody tr th:only-of-type {\n",
       "        vertical-align: middle;\n",
       "    }\n",
       "\n",
       "    .dataframe tbody tr th {\n",
       "        vertical-align: top;\n",
       "    }\n",
       "\n",
       "    .dataframe thead th {\n",
       "        text-align: right;\n",
       "    }\n",
       "</style>\n",
       "<table border=\"1\" class=\"dataframe\">\n",
       "  <thead>\n",
       "    <tr style=\"text-align: right;\">\n",
       "      <th></th>\n",
       "      <th>TEA_INTERES</th>\n",
       "      <th>TEA_ANUAL</th>\n",
       "    </tr>\n",
       "  </thead>\n",
       "  <tbody>\n",
       "    <tr>\n",
       "      <th>6745</th>\n",
       "      <td>213.84</td>\n",
       "      <td>205.0-290.0</td>\n",
       "    </tr>\n",
       "    <tr>\n",
       "      <th>4981</th>\n",
       "      <td>156.33</td>\n",
       "      <td>126.0-157.0</td>\n",
       "    </tr>\n",
       "    <tr>\n",
       "      <th>2208</th>\n",
       "      <td>200.09</td>\n",
       "      <td>158.0-204.0</td>\n",
       "    </tr>\n",
       "    <tr>\n",
       "      <th>1104</th>\n",
       "      <td>42.58</td>\n",
       "      <td>41.0-49.0</td>\n",
       "    </tr>\n",
       "    <tr>\n",
       "      <th>829</th>\n",
       "      <td>302.31</td>\n",
       "      <td>290.0-500.0</td>\n",
       "    </tr>\n",
       "  </tbody>\n",
       "</table>\n",
       "</div>"
      ],
      "text/plain": [
       "      TEA_INTERES    TEA_ANUAL\n",
       "6745       213.84  205.0-290.0\n",
       "4981       156.33  126.0-157.0\n",
       "2208       200.09  158.0-204.0\n",
       "1104        42.58    41.0-49.0\n",
       "829        302.31  290.0-500.0"
      ]
     },
     "execution_count": 89,
     "metadata": {},
     "output_type": "execute_result"
    }
   ],
   "source": [
    "data[['TEA_INTERES', 'TEA_ANUAL']].sample(5)"
   ]
  },
  {
   "cell_type": "markdown",
   "metadata": {},
   "source": [
    "### CUOTA_FIJA"
   ]
  },
  {
   "cell_type": "code",
   "execution_count": 90,
   "metadata": {},
   "outputs": [],
   "source": [
    "labels = [i for i in range(0, 20)]\n",
    "data['CUO_FIJA'] = pd.qcut(data['CUOTA_FIJA'], 20, labels=labels)"
   ]
  },
  {
   "cell_type": "code",
   "execution_count": 91,
   "metadata": {},
   "outputs": [],
   "source": [
    "min_max_list = min_max_per_category(data, 'CUO_FIJA', 'CUOTA_FIJA', labels)\n",
    "\n",
    "# Crear un diccionario de mapeo de etiquetas a valores concatenados\n",
    "label_to_min_max = dict(zip(labels, min_max_list))\n",
    "\n",
    "# Asignar los valores concatenados a la columna TEA_ANUAL\n",
    "data['CUO_FIJA'] = data['CUO_FIJA'].map(label_to_min_max)"
   ]
  },
  {
   "cell_type": "code",
   "execution_count": 92,
   "metadata": {},
   "outputs": [],
   "source": [
    "data['CUO_FIJA'] = data['CUO_FIJA'].fillna('0.0-20.0')"
   ]
  },
  {
   "cell_type": "code",
   "execution_count": 93,
   "metadata": {},
   "outputs": [
    {
     "data": {
      "text/html": [
       "<div>\n",
       "<style scoped>\n",
       "    .dataframe tbody tr th:only-of-type {\n",
       "        vertical-align: middle;\n",
       "    }\n",
       "\n",
       "    .dataframe tbody tr th {\n",
       "        vertical-align: top;\n",
       "    }\n",
       "\n",
       "    .dataframe thead th {\n",
       "        text-align: right;\n",
       "    }\n",
       "</style>\n",
       "<table border=\"1\" class=\"dataframe\">\n",
       "  <thead>\n",
       "    <tr style=\"text-align: right;\">\n",
       "      <th></th>\n",
       "      <th>CUOTA_FIJA</th>\n",
       "      <th>CUO_FIJA</th>\n",
       "    </tr>\n",
       "  </thead>\n",
       "  <tbody>\n",
       "    <tr>\n",
       "      <th>6638</th>\n",
       "      <td>814.92</td>\n",
       "      <td>643.0-1070.0</td>\n",
       "    </tr>\n",
       "    <tr>\n",
       "      <th>2699</th>\n",
       "      <td>209.70</td>\n",
       "      <td>205.0-239.0</td>\n",
       "    </tr>\n",
       "    <tr>\n",
       "      <th>2609</th>\n",
       "      <td>60.00</td>\n",
       "      <td>59.0-78.0</td>\n",
       "    </tr>\n",
       "    <tr>\n",
       "      <th>848</th>\n",
       "      <td>234.65</td>\n",
       "      <td>205.0-239.0</td>\n",
       "    </tr>\n",
       "    <tr>\n",
       "      <th>7559</th>\n",
       "      <td>18.96</td>\n",
       "      <td>0.0-20.0</td>\n",
       "    </tr>\n",
       "  </tbody>\n",
       "</table>\n",
       "</div>"
      ],
      "text/plain": [
       "      CUOTA_FIJA      CUO_FIJA\n",
       "6638      814.92  643.0-1070.0\n",
       "2699      209.70   205.0-239.0\n",
       "2609       60.00     59.0-78.0\n",
       "848       234.65   205.0-239.0\n",
       "7559       18.96      0.0-20.0"
      ]
     },
     "execution_count": 93,
     "metadata": {},
     "output_type": "execute_result"
    }
   ],
   "source": [
    "data[['CUOTA_FIJA', 'CUO_FIJA']].sample(5)"
   ]
  },
  {
   "cell_type": "markdown",
   "metadata": {},
   "source": [
    "### EDAD"
   ]
  },
  {
   "cell_type": "code",
   "execution_count": 94,
   "metadata": {},
   "outputs": [
    {
     "data": {
      "text/plain": [
       "count    9734.000000\n",
       "mean       40.610849\n",
       "std        11.918444\n",
       "min        18.000000\n",
       "25%        31.000000\n",
       "50%        39.000000\n",
       "75%        49.000000\n",
       "max       121.000000\n",
       "Name: EDAD, dtype: float64"
      ]
     },
     "execution_count": 94,
     "metadata": {},
     "output_type": "execute_result"
    }
   ],
   "source": [
    "data.EDAD.describe()"
   ]
  },
  {
   "cell_type": "code",
   "execution_count": 95,
   "metadata": {},
   "outputs": [],
   "source": [
    "labels = ['18-25','25-35','35-45','45-55','55-65','65+']\n",
    "bins = [18, 25, 35, 45, 55, 65, np.inf]\n",
    "data['RANGO_EDAD'] = pd.cut(data['EDAD'], bins=bins, labels=labels, include_lowest=True)"
   ]
  },
  {
   "cell_type": "code",
   "execution_count": 96,
   "metadata": {},
   "outputs": [
    {
     "data": {
      "text/html": [
       "<div>\n",
       "<style scoped>\n",
       "    .dataframe tbody tr th:only-of-type {\n",
       "        vertical-align: middle;\n",
       "    }\n",
       "\n",
       "    .dataframe tbody tr th {\n",
       "        vertical-align: top;\n",
       "    }\n",
       "\n",
       "    .dataframe thead th {\n",
       "        text-align: right;\n",
       "    }\n",
       "</style>\n",
       "<table border=\"1\" class=\"dataframe\">\n",
       "  <thead>\n",
       "    <tr style=\"text-align: right;\">\n",
       "      <th></th>\n",
       "      <th>EDAD</th>\n",
       "      <th>RANGO_EDAD</th>\n",
       "    </tr>\n",
       "  </thead>\n",
       "  <tbody>\n",
       "    <tr>\n",
       "      <th>4611</th>\n",
       "      <td>27</td>\n",
       "      <td>25-35</td>\n",
       "    </tr>\n",
       "    <tr>\n",
       "      <th>7673</th>\n",
       "      <td>26</td>\n",
       "      <td>25-35</td>\n",
       "    </tr>\n",
       "    <tr>\n",
       "      <th>9575</th>\n",
       "      <td>45</td>\n",
       "      <td>35-45</td>\n",
       "    </tr>\n",
       "    <tr>\n",
       "      <th>5324</th>\n",
       "      <td>39</td>\n",
       "      <td>35-45</td>\n",
       "    </tr>\n",
       "    <tr>\n",
       "      <th>5949</th>\n",
       "      <td>38</td>\n",
       "      <td>35-45</td>\n",
       "    </tr>\n",
       "  </tbody>\n",
       "</table>\n",
       "</div>"
      ],
      "text/plain": [
       "      EDAD RANGO_EDAD\n",
       "4611    27      25-35\n",
       "7673    26      25-35\n",
       "9575    45      35-45\n",
       "5324    39      35-45\n",
       "5949    38      35-45"
      ]
     },
     "execution_count": 96,
     "metadata": {},
     "output_type": "execute_result"
    }
   ],
   "source": [
    "data[['EDAD', 'RANGO_EDAD']].sample(5)"
   ]
  },
  {
   "cell_type": "markdown",
   "metadata": {},
   "source": [
    "### NCUO_ATRASADAS"
   ]
  },
  {
   "cell_type": "code",
   "execution_count": 97,
   "metadata": {},
   "outputs": [
    {
     "data": {
      "text/plain": [
       "count    9734.000000\n",
       "mean        4.254263\n",
       "std        11.417179\n",
       "min         0.000000\n",
       "25%         0.000000\n",
       "50%         1.000000\n",
       "75%         3.000000\n",
       "max       169.000000\n",
       "Name: NCUO_ATRASADAS, dtype: float64"
      ]
     },
     "execution_count": 97,
     "metadata": {},
     "output_type": "execute_result"
    }
   ],
   "source": [
    "data.NCUO_ATRASADAS.describe()"
   ]
  },
  {
   "cell_type": "code",
   "execution_count": 98,
   "metadata": {},
   "outputs": [
    {
     "data": {
      "text/plain": [
       "NCUO_ATRASADAS\n",
       "0      4670\n",
       "1      1399\n",
       "2       863\n",
       "3       664\n",
       "4       249\n",
       "       ... \n",
       "110       1\n",
       "146       1\n",
       "140       1\n",
       "136       1\n",
       "64        1\n",
       "Name: count, Length: 111, dtype: int64"
      ]
     },
     "execution_count": 98,
     "metadata": {},
     "output_type": "execute_result"
    }
   ],
   "source": [
    "data.NCUO_ATRASADAS.value_counts()"
   ]
  },
  {
   "cell_type": "code",
   "execution_count": 99,
   "metadata": {},
   "outputs": [
    {
     "data": {
      "text/plain": [
       "<Axes: xlabel='NCUO_ATRASADAS', ylabel='Percent'>"
      ]
     },
     "execution_count": 99,
     "metadata": {},
     "output_type": "execute_result"
    },
    {
     "data": {
      "image/png": "[encoded data removed]",
      "text/plain": [
       "<Figure size 640x480 with 1 Axes>"
      ]
     },
     "metadata": {},
     "output_type": "display_data"
    }
   ],
   "source": [
    "sns.ecdfplot(data, x='NCUO_ATRASADAS', stat='percent')"
   ]
  },
  {
   "cell_type": "code",
   "execution_count": 100,
   "metadata": {},
   "outputs": [],
   "source": [
    "labels = ['1','2-3','4+']\n",
    "bins = [0, 1, 3, np.inf]\n",
    "data['CUO_ATRASADAS'] = pd.cut(data['NCUO_ATRASADAS'], bins=bins, labels=labels)"
   ]
  },
  {
   "cell_type": "code",
   "execution_count": 101,
   "metadata": {},
   "outputs": [],
   "source": [
    "data[['NCUO_ATRASADAS', 'CUO_ATRASADAS']].sample(5)\n",
    "data['CUO_ATRASADAS'] = data['CUO_ATRASADAS'].cat.add_categories(['0'])\n",
    "data['CUO_ATRASADAS'] = data['CUO_ATRASADAS'].fillna('0')"
   ]
  },
  {
   "cell_type": "code",
   "execution_count": 102,
   "metadata": {},
   "outputs": [
    {
     "data": {
      "text/html": [
       "<div>\n",
       "<style scoped>\n",
       "    .dataframe tbody tr th:only-of-type {\n",
       "        vertical-align: middle;\n",
       "    }\n",
       "\n",
       "    .dataframe tbody tr th {\n",
       "        vertical-align: top;\n",
       "    }\n",
       "\n",
       "    .dataframe thead th {\n",
       "        text-align: right;\n",
       "    }\n",
       "</style>\n",
       "<table border=\"1\" class=\"dataframe\">\n",
       "  <thead>\n",
       "    <tr style=\"text-align: right;\">\n",
       "      <th></th>\n",
       "      <th>NCUO_ATRASADAS</th>\n",
       "      <th>CUO_ATRASADAS</th>\n",
       "    </tr>\n",
       "  </thead>\n",
       "  <tbody>\n",
       "    <tr>\n",
       "      <th>3887</th>\n",
       "      <td>2</td>\n",
       "      <td>2-3</td>\n",
       "    </tr>\n",
       "    <tr>\n",
       "      <th>957</th>\n",
       "      <td>0</td>\n",
       "      <td>0</td>\n",
       "    </tr>\n",
       "    <tr>\n",
       "      <th>8942</th>\n",
       "      <td>3</td>\n",
       "      <td>2-3</td>\n",
       "    </tr>\n",
       "    <tr>\n",
       "      <th>8628</th>\n",
       "      <td>3</td>\n",
       "      <td>2-3</td>\n",
       "    </tr>\n",
       "    <tr>\n",
       "      <th>1788</th>\n",
       "      <td>0</td>\n",
       "      <td>0</td>\n",
       "    </tr>\n",
       "  </tbody>\n",
       "</table>\n",
       "</div>"
      ],
      "text/plain": [
       "      NCUO_ATRASADAS CUO_ATRASADAS\n",
       "3887               2           2-3\n",
       "957                0             0\n",
       "8942               3           2-3\n",
       "8628               3           2-3\n",
       "1788               0             0"
      ]
     },
     "execution_count": 102,
     "metadata": {},
     "output_type": "execute_result"
    }
   ],
   "source": [
    "data[['NCUO_ATRASADAS', 'CUO_ATRASADAS']].sample(5)"
   ]
  },
  {
   "cell_type": "code",
   "execution_count": 103,
   "metadata": {},
   "outputs": [
    {
     "data": {
      "text/plain": [
       "CUO_ATRASADAS\n",
       "0      4670\n",
       "4+     2138\n",
       "2-3    1527\n",
       "1      1399\n",
       "Name: count, dtype: int64"
      ]
     },
     "execution_count": 103,
     "metadata": {},
     "output_type": "execute_result"
    }
   ],
   "source": [
    "data.CUO_ATRASADAS.value_counts()"
   ]
  },
  {
   "cell_type": "markdown",
   "metadata": {},
   "source": [
    "### CUOTAS FALTANTES VIGENTES"
   ]
  },
  {
   "cell_type": "code",
   "execution_count": 104,
   "metadata": {},
   "outputs": [
    {
     "data": {
      "text/plain": [
       "count    9734.000000\n",
       "mean       26.021677\n",
       "std        31.744686\n",
       "min         0.000000\n",
       "25%         5.000000\n",
       "50%        14.000000\n",
       "75%        41.000000\n",
       "max       495.000000\n",
       "Name: CUO_FALTANTES_VIGENTES, dtype: float64"
      ]
     },
     "execution_count": 104,
     "metadata": {},
     "output_type": "execute_result"
    }
   ],
   "source": [
    "data.CUO_FALTANTES_VIGENTES.describe()"
   ]
  },
  {
   "cell_type": "code",
   "execution_count": 105,
   "metadata": {},
   "outputs": [
    {
     "data": {
      "text/plain": [
       "<Axes: xlabel='CUO_FALTANTES_VIGENTES', ylabel='Percent'>"
      ]
     },
     "execution_count": 105,
     "metadata": {},
     "output_type": "execute_result"
    },
    {
     "data": {
      "image/png": "[encoded data removed]",
      "text/plain": [
       "<Figure size 640x480 with 1 Axes>"
      ]
     },
     "metadata": {},
     "output_type": "display_data"
    }
   ],
   "source": [
    "sns.ecdfplot(data, x='CUO_FALTANTES_VIGENTES', stat='percent')"
   ]
  },
  {
   "cell_type": "code",
   "execution_count": 106,
   "metadata": {},
   "outputs": [],
   "source": [
    "labels = [i for i in range(0, 7)]\n",
    "data['CUO_FALTANTES'] = pd.qcut(data['CUO_FALTANTES_VIGENTES'], 7, labels=labels)"
   ]
  },
  {
   "cell_type": "code",
   "execution_count": 107,
   "metadata": {},
   "outputs": [],
   "source": [
    "min_max_list = min_max_per_category(data, 'CUO_FALTANTES', 'CUO_FALTANTES_VIGENTES', labels)\n",
    "\n",
    "# Crear un diccionario de mapeo de etiquetas a valores concatenados\n",
    "label_to_min_max = dict(zip(labels, min_max_list))\n",
    "\n",
    "# Asignar los valores concatenados a la columna TEA_ANUAL\n",
    "data['CUO_FALTANTES'] = data['CUO_FALTANTES'].map(label_to_min_max)"
   ]
  },
  {
   "cell_type": "code",
   "execution_count": 108,
   "metadata": {},
   "outputs": [],
   "source": [
    "mask = data['CUO_FALTANTES_VIGENTES'] != 0\n",
    "data['CUO_FALTANTES'] = data.loc[mask, 'CUO_FALTANTES'].ffill()"
   ]
  },
  {
   "cell_type": "code",
   "execution_count": 109,
   "metadata": {},
   "outputs": [],
   "source": [
    "data['CUO_FALTANTES'] = data['CUO_FALTANTES'].cat.add_categories(['0'])\n",
    "data['CUO_FALTANTES'] = data['CUO_FALTANTES'].fillna('0')"
   ]
  },
  {
   "cell_type": "code",
   "execution_count": 110,
   "metadata": {},
   "outputs": [
    {
     "data": {
      "text/plain": [
       "CUO_FALTANTES\n",
       "35-60     2001\n",
       "7-11      1494\n",
       "2-6       1479\n",
       "19-34     1338\n",
       "0         1305\n",
       "12-18     1212\n",
       "61-495     753\n",
       "0-1        152\n",
       "Name: count, dtype: int64"
      ]
     },
     "execution_count": 110,
     "metadata": {},
     "output_type": "execute_result"
    }
   ],
   "source": [
    "data.CUO_FALTANTES.value_counts()"
   ]
  },
  {
   "cell_type": "code",
   "execution_count": 111,
   "metadata": {},
   "outputs": [],
   "source": [
    "data.loc[data['CUO_FALTANTES'].isin(['2-6', '0-1']), 'CUO_FALTANTES'] = np.nan"
   ]
  },
  {
   "cell_type": "code",
   "execution_count": 112,
   "metadata": {},
   "outputs": [
    {
     "name": "stderr",
     "output_type": "stream",
     "text": [
      "C:\\Users\\LAPTOP\\AppData\\Local\\Temp\\ipykernel_9252\\630524026.py:3: FutureWarning: A value is trying to be set on a copy of a DataFrame or Series through chained assignment using an inplace method.\n",
      "The behavior will change in pandas 3.0. This inplace method will never work because the intermediate object on which we are setting values always behaves as a copy.\n",
      "\n",
      "For example, when doing 'df[col].method(value, inplace=True)', try using 'df.method({col: value}, inplace=True)' or df[col] = df[col].method(value) instead, to perform the operation inplace on the original object.\n",
      "\n",
      "\n",
      "  data['CUO_FALTANTES'].replace(['0-1', '2-6'], np.nan, inplace = True);\n",
      "C:\\Users\\LAPTOP\\AppData\\Local\\Temp\\ipykernel_9252\\630524026.py:3: FutureWarning: The behavior of Series.replace (and DataFrame.replace) with CategoricalDtype is deprecated. In a future version, replace will only be used for cases that preserve the categories. To change the categories, use ser.cat.rename_categories instead.\n",
      "  data['CUO_FALTANTES'].replace(['0-1', '2-6'], np.nan, inplace = True);\n"
     ]
    }
   ],
   "source": [
    "data['CUO_FALTANTES'] = data['CUO_FALTANTES'].cat.add_categories(['1-6'])\n",
    "data['CUO_FALTANTES'] = data['CUO_FALTANTES'].fillna('1-6')\n",
    "data['CUO_FALTANTES'].replace(['0-1', '2-6'], np.nan, inplace = True);"
   ]
  },
  {
   "cell_type": "code",
   "execution_count": 113,
   "metadata": {},
   "outputs": [
    {
     "data": {
      "text/html": [
       "<div>\n",
       "<style scoped>\n",
       "    .dataframe tbody tr th:only-of-type {\n",
       "        vertical-align: middle;\n",
       "    }\n",
       "\n",
       "    .dataframe tbody tr th {\n",
       "        vertical-align: top;\n",
       "    }\n",
       "\n",
       "    .dataframe thead th {\n",
       "        text-align: right;\n",
       "    }\n",
       "</style>\n",
       "<table border=\"1\" class=\"dataframe\">\n",
       "  <thead>\n",
       "    <tr style=\"text-align: right;\">\n",
       "      <th></th>\n",
       "      <th>CUO_FALTANTES_VIGENTES</th>\n",
       "      <th>CUO_FALTANTES</th>\n",
       "    </tr>\n",
       "  </thead>\n",
       "  <tbody>\n",
       "    <tr>\n",
       "      <th>1529</th>\n",
       "      <td>0</td>\n",
       "      <td>0</td>\n",
       "    </tr>\n",
       "    <tr>\n",
       "      <th>9347</th>\n",
       "      <td>37</td>\n",
       "      <td>35-60</td>\n",
       "    </tr>\n",
       "    <tr>\n",
       "      <th>5481</th>\n",
       "      <td>5</td>\n",
       "      <td>1-6</td>\n",
       "    </tr>\n",
       "    <tr>\n",
       "      <th>6862</th>\n",
       "      <td>10</td>\n",
       "      <td>7-11</td>\n",
       "    </tr>\n",
       "    <tr>\n",
       "      <th>2693</th>\n",
       "      <td>5</td>\n",
       "      <td>1-6</td>\n",
       "    </tr>\n",
       "  </tbody>\n",
       "</table>\n",
       "</div>"
      ],
      "text/plain": [
       "      CUO_FALTANTES_VIGENTES CUO_FALTANTES\n",
       "1529                       0             0\n",
       "9347                      37         35-60\n",
       "5481                       5           1-6\n",
       "6862                      10          7-11\n",
       "2693                       5           1-6"
      ]
     },
     "execution_count": 113,
     "metadata": {},
     "output_type": "execute_result"
    }
   ],
   "source": [
    "data[['CUO_FALTANTES_VIGENTES', 'CUO_FALTANTES']].sample(5)"
   ]
  },
  {
   "cell_type": "code",
   "execution_count": 114,
   "metadata": {},
   "outputs": [
    {
     "data": {
      "text/plain": [
       "CUO_FALTANTES\n",
       "35-60     2001\n",
       "1-6       1631\n",
       "7-11      1494\n",
       "19-34     1338\n",
       "0         1305\n",
       "12-18     1212\n",
       "61-495     753\n",
       "Name: count, dtype: int64"
      ]
     },
     "execution_count": 114,
     "metadata": {},
     "output_type": "execute_result"
    }
   ],
   "source": [
    "data.CUO_FALTANTES.value_counts()"
   ]
  },
  {
   "cell_type": "markdown",
   "metadata": {},
   "source": [
    "### NDIAS ATRASADOS"
   ]
  },
  {
   "cell_type": "code",
   "execution_count": 115,
   "metadata": {},
   "outputs": [
    {
     "data": {
      "text/plain": [
       "count    9734.000000\n",
       "mean       82.099445\n",
       "std       271.360152\n",
       "min         0.000000\n",
       "25%         0.000000\n",
       "50%         0.000000\n",
       "75%        29.000000\n",
       "max      3458.000000\n",
       "Name: NDIAS_ATRASADOS, dtype: float64"
      ]
     },
     "execution_count": 115,
     "metadata": {},
     "output_type": "execute_result"
    }
   ],
   "source": [
    "data.NDIAS_ATRASADOS.describe()"
   ]
  },
  {
   "cell_type": "code",
   "execution_count": 116,
   "metadata": {},
   "outputs": [
    {
     "data": {
      "text/plain": [
       "<Axes: xlabel='NDIAS_ATRASADOS', ylabel='Proportion'>"
      ]
     },
     "execution_count": 116,
     "metadata": {},
     "output_type": "execute_result"
    },
    {
     "data": {
      "image/png": "[encoded data removed]",
      "text/plain": [
       "<Figure size 640x480 with 1 Axes>"
      ]
     },
     "metadata": {},
     "output_type": "display_data"
    }
   ],
   "source": [
    "sns.ecdfplot(data=data,x='NDIAS_ATRASADOS')"
   ]
  },
  {
   "cell_type": "code",
   "execution_count": 117,
   "metadata": {},
   "outputs": [],
   "source": [
    "labels = ['1-15','15-45','45-60','60-90','90+']\n",
    "bins = [0, 15, 45, 60, 90, np.inf]\n",
    "data['DIAS_ATRASADOS'] = pd.cut(data['NDIAS_ATRASADOS'], bins=bins, labels=labels)\n"
   ]
  },
  {
   "cell_type": "code",
   "execution_count": 118,
   "metadata": {},
   "outputs": [],
   "source": [
    "data['DIAS_ATRASADOS'] = data['DIAS_ATRASADOS'].cat.add_categories(['0'])\n",
    "data['DIAS_ATRASADOS'] = data['DIAS_ATRASADOS'].fillna('0')"
   ]
  },
  {
   "cell_type": "code",
   "execution_count": 119,
   "metadata": {},
   "outputs": [
    {
     "data": {
      "text/html": [
       "<div>\n",
       "<style scoped>\n",
       "    .dataframe tbody tr th:only-of-type {\n",
       "        vertical-align: middle;\n",
       "    }\n",
       "\n",
       "    .dataframe tbody tr th {\n",
       "        vertical-align: top;\n",
       "    }\n",
       "\n",
       "    .dataframe thead th {\n",
       "        text-align: right;\n",
       "    }\n",
       "</style>\n",
       "<table border=\"1\" class=\"dataframe\">\n",
       "  <thead>\n",
       "    <tr style=\"text-align: right;\">\n",
       "      <th></th>\n",
       "      <th>NDIAS_ATRASADOS</th>\n",
       "      <th>DIAS_ATRASADOS</th>\n",
       "    </tr>\n",
       "  </thead>\n",
       "  <tbody>\n",
       "    <tr>\n",
       "      <th>5608</th>\n",
       "      <td>0</td>\n",
       "      <td>0</td>\n",
       "    </tr>\n",
       "    <tr>\n",
       "      <th>9235</th>\n",
       "      <td>0</td>\n",
       "      <td>0</td>\n",
       "    </tr>\n",
       "    <tr>\n",
       "      <th>4064</th>\n",
       "      <td>0</td>\n",
       "      <td>0</td>\n",
       "    </tr>\n",
       "    <tr>\n",
       "      <th>564</th>\n",
       "      <td>211</td>\n",
       "      <td>90+</td>\n",
       "    </tr>\n",
       "    <tr>\n",
       "      <th>7702</th>\n",
       "      <td>0</td>\n",
       "      <td>0</td>\n",
       "    </tr>\n",
       "  </tbody>\n",
       "</table>\n",
       "</div>"
      ],
      "text/plain": [
       "      NDIAS_ATRASADOS DIAS_ATRASADOS\n",
       "5608                0              0\n",
       "9235                0              0\n",
       "4064                0              0\n",
       "564               211            90+\n",
       "7702                0              0"
      ]
     },
     "execution_count": 119,
     "metadata": {},
     "output_type": "execute_result"
    }
   ],
   "source": [
    "data[['NDIAS_ATRASADOS', 'DIAS_ATRASADOS']].sample(5)"
   ]
  },
  {
   "cell_type": "markdown",
   "metadata": {},
   "source": [
    "### MONTO_PRESTAMO"
   ]
  },
  {
   "cell_type": "code",
   "execution_count": 120,
   "metadata": {},
   "outputs": [
    {
     "data": {
      "text/plain": [
       "count      9734.000000\n",
       "mean       5997.804119\n",
       "std       11111.069155\n",
       "min         200.000000\n",
       "25%        1300.000000\n",
       "50%        2735.000000\n",
       "75%        5500.000000\n",
       "max      450000.000000\n",
       "Name: MONTO_PRESTAMO, dtype: float64"
      ]
     },
     "execution_count": 120,
     "metadata": {},
     "output_type": "execute_result"
    }
   ],
   "source": [
    "data.MONTO_PRESTAMO.describe()"
   ]
  },
  {
   "cell_type": "code",
   "execution_count": 121,
   "metadata": {},
   "outputs": [],
   "source": [
    "labels = [i for i in range(0, 15)]\n",
    "data['M_PRESTAMO'] = pd.qcut(data['MONTO_PRESTAMO'], 15, labels=labels)"
   ]
  },
  {
   "cell_type": "code",
   "execution_count": 122,
   "metadata": {},
   "outputs": [],
   "source": [
    "min_max_list = min_max_per_category(data, 'M_PRESTAMO', 'MONTO_PRESTAMO', labels)\n",
    "label_to_min_max = dict(zip(labels, min_max_list))\n",
    "data['M_PRESTAMO'] = data['M_PRESTAMO'].map(label_to_min_max)"
   ]
  },
  {
   "cell_type": "code",
   "execution_count": 123,
   "metadata": {},
   "outputs": [
    {
     "data": {
      "text/html": [
       "<div>\n",
       "<style scoped>\n",
       "    .dataframe tbody tr th:only-of-type {\n",
       "        vertical-align: middle;\n",
       "    }\n",
       "\n",
       "    .dataframe tbody tr th {\n",
       "        vertical-align: top;\n",
       "    }\n",
       "\n",
       "    .dataframe thead th {\n",
       "        text-align: right;\n",
       "    }\n",
       "</style>\n",
       "<table border=\"1\" class=\"dataframe\">\n",
       "  <thead>\n",
       "    <tr style=\"text-align: right;\">\n",
       "      <th></th>\n",
       "      <th>MONTO_PRESTAMO</th>\n",
       "      <th>M_PRESTAMO</th>\n",
       "    </tr>\n",
       "  </thead>\n",
       "  <tbody>\n",
       "    <tr>\n",
       "      <th>1974</th>\n",
       "      <td>1760.00</td>\n",
       "      <td>1510.0-2000.0</td>\n",
       "    </tr>\n",
       "    <tr>\n",
       "      <th>6463</th>\n",
       "      <td>2665.65</td>\n",
       "      <td>2300.0-3030.0</td>\n",
       "    </tr>\n",
       "    <tr>\n",
       "      <th>7571</th>\n",
       "      <td>2245.00</td>\n",
       "      <td>2210.0-2290.0</td>\n",
       "    </tr>\n",
       "    <tr>\n",
       "      <th>2142</th>\n",
       "      <td>16620.00</td>\n",
       "      <td>10125.0-20000.0</td>\n",
       "    </tr>\n",
       "    <tr>\n",
       "      <th>2852</th>\n",
       "      <td>2200.00</td>\n",
       "      <td>2000.0-2200.0</td>\n",
       "    </tr>\n",
       "    <tr>\n",
       "      <th>8095</th>\n",
       "      <td>6630.00</td>\n",
       "      <td>5510.0-7000.0</td>\n",
       "    </tr>\n",
       "    <tr>\n",
       "      <th>2386</th>\n",
       "      <td>3000.00</td>\n",
       "      <td>2300.0-3030.0</td>\n",
       "    </tr>\n",
       "    <tr>\n",
       "      <th>4529</th>\n",
       "      <td>3060.00</td>\n",
       "      <td>3035.0-3360.0</td>\n",
       "    </tr>\n",
       "    <tr>\n",
       "      <th>7623</th>\n",
       "      <td>2040.00</td>\n",
       "      <td>2000.0-2200.0</td>\n",
       "    </tr>\n",
       "    <tr>\n",
       "      <th>2020</th>\n",
       "      <td>1670.00</td>\n",
       "      <td>1510.0-2000.0</td>\n",
       "    </tr>\n",
       "  </tbody>\n",
       "</table>\n",
       "</div>"
      ],
      "text/plain": [
       "      MONTO_PRESTAMO       M_PRESTAMO\n",
       "1974         1760.00    1510.0-2000.0\n",
       "6463         2665.65    2300.0-3030.0\n",
       "7571         2245.00    2210.0-2290.0\n",
       "2142        16620.00  10125.0-20000.0\n",
       "2852         2200.00    2000.0-2200.0\n",
       "8095         6630.00    5510.0-7000.0\n",
       "2386         3000.00    2300.0-3030.0\n",
       "4529         3060.00    3035.0-3360.0\n",
       "7623         2040.00    2000.0-2200.0\n",
       "2020         1670.00    1510.0-2000.0"
      ]
     },
     "execution_count": 123,
     "metadata": {},
     "output_type": "execute_result"
    }
   ],
   "source": [
    "data[['MONTO_PRESTAMO', 'M_PRESTAMO']].sample(10)"
   ]
  },
  {
   "cell_type": "markdown",
   "metadata": {},
   "source": [
    "### SALDO_PRESTAMO"
   ]
  },
  {
   "cell_type": "code",
   "execution_count": 124,
   "metadata": {},
   "outputs": [
    {
     "data": {
      "text/plain": [
       "count      9734.000000\n",
       "mean       3476.077214\n",
       "std        6708.486439\n",
       "min           0.000000\n",
       "25%         610.610000\n",
       "50%        1450.330000\n",
       "75%        3381.252500\n",
       "max      177657.170000\n",
       "Name: SALDO_PRESTAMO, dtype: float64"
      ]
     },
     "execution_count": 124,
     "metadata": {},
     "output_type": "execute_result"
    }
   ],
   "source": [
    "data.SALDO_PRESTAMO.describe()"
   ]
  },
  {
   "cell_type": "code",
   "execution_count": 125,
   "metadata": {},
   "outputs": [],
   "source": [
    "labels = [i for i in range(0, 9)]\n",
    "data['S_PRESTAMO'] = pd.qcut(data['SALDO_PRESTAMO'], 9, labels=labels)"
   ]
  },
  {
   "cell_type": "code",
   "execution_count": 126,
   "metadata": {},
   "outputs": [],
   "source": [
    "min_max_list = min_max_per_category(data, 'S_PRESTAMO', 'SALDO_PRESTAMO', labels)\n",
    "label_to_min_max = dict(zip(labels, min_max_list))\n",
    "data['S_PRESTAMO'] = data['S_PRESTAMO'].map(label_to_min_max)"
   ]
  },
  {
   "cell_type": "code",
   "execution_count": 127,
   "metadata": {},
   "outputs": [
    {
     "data": {
      "text/html": [
       "<div>\n",
       "<style scoped>\n",
       "    .dataframe tbody tr th:only-of-type {\n",
       "        vertical-align: middle;\n",
       "    }\n",
       "\n",
       "    .dataframe tbody tr th {\n",
       "        vertical-align: top;\n",
       "    }\n",
       "\n",
       "    .dataframe thead th {\n",
       "        text-align: right;\n",
       "    }\n",
       "</style>\n",
       "<table border=\"1\" class=\"dataframe\">\n",
       "  <thead>\n",
       "    <tr style=\"text-align: right;\">\n",
       "      <th></th>\n",
       "      <th>SALDO_PRESTAMO</th>\n",
       "      <th>S_PRESTAMO</th>\n",
       "    </tr>\n",
       "  </thead>\n",
       "  <tbody>\n",
       "    <tr>\n",
       "      <th>7398</th>\n",
       "      <td>3363.34</td>\n",
       "      <td>2460.0-3853.0</td>\n",
       "    </tr>\n",
       "    <tr>\n",
       "      <th>6164</th>\n",
       "      <td>1065.26</td>\n",
       "      <td>845.0-1160.0</td>\n",
       "    </tr>\n",
       "    <tr>\n",
       "      <th>4735</th>\n",
       "      <td>218.97</td>\n",
       "      <td>34.0-534.0</td>\n",
       "    </tr>\n",
       "    <tr>\n",
       "      <th>7040</th>\n",
       "      <td>0.00</td>\n",
       "      <td>0.0-31.0</td>\n",
       "    </tr>\n",
       "    <tr>\n",
       "      <th>2890</th>\n",
       "      <td>4860.63</td>\n",
       "      <td>3855.0-7832.0</td>\n",
       "    </tr>\n",
       "    <tr>\n",
       "      <th>4513</th>\n",
       "      <td>19286.44</td>\n",
       "      <td>7832.0-177657.0</td>\n",
       "    </tr>\n",
       "    <tr>\n",
       "      <th>520</th>\n",
       "      <td>205.43</td>\n",
       "      <td>34.0-534.0</td>\n",
       "    </tr>\n",
       "    <tr>\n",
       "      <th>6576</th>\n",
       "      <td>1210.99</td>\n",
       "      <td>1161.0-1721.0</td>\n",
       "    </tr>\n",
       "    <tr>\n",
       "      <th>9119</th>\n",
       "      <td>1747.06</td>\n",
       "      <td>1723.0-2460.0</td>\n",
       "    </tr>\n",
       "    <tr>\n",
       "      <th>3737</th>\n",
       "      <td>3295.76</td>\n",
       "      <td>2460.0-3853.0</td>\n",
       "    </tr>\n",
       "  </tbody>\n",
       "</table>\n",
       "</div>"
      ],
      "text/plain": [
       "      SALDO_PRESTAMO       S_PRESTAMO\n",
       "7398         3363.34    2460.0-3853.0\n",
       "6164         1065.26     845.0-1160.0\n",
       "4735          218.97       34.0-534.0\n",
       "7040            0.00         0.0-31.0\n",
       "2890         4860.63    3855.0-7832.0\n",
       "4513        19286.44  7832.0-177657.0\n",
       "520           205.43       34.0-534.0\n",
       "6576         1210.99    1161.0-1721.0\n",
       "9119         1747.06    1723.0-2460.0\n",
       "3737         3295.76    2460.0-3853.0"
      ]
     },
     "execution_count": 127,
     "metadata": {},
     "output_type": "execute_result"
    }
   ],
   "source": [
    "data[['SALDO_PRESTAMO', 'S_PRESTAMO']].sample(10)"
   ]
  },
  {
   "cell_type": "code",
   "execution_count": 128,
   "metadata": {},
   "outputs": [
    {
     "data": {
      "text/plain": [
       "S_PRESTAMO\n",
       "845.0-1160.0       1086\n",
       "0.0-31.0           1082\n",
       "535.0-845.0        1082\n",
       "2460.0-3853.0      1082\n",
       "7832.0-177657.0    1082\n",
       "34.0-534.0         1081\n",
       "1723.0-2460.0      1081\n",
       "3855.0-7832.0      1081\n",
       "1161.0-1721.0      1077\n",
       "Name: count, dtype: int64"
      ]
     },
     "execution_count": 128,
     "metadata": {},
     "output_type": "execute_result"
    }
   ],
   "source": [
    "data.S_PRESTAMO.value_counts()"
   ]
  },
  {
   "cell_type": "code",
   "execution_count": 129,
   "metadata": {},
   "outputs": [],
   "source": [
    "mask = data['SALDO_PRESTAMO'] != 0\n",
    "data['S_PRESTAMO'] = data.loc[mask, 'S_PRESTAMO'].ffill()\n",
    "data['S_PRESTAMO'] = data['S_PRESTAMO'].cat.add_categories(['0'])\n",
    "data['S_PRESTAMO'] = data['S_PRESTAMO'].fillna('0')"
   ]
  },
  {
   "cell_type": "code",
   "execution_count": 130,
   "metadata": {},
   "outputs": [],
   "source": [
    "data.loc[data['S_PRESTAMO'].isin(['0.0-31.0', '34.0-534.0']), 'S_PRESTAMO'] = np.nan"
   ]
  },
  {
   "cell_type": "code",
   "execution_count": 131,
   "metadata": {},
   "outputs": [
    {
     "name": "stderr",
     "output_type": "stream",
     "text": [
      "C:\\Users\\LAPTOP\\AppData\\Local\\Temp\\ipykernel_9252\\3447588833.py:3: FutureWarning: The behavior of Series.replace (and DataFrame.replace) with CategoricalDtype is deprecated. In a future version, replace will only be used for cases that preserve the categories. To change the categories, use ser.cat.rename_categories instead.\n",
      "  data['S_PRESTAMO']=data['S_PRESTAMO'].replace(['0.0-31.0', '34.0-534.0'], np.nan)\n"
     ]
    }
   ],
   "source": [
    "data['S_PRESTAMO'] = data['S_PRESTAMO'].cat.add_categories(['1.0-534.0'])\n",
    "data['S_PRESTAMO'] = data['S_PRESTAMO'].fillna('1.0-534.0')\n",
    "data['S_PRESTAMO']=data['S_PRESTAMO'].replace(['0.0-31.0', '34.0-534.0'], np.nan)"
   ]
  },
  {
   "cell_type": "code",
   "execution_count": 132,
   "metadata": {},
   "outputs": [
    {
     "data": {
      "text/html": [
       "<div>\n",
       "<style scoped>\n",
       "    .dataframe tbody tr th:only-of-type {\n",
       "        vertical-align: middle;\n",
       "    }\n",
       "\n",
       "    .dataframe tbody tr th {\n",
       "        vertical-align: top;\n",
       "    }\n",
       "\n",
       "    .dataframe thead th {\n",
       "        text-align: right;\n",
       "    }\n",
       "</style>\n",
       "<table border=\"1\" class=\"dataframe\">\n",
       "  <thead>\n",
       "    <tr style=\"text-align: right;\">\n",
       "      <th></th>\n",
       "      <th>SALDO_PRESTAMO</th>\n",
       "      <th>S_PRESTAMO</th>\n",
       "    </tr>\n",
       "  </thead>\n",
       "  <tbody>\n",
       "    <tr>\n",
       "      <th>2865</th>\n",
       "      <td>8898.56</td>\n",
       "      <td>7832.0-177657.0</td>\n",
       "    </tr>\n",
       "    <tr>\n",
       "      <th>4589</th>\n",
       "      <td>0.00</td>\n",
       "      <td>0</td>\n",
       "    </tr>\n",
       "    <tr>\n",
       "      <th>4418</th>\n",
       "      <td>188.46</td>\n",
       "      <td>1.0-534.0</td>\n",
       "    </tr>\n",
       "    <tr>\n",
       "      <th>2661</th>\n",
       "      <td>3854.80</td>\n",
       "      <td>3855.0-7832.0</td>\n",
       "    </tr>\n",
       "    <tr>\n",
       "      <th>6641</th>\n",
       "      <td>2002.94</td>\n",
       "      <td>1723.0-2460.0</td>\n",
       "    </tr>\n",
       "    <tr>\n",
       "      <th>6003</th>\n",
       "      <td>0.00</td>\n",
       "      <td>0</td>\n",
       "    </tr>\n",
       "    <tr>\n",
       "      <th>1943</th>\n",
       "      <td>1160.00</td>\n",
       "      <td>845.0-1160.0</td>\n",
       "    </tr>\n",
       "    <tr>\n",
       "      <th>3651</th>\n",
       "      <td>544.72</td>\n",
       "      <td>535.0-845.0</td>\n",
       "    </tr>\n",
       "    <tr>\n",
       "      <th>4921</th>\n",
       "      <td>114.96</td>\n",
       "      <td>1.0-534.0</td>\n",
       "    </tr>\n",
       "    <tr>\n",
       "      <th>137</th>\n",
       "      <td>491.42</td>\n",
       "      <td>1.0-534.0</td>\n",
       "    </tr>\n",
       "    <tr>\n",
       "      <th>4182</th>\n",
       "      <td>13463.74</td>\n",
       "      <td>7832.0-177657.0</td>\n",
       "    </tr>\n",
       "    <tr>\n",
       "      <th>9063</th>\n",
       "      <td>1589.90</td>\n",
       "      <td>1161.0-1721.0</td>\n",
       "    </tr>\n",
       "    <tr>\n",
       "      <th>8839</th>\n",
       "      <td>735.46</td>\n",
       "      <td>535.0-845.0</td>\n",
       "    </tr>\n",
       "    <tr>\n",
       "      <th>9494</th>\n",
       "      <td>1991.84</td>\n",
       "      <td>1723.0-2460.0</td>\n",
       "    </tr>\n",
       "    <tr>\n",
       "      <th>7694</th>\n",
       "      <td>578.56</td>\n",
       "      <td>535.0-845.0</td>\n",
       "    </tr>\n",
       "  </tbody>\n",
       "</table>\n",
       "</div>"
      ],
      "text/plain": [
       "      SALDO_PRESTAMO       S_PRESTAMO\n",
       "2865         8898.56  7832.0-177657.0\n",
       "4589            0.00                0\n",
       "4418          188.46        1.0-534.0\n",
       "2661         3854.80    3855.0-7832.0\n",
       "6641         2002.94    1723.0-2460.0\n",
       "6003            0.00                0\n",
       "1943         1160.00     845.0-1160.0\n",
       "3651          544.72      535.0-845.0\n",
       "4921          114.96        1.0-534.0\n",
       "137           491.42        1.0-534.0\n",
       "4182        13463.74  7832.0-177657.0\n",
       "9063         1589.90    1161.0-1721.0\n",
       "8839          735.46      535.0-845.0\n",
       "9494         1991.84    1723.0-2460.0\n",
       "7694          578.56      535.0-845.0"
      ]
     },
     "execution_count": 132,
     "metadata": {},
     "output_type": "execute_result"
    }
   ],
   "source": [
    "data[['SALDO_PRESTAMO','S_PRESTAMO']].sample(15)"
   ]
  },
  {
   "cell_type": "code",
   "execution_count": 133,
   "metadata": {},
   "outputs": [
    {
     "data": {
      "text/plain": [
       "S_PRESTAMO\n",
       "1.0-534.0          1112\n",
       "845.0-1160.0       1086\n",
       "535.0-845.0        1082\n",
       "2460.0-3853.0      1082\n",
       "7832.0-177657.0    1082\n",
       "1723.0-2460.0      1081\n",
       "3855.0-7832.0      1081\n",
       "1161.0-1721.0      1077\n",
       "0                  1051\n",
       "Name: count, dtype: int64"
      ]
     },
     "execution_count": 133,
     "metadata": {},
     "output_type": "execute_result"
    }
   ],
   "source": [
    "data.S_PRESTAMO.value_counts()"
   ]
  },
  {
   "cell_type": "markdown",
   "metadata": {},
   "source": [
    "### NRO_REPROGRAMACIONES"
   ]
  },
  {
   "cell_type": "code",
   "execution_count": 134,
   "metadata": {},
   "outputs": [
    {
     "data": {
      "text/plain": [
       "count    3823.000000\n",
       "mean        2.191734\n",
       "std         1.489582\n",
       "min         0.000000\n",
       "25%         1.000000\n",
       "50%         2.000000\n",
       "75%         3.000000\n",
       "max        13.000000\n",
       "Name: NRO_REPRO, dtype: float64"
      ]
     },
     "execution_count": 134,
     "metadata": {},
     "output_type": "execute_result"
    }
   ],
   "source": [
    "data.NRO_REPRO.describe()"
   ]
  },
  {
   "cell_type": "code",
   "execution_count": 135,
   "metadata": {},
   "outputs": [],
   "source": [
    "data['IS_REPRO'] = data['NRO_REPRO'].apply(lambda x: 1 if x >= 1 else 0)"
   ]
  },
  {
   "cell_type": "markdown",
   "metadata": {},
   "source": [
    "### RESUMEN"
   ]
  },
  {
   "cell_type": "code",
   "execution_count": 136,
   "metadata": {},
   "outputs": [
    {
     "data": {
      "text/html": [
       "<div>\n",
       "<style scoped>\n",
       "    .dataframe tbody tr th:only-of-type {\n",
       "        vertical-align: middle;\n",
       "    }\n",
       "\n",
       "    .dataframe tbody tr th {\n",
       "        vertical-align: top;\n",
       "    }\n",
       "\n",
       "    .dataframe thead th {\n",
       "        text-align: right;\n",
       "    }\n",
       "</style>\n",
       "<table border=\"1\" class=\"dataframe\">\n",
       "  <thead>\n",
       "    <tr style=\"text-align: right;\">\n",
       "      <th></th>\n",
       "      <th>SOCIO</th>\n",
       "      <th>CUENTA</th>\n",
       "      <th>AGENCIA</th>\n",
       "      <th>TIPO_SOCIO</th>\n",
       "      <th>MONEDA</th>\n",
       "      <th>PAGARE</th>\n",
       "      <th>PRODUCTO</th>\n",
       "      <th>FEC_ULT_PAGO</th>\n",
       "      <th>TEA_INTERES</th>\n",
       "      <th>CUOTA_FIJA</th>\n",
       "      <th>...</th>\n",
       "      <th>MORA</th>\n",
       "      <th>TEA_ANUAL</th>\n",
       "      <th>CUO_FIJA</th>\n",
       "      <th>RANGO_EDAD</th>\n",
       "      <th>CUO_ATRASADAS</th>\n",
       "      <th>CUO_FALTANTES</th>\n",
       "      <th>DIAS_ATRASADOS</th>\n",
       "      <th>M_PRESTAMO</th>\n",
       "      <th>S_PRESTAMO</th>\n",
       "      <th>IS_REPRO</th>\n",
       "    </tr>\n",
       "  </thead>\n",
       "  <tbody>\n",
       "    <tr>\n",
       "      <th>8421</th>\n",
       "      <td>LAZARINOS JOBE, SUSANA</td>\n",
       "      <td>26722</td>\n",
       "      <td>98</td>\n",
       "      <td>1</td>\n",
       "      <td>S</td>\n",
       "      <td>06-0000123-24</td>\n",
       "      <td>PAGA DIARIO (CT)</td>\n",
       "      <td>2024-04-26</td>\n",
       "      <td>113.87</td>\n",
       "      <td>69.57</td>\n",
       "      <td>...</td>\n",
       "      <td>0</td>\n",
       "      <td>100.0-125.0</td>\n",
       "      <td>59.0-78.0</td>\n",
       "      <td>55-65</td>\n",
       "      <td>2-3</td>\n",
       "      <td>35-60</td>\n",
       "      <td>0</td>\n",
       "      <td>2300.0-3030.0</td>\n",
       "      <td>2460.0-3853.0</td>\n",
       "      <td>0</td>\n",
       "    </tr>\n",
       "    <tr>\n",
       "      <th>5239</th>\n",
       "      <td>NINA ROQUE, NAY RUTH</td>\n",
       "      <td>27681</td>\n",
       "      <td>3</td>\n",
       "      <td>1</td>\n",
       "      <td>S</td>\n",
       "      <td>03-0010605-24</td>\n",
       "      <td>PAGA DIARIO (CT)</td>\n",
       "      <td>2024-04-08</td>\n",
       "      <td>100.08</td>\n",
       "      <td>58.33</td>\n",
       "      <td>...</td>\n",
       "      <td>0</td>\n",
       "      <td>80.0-100.0</td>\n",
       "      <td>49.0-59.0</td>\n",
       "      <td>25-35</td>\n",
       "      <td>0</td>\n",
       "      <td>0</td>\n",
       "      <td>0</td>\n",
       "      <td>2000.0-2200.0</td>\n",
       "      <td>0</td>\n",
       "      <td>0</td>\n",
       "    </tr>\n",
       "    <tr>\n",
       "      <th>3258</th>\n",
       "      <td>PUMA GUZMAN, PAULINA</td>\n",
       "      <td>17740</td>\n",
       "      <td>2</td>\n",
       "      <td>1</td>\n",
       "      <td>S</td>\n",
       "      <td>02-0010024-24</td>\n",
       "      <td>MAS INCLUSIVO SEMANAL</td>\n",
       "      <td>2024-04-29</td>\n",
       "      <td>200.09</td>\n",
       "      <td>141.31</td>\n",
       "      <td>...</td>\n",
       "      <td>0</td>\n",
       "      <td>158.0-204.0</td>\n",
       "      <td>118.0-145.0</td>\n",
       "      <td>35-45</td>\n",
       "      <td>0</td>\n",
       "      <td>1-6</td>\n",
       "      <td>0</td>\n",
       "      <td>200.0-1015.0</td>\n",
       "      <td>535.0-845.0</td>\n",
       "      <td>0</td>\n",
       "    </tr>\n",
       "    <tr>\n",
       "      <th>5512</th>\n",
       "      <td>HERMOZA QUISPE, VALENTINA</td>\n",
       "      <td>26403</td>\n",
       "      <td>3</td>\n",
       "      <td>1</td>\n",
       "      <td>S</td>\n",
       "      <td>03-0010937-24</td>\n",
       "      <td>SEMANAL MICRO</td>\n",
       "      <td>2024-04-29</td>\n",
       "      <td>100.08</td>\n",
       "      <td>154.04</td>\n",
       "      <td>...</td>\n",
       "      <td>0</td>\n",
       "      <td>80.0-100.0</td>\n",
       "      <td>145.0-174.0</td>\n",
       "      <td>35-45</td>\n",
       "      <td>1</td>\n",
       "      <td>7-11</td>\n",
       "      <td>1-15</td>\n",
       "      <td>2000.0-2200.0</td>\n",
       "      <td>1161.0-1721.0</td>\n",
       "      <td>0</td>\n",
       "    </tr>\n",
       "    <tr>\n",
       "      <th>2716</th>\n",
       "      <td>OLLACHICA MAMANI, RODRIGO MISAEL</td>\n",
       "      <td>16095</td>\n",
       "      <td>1</td>\n",
       "      <td>1</td>\n",
       "      <td>S</td>\n",
       "      <td>01-016335-21</td>\n",
       "      <td>CREDITO DIGITAL</td>\n",
       "      <td>2022-09-02</td>\n",
       "      <td>58.27</td>\n",
       "      <td>163.41</td>\n",
       "      <td>...</td>\n",
       "      <td>1</td>\n",
       "      <td>49.0-60.0</td>\n",
       "      <td>145.0-174.0</td>\n",
       "      <td>18-25</td>\n",
       "      <td>4+</td>\n",
       "      <td>1-6</td>\n",
       "      <td>90+</td>\n",
       "      <td>1020.0-1100.0</td>\n",
       "      <td>535.0-845.0</td>\n",
       "      <td>0</td>\n",
       "    </tr>\n",
       "    <tr>\n",
       "      <th>945</th>\n",
       "      <td>BEDIA BARRETO, AYDEE</td>\n",
       "      <td>24209</td>\n",
       "      <td>1</td>\n",
       "      <td>1</td>\n",
       "      <td>S</td>\n",
       "      <td>01-0025051-23</td>\n",
       "      <td>MAS INCLUSIVO</td>\n",
       "      <td>2024-04-29</td>\n",
       "      <td>213.84</td>\n",
       "      <td>150.45</td>\n",
       "      <td>...</td>\n",
       "      <td>0</td>\n",
       "      <td>205.0-290.0</td>\n",
       "      <td>145.0-174.0</td>\n",
       "      <td>25-35</td>\n",
       "      <td>0</td>\n",
       "      <td>12-18</td>\n",
       "      <td>0</td>\n",
       "      <td>2000.0-2200.0</td>\n",
       "      <td>1723.0-2460.0</td>\n",
       "      <td>1</td>\n",
       "    </tr>\n",
       "    <tr>\n",
       "      <th>1087</th>\n",
       "      <td>SOTELO GOMEZ, MARYNILDA</td>\n",
       "      <td>27046</td>\n",
       "      <td>1</td>\n",
       "      <td>1</td>\n",
       "      <td>S</td>\n",
       "      <td>01-0025424-23</td>\n",
       "      <td>MAS VELOZ</td>\n",
       "      <td>2024-04-30</td>\n",
       "      <td>51.11</td>\n",
       "      <td>349.86</td>\n",
       "      <td>...</td>\n",
       "      <td>0</td>\n",
       "      <td>49.0-60.0</td>\n",
       "      <td>293.0-364.0</td>\n",
       "      <td>18-25</td>\n",
       "      <td>0</td>\n",
       "      <td>1-6</td>\n",
       "      <td>0</td>\n",
       "      <td>3035.0-3360.0</td>\n",
       "      <td>1723.0-2460.0</td>\n",
       "      <td>0</td>\n",
       "    </tr>\n",
       "    <tr>\n",
       "      <th>4277</th>\n",
       "      <td>CASTILLO HOLGADO, MARLENI</td>\n",
       "      <td>21932</td>\n",
       "      <td>2</td>\n",
       "      <td>1</td>\n",
       "      <td>S</td>\n",
       "      <td>02-009249-23</td>\n",
       "      <td>PAGA DIARIO (CT)</td>\n",
       "      <td>2024-04-30</td>\n",
       "      <td>101.22</td>\n",
       "      <td>261.11</td>\n",
       "      <td>...</td>\n",
       "      <td>0</td>\n",
       "      <td>100.0-125.0</td>\n",
       "      <td>240.0-293.0</td>\n",
       "      <td>55-65</td>\n",
       "      <td>0</td>\n",
       "      <td>35-60</td>\n",
       "      <td>0</td>\n",
       "      <td>7001.0-10120.0</td>\n",
       "      <td>3855.0-7832.0</td>\n",
       "      <td>1</td>\n",
       "    </tr>\n",
       "    <tr>\n",
       "      <th>6144</th>\n",
       "      <td>HUARCA OBLITAS, GABRIELA SHELEY</td>\n",
       "      <td>29409</td>\n",
       "      <td>4</td>\n",
       "      <td>1</td>\n",
       "      <td>S</td>\n",
       "      <td>04-0003636-24</td>\n",
       "      <td>MAS INCLUSIVO</td>\n",
       "      <td>2024-04-30</td>\n",
       "      <td>493.60</td>\n",
       "      <td>36.23</td>\n",
       "      <td>...</td>\n",
       "      <td>0</td>\n",
       "      <td>290.0-500.0</td>\n",
       "      <td>35.0-40.0</td>\n",
       "      <td>18-25</td>\n",
       "      <td>0</td>\n",
       "      <td>19-34</td>\n",
       "      <td>0</td>\n",
       "      <td>1110.0-1130.0</td>\n",
       "      <td>845.0-1160.0</td>\n",
       "      <td>0</td>\n",
       "    </tr>\n",
       "    <tr>\n",
       "      <th>8772</th>\n",
       "      <td>NEYRA VILCA, HUGO</td>\n",
       "      <td>27812</td>\n",
       "      <td>1</td>\n",
       "      <td>1</td>\n",
       "      <td>S</td>\n",
       "      <td>06-0001598-24</td>\n",
       "      <td>MAS INCLUSIVO</td>\n",
       "      <td>2024-04-12</td>\n",
       "      <td>405.11</td>\n",
       "      <td>49.22</td>\n",
       "      <td>...</td>\n",
       "      <td>0</td>\n",
       "      <td>290.0-500.0</td>\n",
       "      <td>49.0-59.0</td>\n",
       "      <td>25-35</td>\n",
       "      <td>2-3</td>\n",
       "      <td>12-18</td>\n",
       "      <td>0</td>\n",
       "      <td>1135.0-1510.0</td>\n",
       "      <td>535.0-845.0</td>\n",
       "      <td>1</td>\n",
       "    </tr>\n",
       "  </tbody>\n",
       "</table>\n",
       "<p>10 rows × 39 columns</p>\n",
       "</div>"
      ],
      "text/plain": [
       "                                 SOCIO  CUENTA  AGENCIA  TIPO_SOCIO MONEDA  \\\n",
       "8421            LAZARINOS JOBE, SUSANA   26722       98           1      S   \n",
       "5239              NINA ROQUE, NAY RUTH   27681        3           1      S   \n",
       "3258              PUMA GUZMAN, PAULINA   17740        2           1      S   \n",
       "5512         HERMOZA QUISPE, VALENTINA   26403        3           1      S   \n",
       "2716  OLLACHICA MAMANI, RODRIGO MISAEL   16095        1           1      S   \n",
       "945               BEDIA BARRETO, AYDEE   24209        1           1      S   \n",
       "1087           SOTELO GOMEZ, MARYNILDA   27046        1           1      S   \n",
       "4277         CASTILLO HOLGADO, MARLENI   21932        2           1      S   \n",
       "6144   HUARCA OBLITAS, GABRIELA SHELEY   29409        4           1      S   \n",
       "8772                 NEYRA VILCA, HUGO   27812        1           1      S   \n",
       "\n",
       "              PAGARE               PRODUCTO FEC_ULT_PAGO  TEA_INTERES  \\\n",
       "8421  06-0000123-24        PAGA DIARIO (CT)   2024-04-26       113.87   \n",
       "5239  03-0010605-24        PAGA DIARIO (CT)   2024-04-08       100.08   \n",
       "3258  02-0010024-24   MAS INCLUSIVO SEMANAL   2024-04-29       200.09   \n",
       "5512  03-0010937-24           SEMANAL MICRO   2024-04-29       100.08   \n",
       "2716  01-016335-21          CREDITO DIGITAL   2022-09-02        58.27   \n",
       "945   01-0025051-23           MAS INCLUSIVO   2024-04-29       213.84   \n",
       "1087  01-0025424-23               MAS VELOZ   2024-04-30        51.11   \n",
       "4277  02-009249-23         PAGA DIARIO (CT)   2024-04-30       101.22   \n",
       "6144  04-0003636-24           MAS INCLUSIVO   2024-04-30       493.60   \n",
       "8772  06-0001598-24           MAS INCLUSIVO   2024-04-12       405.11   \n",
       "\n",
       "      CUOTA_FIJA  ...  MORA    TEA_ANUAL     CUO_FIJA RANGO_EDAD  \\\n",
       "8421       69.57  ...     0  100.0-125.0    59.0-78.0      55-65   \n",
       "5239       58.33  ...     0   80.0-100.0    49.0-59.0      25-35   \n",
       "3258      141.31  ...     0  158.0-204.0  118.0-145.0      35-45   \n",
       "5512      154.04  ...     0   80.0-100.0  145.0-174.0      35-45   \n",
       "2716      163.41  ...     1    49.0-60.0  145.0-174.0      18-25   \n",
       "945       150.45  ...     0  205.0-290.0  145.0-174.0      25-35   \n",
       "1087      349.86  ...     0    49.0-60.0  293.0-364.0      18-25   \n",
       "4277      261.11  ...     0  100.0-125.0  240.0-293.0      55-65   \n",
       "6144       36.23  ...     0  290.0-500.0    35.0-40.0      18-25   \n",
       "8772       49.22  ...     0  290.0-500.0    49.0-59.0      25-35   \n",
       "\n",
       "     CUO_ATRASADAS CUO_FALTANTES DIAS_ATRASADOS      M_PRESTAMO  \\\n",
       "8421           2-3         35-60              0   2300.0-3030.0   \n",
       "5239             0             0              0   2000.0-2200.0   \n",
       "3258             0           1-6              0    200.0-1015.0   \n",
       "5512             1          7-11           1-15   2000.0-2200.0   \n",
       "2716            4+           1-6            90+   1020.0-1100.0   \n",
       "945              0         12-18              0   2000.0-2200.0   \n",
       "1087             0           1-6              0   3035.0-3360.0   \n",
       "4277             0         35-60              0  7001.0-10120.0   \n",
       "6144             0         19-34              0   1110.0-1130.0   \n",
       "8772           2-3         12-18              0   1135.0-1510.0   \n",
       "\n",
       "         S_PRESTAMO  IS_REPRO  \n",
       "8421  2460.0-3853.0         0  \n",
       "5239              0         0  \n",
       "3258    535.0-845.0         0  \n",
       "5512  1161.0-1721.0         0  \n",
       "2716    535.0-845.0         0  \n",
       "945   1723.0-2460.0         1  \n",
       "1087  1723.0-2460.0         0  \n",
       "4277  3855.0-7832.0         1  \n",
       "6144   845.0-1160.0         0  \n",
       "8772    535.0-845.0         1  \n",
       "\n",
       "[10 rows x 39 columns]"
      ]
     },
     "execution_count": 136,
     "metadata": {},
     "output_type": "execute_result"
    }
   ],
   "source": [
    "data.sample(10)"
   ]
  },
  {
   "cell_type": "code",
   "execution_count": 137,
   "metadata": {},
   "outputs": [],
   "source": [
    "data.drop(['TEA_INTERES','CUOTA_FIJA','EDAD','NCUO_ATRASADAS','CUO_FALTANTES_VIGENTES','NDIAS_ATRASADOS','MONTO_PRESTAMO','SALDO_PRESTAMO','NRO_REPRO'], axis=1, inplace = True)\n"
   ]
  },
  {
   "cell_type": "code",
   "execution_count": 138,
   "metadata": {},
   "outputs": [],
   "source": [
    "data.rename(index=str, columns={\n",
    "    'TEA_ANUAL': 'TEA_INTERES',\n",
    "    'CUO_FIJA': 'CUOTA_FIJA',\n",
    "    'RANGO_EDAD': 'EDAD',\n",
    "    'CUO_ATRASADAS':'NCUO_ATRASADAS',\n",
    "    'CUO_FALTANTES':'CUO_FALTANTES_VIGENTES',\n",
    "    'DIAS_ATRASADOS':'NDIAS_ATRASADOS',\n",
    "    'M_PRESTAMO':'MONTO_PRESTAMO',\n",
    "    'S_PRESTAMO':'SALDO_PRESTAMO'\n",
    "},inplace=True)"
   ]
  },
  {
   "cell_type": "code",
   "execution_count": 139,
   "metadata": {},
   "outputs": [],
   "source": [
    "data['TEA_INTERES'] = data['TEA_INTERES'].astype('object')\n",
    "data['CUOTA_FIJA'] = data['CUOTA_FIJA'].astype('object')\n",
    "data['EDAD'] = data['EDAD'].astype('object')\n",
    "data['NCUO_ATRASADAS'] = data['NCUO_ATRASADAS'].astype('object')\n",
    "data['CUO_FALTANTES_VIGENTES'] = data['CUO_FALTANTES_VIGENTES'].astype('object')\n",
    "data['NDIAS_ATRASADOS'] = data['NDIAS_ATRASADOS'].astype('object')\n",
    "data['MONTO_PRESTAMO'] = data['MONTO_PRESTAMO'].astype('object')\n",
    "data['SALDO_PRESTAMO'] = data['SALDO_PRESTAMO'].astype('object')"
   ]
  },
  {
   "cell_type": "code",
   "execution_count": 140,
   "metadata": {},
   "outputs": [
    {
     "name": "stdout",
     "output_type": "stream",
     "text": [
      "<class 'pandas.core.frame.DataFrame'>\n",
      "Index: 9734 entries, 0 to 9733\n",
      "Data columns (total 30 columns):\n",
      " #   Column                  Non-Null Count  Dtype \n",
      "---  ------                  --------------  ----- \n",
      " 0   SOCIO                   9734 non-null   object\n",
      " 1   CUENTA                  9734 non-null   int64 \n",
      " 2   AGENCIA                 9734 non-null   int64 \n",
      " 3   TIPO_SOCIO              9734 non-null   int64 \n",
      " 4   MONEDA                  9734 non-null   object\n",
      " 5   PAGARE                  9734 non-null   object\n",
      " 6   PRODUCTO                9734 non-null   object\n",
      " 7   FEC_ULT_PAGO            9734 non-null   object\n",
      " 8   DIAS                    9734 non-null   int64 \n",
      " 9   NOM_FRECUENCIA          9734 non-null   object\n",
      " 10  ESTADO_CIVIL            9734 non-null   object\n",
      " 11  SEXO                    9734 non-null   object\n",
      " 12  TIPO_VIVIENDA           9734 non-null   object\n",
      " 13  OTORGA                  9734 non-null   object\n",
      " 14  RIESGO_INDIVIDUAL       9734 non-null   object\n",
      " 15  ANA_ORIGEN              9734 non-null   object\n",
      " 16  ANA_ACTUAL              9734 non-null   object\n",
      " 17  PROFESION               9734 non-null   object\n",
      " 18  OCUPACION               9336 non-null   object\n",
      " 19  ACTIVIDAD_ECO           9734 non-null   object\n",
      " 20  MORA                    9734 non-null   int32 \n",
      " 21  TEA_INTERES             9734 non-null   object\n",
      " 22  CUOTA_FIJA              9734 non-null   object\n",
      " 23  EDAD                    9734 non-null   object\n",
      " 24  NCUO_ATRASADAS          9734 non-null   object\n",
      " 25  CUO_FALTANTES_VIGENTES  9734 non-null   object\n",
      " 26  NDIAS_ATRASADOS         9734 non-null   object\n",
      " 27  MONTO_PRESTAMO          9734 non-null   object\n",
      " 28  SALDO_PRESTAMO          9734 non-null   object\n",
      " 29  IS_REPRO                9734 non-null   int64 \n",
      "dtypes: int32(1), int64(5), object(24)\n",
      "memory usage: 2.3+ MB\n"
     ]
    }
   ],
   "source": [
    "data.info()"
   ]
  },
  {
   "cell_type": "code",
   "execution_count": 141,
   "metadata": {},
   "outputs": [
    {
     "data": {
      "text/html": [
       "<div>\n",
       "<style scoped>\n",
       "    .dataframe tbody tr th:only-of-type {\n",
       "        vertical-align: middle;\n",
       "    }\n",
       "\n",
       "    .dataframe tbody tr th {\n",
       "        vertical-align: top;\n",
       "    }\n",
       "\n",
       "    .dataframe thead th {\n",
       "        text-align: right;\n",
       "    }\n",
       "</style>\n",
       "<table border=\"1\" class=\"dataframe\">\n",
       "  <thead>\n",
       "    <tr style=\"text-align: right;\">\n",
       "      <th></th>\n",
       "      <th>SOCIO</th>\n",
       "      <th>CUENTA</th>\n",
       "      <th>AGENCIA</th>\n",
       "      <th>TIPO_SOCIO</th>\n",
       "      <th>MONEDA</th>\n",
       "      <th>PAGARE</th>\n",
       "      <th>PRODUCTO</th>\n",
       "      <th>FEC_ULT_PAGO</th>\n",
       "      <th>DIAS</th>\n",
       "      <th>NOM_FRECUENCIA</th>\n",
       "      <th>...</th>\n",
       "      <th>MORA</th>\n",
       "      <th>TEA_INTERES</th>\n",
       "      <th>CUOTA_FIJA</th>\n",
       "      <th>EDAD</th>\n",
       "      <th>NCUO_ATRASADAS</th>\n",
       "      <th>CUO_FALTANTES_VIGENTES</th>\n",
       "      <th>NDIAS_ATRASADOS</th>\n",
       "      <th>MONTO_PRESTAMO</th>\n",
       "      <th>SALDO_PRESTAMO</th>\n",
       "      <th>IS_REPRO</th>\n",
       "    </tr>\n",
       "  </thead>\n",
       "  <tbody>\n",
       "    <tr>\n",
       "      <th>8297</th>\n",
       "      <td>ALATA MESCCO, JHUNIOR</td>\n",
       "      <td>22354</td>\n",
       "      <td>5</td>\n",
       "      <td>1</td>\n",
       "      <td>S</td>\n",
       "      <td>05-004985-24</td>\n",
       "      <td>PAGA DIARIO (CT)</td>\n",
       "      <td>2024-04-30</td>\n",
       "      <td>1</td>\n",
       "      <td>DIAS</td>\n",
       "      <td>...</td>\n",
       "      <td>0</td>\n",
       "      <td>80.0-100.0</td>\n",
       "      <td>29.0-35.0</td>\n",
       "      <td>25-35</td>\n",
       "      <td>0</td>\n",
       "      <td>61-495</td>\n",
       "      <td>0</td>\n",
       "      <td>3370.0-4500.0</td>\n",
       "      <td>2460.0-3853.0</td>\n",
       "      <td>0</td>\n",
       "    </tr>\n",
       "    <tr>\n",
       "      <th>571</th>\n",
       "      <td>AGUIRRE GARCIA, ANA MARIA</td>\n",
       "      <td>22606</td>\n",
       "      <td>1</td>\n",
       "      <td>1</td>\n",
       "      <td>S</td>\n",
       "      <td>01-0023593-23</td>\n",
       "      <td>MAS INCLUSIVO</td>\n",
       "      <td>2023-12-30</td>\n",
       "      <td>1</td>\n",
       "      <td>DIAS</td>\n",
       "      <td>...</td>\n",
       "      <td>1</td>\n",
       "      <td>158.0-204.0</td>\n",
       "      <td>78.0-100.0</td>\n",
       "      <td>35-45</td>\n",
       "      <td>4+</td>\n",
       "      <td>19-34</td>\n",
       "      <td>90+</td>\n",
       "      <td>1510.0-2000.0</td>\n",
       "      <td>1161.0-1721.0</td>\n",
       "      <td>1</td>\n",
       "    </tr>\n",
       "    <tr>\n",
       "      <th>4985</th>\n",
       "      <td>CHACMANI NOA, SOFIA</td>\n",
       "      <td>17797</td>\n",
       "      <td>3</td>\n",
       "      <td>1</td>\n",
       "      <td>S</td>\n",
       "      <td>03-0008049-23</td>\n",
       "      <td>MAS INCLUSIVO</td>\n",
       "      <td>2024-04-06</td>\n",
       "      <td>1</td>\n",
       "      <td>DIAS</td>\n",
       "      <td>...</td>\n",
       "      <td>0</td>\n",
       "      <td>126.0-157.0</td>\n",
       "      <td>29.0-35.0</td>\n",
       "      <td>45-55</td>\n",
       "      <td>0</td>\n",
       "      <td>0</td>\n",
       "      <td>0</td>\n",
       "      <td>2300.0-3030.0</td>\n",
       "      <td>0</td>\n",
       "      <td>0</td>\n",
       "    </tr>\n",
       "    <tr>\n",
       "      <th>7810</th>\n",
       "      <td>ENCISO CARPIO, ALESSANDRA IVONN</td>\n",
       "      <td>26781</td>\n",
       "      <td>5</td>\n",
       "      <td>1</td>\n",
       "      <td>S</td>\n",
       "      <td>05-004036-23</td>\n",
       "      <td>CAMPAÑA</td>\n",
       "      <td>2024-04-30</td>\n",
       "      <td>30</td>\n",
       "      <td>MESES</td>\n",
       "      <td>...</td>\n",
       "      <td>1</td>\n",
       "      <td>0.0-41.0</td>\n",
       "      <td>473.0-642.0</td>\n",
       "      <td>25-35</td>\n",
       "      <td>2-3</td>\n",
       "      <td>19-34</td>\n",
       "      <td>45-60</td>\n",
       "      <td>7001.0-10120.0</td>\n",
       "      <td>7832.0-177657.0</td>\n",
       "      <td>0</td>\n",
       "    </tr>\n",
       "    <tr>\n",
       "      <th>7666</th>\n",
       "      <td>RIOZEWSKY ESCALANTE, BRABAHAN</td>\n",
       "      <td>25810</td>\n",
       "      <td>5</td>\n",
       "      <td>1</td>\n",
       "      <td>S</td>\n",
       "      <td>05-003473-23</td>\n",
       "      <td>PAGA DIARIO (CT)</td>\n",
       "      <td>2023-09-30</td>\n",
       "      <td>1</td>\n",
       "      <td>DIAS</td>\n",
       "      <td>...</td>\n",
       "      <td>1</td>\n",
       "      <td>100.0-125.0</td>\n",
       "      <td>20.0-23.0</td>\n",
       "      <td>45-55</td>\n",
       "      <td>2-3</td>\n",
       "      <td>35-60</td>\n",
       "      <td>15-45</td>\n",
       "      <td>1110.0-1130.0</td>\n",
       "      <td>535.0-845.0</td>\n",
       "      <td>1</td>\n",
       "    </tr>\n",
       "    <tr>\n",
       "      <th>1338</th>\n",
       "      <td>RIVERA ROMERO, DANIEL MANUEL</td>\n",
       "      <td>27607</td>\n",
       "      <td>1</td>\n",
       "      <td>1</td>\n",
       "      <td>S</td>\n",
       "      <td>01-0025906-23</td>\n",
       "      <td>RAPIDIN (CT)</td>\n",
       "      <td>2024-03-30</td>\n",
       "      <td>30</td>\n",
       "      <td>MESES</td>\n",
       "      <td>...</td>\n",
       "      <td>1</td>\n",
       "      <td>126.0-157.0</td>\n",
       "      <td>293.0-364.0</td>\n",
       "      <td>18-25</td>\n",
       "      <td>2-3</td>\n",
       "      <td>7-11</td>\n",
       "      <td>60-90</td>\n",
       "      <td>2210.0-2290.0</td>\n",
       "      <td>1723.0-2460.0</td>\n",
       "      <td>0</td>\n",
       "    </tr>\n",
       "    <tr>\n",
       "      <th>42</th>\n",
       "      <td>GONZALES BONILLA, LUISANA</td>\n",
       "      <td>26833</td>\n",
       "      <td>1</td>\n",
       "      <td>1</td>\n",
       "      <td>S</td>\n",
       "      <td>01-0000595-23</td>\n",
       "      <td>MAS INCLUSIVO</td>\n",
       "      <td>2024-04-30</td>\n",
       "      <td>1</td>\n",
       "      <td>DIAS</td>\n",
       "      <td>...</td>\n",
       "      <td>0</td>\n",
       "      <td>205.0-290.0</td>\n",
       "      <td>40.0-49.0</td>\n",
       "      <td>55-65</td>\n",
       "      <td>4+</td>\n",
       "      <td>1-6</td>\n",
       "      <td>0</td>\n",
       "      <td>1110.0-1130.0</td>\n",
       "      <td>1.0-534.0</td>\n",
       "      <td>1</td>\n",
       "    </tr>\n",
       "    <tr>\n",
       "      <th>7669</th>\n",
       "      <td>HUAMAN AYQUIPA, ANGGIE LUBETH</td>\n",
       "      <td>24129</td>\n",
       "      <td>5</td>\n",
       "      <td>1</td>\n",
       "      <td>S</td>\n",
       "      <td>05-003486-23</td>\n",
       "      <td>RAPIDIN (CT)</td>\n",
       "      <td>2024-03-30</td>\n",
       "      <td>15</td>\n",
       "      <td>QUINCENAS</td>\n",
       "      <td>...</td>\n",
       "      <td>0</td>\n",
       "      <td>41.0-49.0</td>\n",
       "      <td>59.0-78.0</td>\n",
       "      <td>18-25</td>\n",
       "      <td>0</td>\n",
       "      <td>19-34</td>\n",
       "      <td>0</td>\n",
       "      <td>3370.0-4500.0</td>\n",
       "      <td>1161.0-1721.0</td>\n",
       "      <td>1</td>\n",
       "    </tr>\n",
       "    <tr>\n",
       "      <th>4084</th>\n",
       "      <td>HUAMAN MISME, ALFREDO</td>\n",
       "      <td>22591</td>\n",
       "      <td>2</td>\n",
       "      <td>1</td>\n",
       "      <td>S</td>\n",
       "      <td>02-008602-23</td>\n",
       "      <td>PAGA DIARIO (CT)</td>\n",
       "      <td>2024-04-17</td>\n",
       "      <td>1</td>\n",
       "      <td>DIAS</td>\n",
       "      <td>...</td>\n",
       "      <td>0</td>\n",
       "      <td>60.0-80.0</td>\n",
       "      <td>23.0-29.0</td>\n",
       "      <td>45-55</td>\n",
       "      <td>1</td>\n",
       "      <td>61-495</td>\n",
       "      <td>0</td>\n",
       "      <td>5510.0-7000.0</td>\n",
       "      <td>2460.0-3853.0</td>\n",
       "      <td>1</td>\n",
       "    </tr>\n",
       "    <tr>\n",
       "      <th>4598</th>\n",
       "      <td>CHUQUIPALLA CRUZ, YENI SANDRA</td>\n",
       "      <td>22322</td>\n",
       "      <td>2</td>\n",
       "      <td>1</td>\n",
       "      <td>S</td>\n",
       "      <td>02-009762-24</td>\n",
       "      <td>SEMANAL MICRO</td>\n",
       "      <td>2024-04-26</td>\n",
       "      <td>7</td>\n",
       "      <td>SEMANAS</td>\n",
       "      <td>...</td>\n",
       "      <td>0</td>\n",
       "      <td>80.0-100.0</td>\n",
       "      <td>473.0-642.0</td>\n",
       "      <td>25-35</td>\n",
       "      <td>0</td>\n",
       "      <td>0</td>\n",
       "      <td>0</td>\n",
       "      <td>2000.0-2200.0</td>\n",
       "      <td>0</td>\n",
       "      <td>0</td>\n",
       "    </tr>\n",
       "  </tbody>\n",
       "</table>\n",
       "<p>10 rows × 30 columns</p>\n",
       "</div>"
      ],
      "text/plain": [
       "                                SOCIO  CUENTA  AGENCIA  TIPO_SOCIO MONEDA  \\\n",
       "8297            ALATA MESCCO, JHUNIOR   22354        5           1      S   \n",
       "571         AGUIRRE GARCIA, ANA MARIA   22606        1           1      S   \n",
       "4985              CHACMANI NOA, SOFIA   17797        3           1      S   \n",
       "7810  ENCISO CARPIO, ALESSANDRA IVONN   26781        5           1      S   \n",
       "7666    RIOZEWSKY ESCALANTE, BRABAHAN   25810        5           1      S   \n",
       "1338     RIVERA ROMERO, DANIEL MANUEL   27607        1           1      S   \n",
       "42          GONZALES BONILLA, LUISANA   26833        1           1      S   \n",
       "7669    HUAMAN AYQUIPA, ANGGIE LUBETH   24129        5           1      S   \n",
       "4084            HUAMAN MISME, ALFREDO   22591        2           1      S   \n",
       "4598    CHUQUIPALLA CRUZ, YENI SANDRA   22322        2           1      S   \n",
       "\n",
       "              PAGARE          PRODUCTO FEC_ULT_PAGO  DIAS NOM_FRECUENCIA  ...  \\\n",
       "8297  05-004985-24    PAGA DIARIO (CT)   2024-04-30     1          DIAS   ...   \n",
       "571   01-0023593-23      MAS INCLUSIVO   2023-12-30     1          DIAS   ...   \n",
       "4985  03-0008049-23      MAS INCLUSIVO   2024-04-06     1          DIAS   ...   \n",
       "7810  05-004036-23             CAMPAÑA   2024-04-30    30          MESES  ...   \n",
       "7666  05-003473-23    PAGA DIARIO (CT)   2023-09-30     1          DIAS   ...   \n",
       "1338  01-0025906-23       RAPIDIN (CT)   2024-03-30    30          MESES  ...   \n",
       "42    01-0000595-23      MAS INCLUSIVO   2024-04-30     1          DIAS   ...   \n",
       "7669  05-003486-23        RAPIDIN (CT)   2024-03-30    15      QUINCENAS  ...   \n",
       "4084  02-008602-23    PAGA DIARIO (CT)   2024-04-17     1          DIAS   ...   \n",
       "4598  02-009762-24       SEMANAL MICRO   2024-04-26     7        SEMANAS  ...   \n",
       "\n",
       "     MORA  TEA_INTERES   CUOTA_FIJA   EDAD NCUO_ATRASADAS  \\\n",
       "8297    0   80.0-100.0    29.0-35.0  25-35              0   \n",
       "571     1  158.0-204.0   78.0-100.0  35-45             4+   \n",
       "4985    0  126.0-157.0    29.0-35.0  45-55              0   \n",
       "7810    1     0.0-41.0  473.0-642.0  25-35            2-3   \n",
       "7666    1  100.0-125.0    20.0-23.0  45-55            2-3   \n",
       "1338    1  126.0-157.0  293.0-364.0  18-25            2-3   \n",
       "42      0  205.0-290.0    40.0-49.0  55-65             4+   \n",
       "7669    0    41.0-49.0    59.0-78.0  18-25              0   \n",
       "4084    0    60.0-80.0    23.0-29.0  45-55              1   \n",
       "4598    0   80.0-100.0  473.0-642.0  25-35              0   \n",
       "\n",
       "     CUO_FALTANTES_VIGENTES NDIAS_ATRASADOS  MONTO_PRESTAMO   SALDO_PRESTAMO  \\\n",
       "8297                 61-495               0   3370.0-4500.0    2460.0-3853.0   \n",
       "571                   19-34             90+   1510.0-2000.0    1161.0-1721.0   \n",
       "4985                      0               0   2300.0-3030.0                0   \n",
       "7810                  19-34           45-60  7001.0-10120.0  7832.0-177657.0   \n",
       "7666                  35-60           15-45   1110.0-1130.0      535.0-845.0   \n",
       "1338                   7-11           60-90   2210.0-2290.0    1723.0-2460.0   \n",
       "42                      1-6               0   1110.0-1130.0        1.0-534.0   \n",
       "7669                  19-34               0   3370.0-4500.0    1161.0-1721.0   \n",
       "4084                 61-495               0   5510.0-7000.0    2460.0-3853.0   \n",
       "4598                      0               0   2000.0-2200.0                0   \n",
       "\n",
       "     IS_REPRO  \n",
       "8297        0  \n",
       "571         1  \n",
       "4985        0  \n",
       "7810        0  \n",
       "7666        1  \n",
       "1338        0  \n",
       "42          1  \n",
       "7669        1  \n",
       "4084        1  \n",
       "4598        0  \n",
       "\n",
       "[10 rows x 30 columns]"
      ]
     },
     "execution_count": 141,
     "metadata": {},
     "output_type": "execute_result"
    }
   ],
   "source": [
    "data.sample(10)"
   ]
  },
  {
   "cell_type": "markdown",
   "metadata": {},
   "source": [
    "### RESPECTO A LA MORA"
   ]
  },
  {
   "cell_type": "markdown",
   "metadata": {},
   "source": [
    "#### TEA INTERES"
   ]
  },
  {
   "cell_type": "code",
   "execution_count": 142,
   "metadata": {},
   "outputs": [
    {
     "name": "stderr",
     "output_type": "stream",
     "text": [
      "C:\\Users\\LAPTOP\\AppData\\Local\\Temp\\ipykernel_9252\\4138738797.py:2: UserWarning: FixedFormatter should only be used together with FixedLocator\n",
      "  x.set_xticklabels(x.get_xticklabels(), rotation=90);\n"
     ]
    },
    {
     "data": {
      "image/png": "[encoded data removed]",
      "text/plain": [
       "<Figure size 640x480 with 1 Axes>"
      ]
     },
     "metadata": {},
     "output_type": "display_data"
    }
   ],
   "source": [
    "x = sns.countplot(data, x='TEA_INTERES', hue='MORA',order = ordenar(list(set(data['TEA_INTERES'].unique()))))\n",
    "x.set_xticklabels(x.get_xticklabels(), rotation=90);"
   ]
  },
  {
   "cell_type": "code",
   "execution_count": 143,
   "metadata": {},
   "outputs": [
    {
     "data": {
      "text/plain": [
       "CUOTA_FIJA\n",
       "0.0-20.0          492\n",
       "35.0-40.0         488\n",
       "100.0-118.0       488\n",
       "1071.0-13378.0    487\n",
       "23.0-29.0         487\n",
       "240.0-293.0       487\n",
       "174.0-205.0       487\n",
       "59.0-78.0         487\n",
       "473.0-642.0       487\n",
       "643.0-1070.0      486\n",
       "205.0-239.0       486\n",
       "365.0-472.0       486\n",
       "29.0-35.0         486\n",
       "49.0-59.0         486\n",
       "20.0-23.0         486\n",
       "78.0-100.0        486\n",
       "145.0-174.0       486\n",
       "293.0-364.0       486\n",
       "40.0-49.0         485\n",
       "118.0-145.0       485\n",
       "Name: count, dtype: int64"
      ]
     },
     "execution_count": 143,
     "metadata": {},
     "output_type": "execute_result"
    }
   ],
   "source": [
    "data.CUOTA_FIJA.value_counts()"
   ]
  },
  {
   "cell_type": "code",
   "execution_count": 144,
   "metadata": {},
   "outputs": [
    {
     "name": "stdout",
     "output_type": "stream",
     "text": [
      "<class 'pandas.core.frame.DataFrame'>\n",
      "Index: 9734 entries, 0 to 9733\n",
      "Data columns (total 30 columns):\n",
      " #   Column                  Non-Null Count  Dtype \n",
      "---  ------                  --------------  ----- \n",
      " 0   SOCIO                   9734 non-null   object\n",
      " 1   CUENTA                  9734 non-null   int64 \n",
      " 2   AGENCIA                 9734 non-null   int64 \n",
      " 3   TIPO_SOCIO              9734 non-null   int64 \n",
      " 4   MONEDA                  9734 non-null   object\n",
      " 5   PAGARE                  9734 non-null   object\n",
      " 6   PRODUCTO                9734 non-null   object\n",
      " 7   FEC_ULT_PAGO            9734 non-null   object\n",
      " 8   DIAS                    9734 non-null   int64 \n",
      " 9   NOM_FRECUENCIA          9734 non-null   object\n",
      " 10  ESTADO_CIVIL            9734 non-null   object\n",
      " 11  SEXO                    9734 non-null   object\n",
      " 12  TIPO_VIVIENDA           9734 non-null   object\n",
      " 13  OTORGA                  9734 non-null   object\n",
      " 14  RIESGO_INDIVIDUAL       9734 non-null   object\n",
      " 15  ANA_ORIGEN              9734 non-null   object\n",
      " 16  ANA_ACTUAL              9734 non-null   object\n",
      " 17  PROFESION               9734 non-null   object\n",
      " 18  OCUPACION               9336 non-null   object\n",
      " 19  ACTIVIDAD_ECO           9734 non-null   object\n",
      " 20  MORA                    9734 non-null   int32 \n",
      " 21  TEA_INTERES             9734 non-null   object\n",
      " 22  CUOTA_FIJA              9734 non-null   object\n",
      " 23  EDAD                    9734 non-null   object\n",
      " 24  NCUO_ATRASADAS          9734 non-null   object\n",
      " 25  CUO_FALTANTES_VIGENTES  9734 non-null   object\n",
      " 26  NDIAS_ATRASADOS         9734 non-null   object\n",
      " 27  MONTO_PRESTAMO          9734 non-null   object\n",
      " 28  SALDO_PRESTAMO          9734 non-null   object\n",
      " 29  IS_REPRO                9734 non-null   int64 \n",
      "dtypes: int32(1), int64(5), object(24)\n",
      "memory usage: 2.5+ MB\n"
     ]
    }
   ],
   "source": [
    "data.info()"
   ]
  },
  {
   "cell_type": "code",
   "execution_count": 145,
   "metadata": {},
   "outputs": [
    {
     "data": {
      "text/plain": [
       "0"
      ]
     },
     "execution_count": 145,
     "metadata": {},
     "output_type": "execute_result"
    }
   ],
   "source": [
    "data['CUOTA_FIJA'].isna().sum()"
   ]
  },
  {
   "cell_type": "code",
   "execution_count": 146,
   "metadata": {},
   "outputs": [
    {
     "name": "stderr",
     "output_type": "stream",
     "text": [
      "C:\\Users\\LAPTOP\\AppData\\Local\\Temp\\ipykernel_9252\\3478352474.py:2: UserWarning: FixedFormatter should only be used together with FixedLocator\n",
      "  x.set_xticklabels(x.get_xticklabels(), rotation=90);\n"
     ]
    },
    {
     "data": {
      "image/png": "[encoded data removed]",
      "text/plain": [
       "<Figure size 640x480 with 1 Axes>"
      ]
     },
     "metadata": {},
     "output_type": "display_data"
    }
   ],
   "source": [
    "x = sns.countplot(data, x='CUOTA_FIJA', hue='MORA', order = ordenar(list(set(data['CUOTA_FIJA'].unique()))))\n",
    "x.set_xticklabels(x.get_xticklabels(), rotation=90);"
   ]
  },
  {
   "cell_type": "markdown",
   "metadata": {},
   "source": [
    "#### NCUO_ATRASADAS"
   ]
  },
  {
   "cell_type": "code",
   "execution_count": 147,
   "metadata": {},
   "outputs": [
    {
     "name": "stderr",
     "output_type": "stream",
     "text": [
      "C:\\Users\\LAPTOP\\AppData\\Local\\Temp\\ipykernel_9252\\2503534600.py:2: UserWarning: FixedFormatter should only be used together with FixedLocator\n",
      "  x.set_xticklabels(x.get_xticklabels(), rotation=90);\n"
     ]
    },
    {
     "data": {
      "image/png": "[encoded data removed]",
      "text/plain": [
       "<Figure size 640x480 with 1 Axes>"
      ]
     },
     "metadata": {},
     "output_type": "display_data"
    }
   ],
   "source": [
    "x = sns.countplot(data, x='NCUO_ATRASADAS', hue='MORA',order=sorted(data['NCUO_ATRASADAS'].unique()))\n",
    "x.set_xticklabels(x.get_xticklabels(), rotation=90);"
   ]
  },
  {
   "cell_type": "markdown",
   "metadata": {},
   "source": [
    "#### CUO_FALTANTES_VIGENTES"
   ]
  },
  {
   "cell_type": "code",
   "execution_count": 148,
   "metadata": {},
   "outputs": [
    {
     "data": {
      "text/plain": [
       "CUO_FALTANTES_VIGENTES\n",
       "35-60     2001\n",
       "1-6       1631\n",
       "7-11      1494\n",
       "19-34     1338\n",
       "0         1305\n",
       "12-18     1212\n",
       "61-495     753\n",
       "Name: count, dtype: int64"
      ]
     },
     "execution_count": 148,
     "metadata": {},
     "output_type": "execute_result"
    }
   ],
   "source": [
    "data.CUO_FALTANTES_VIGENTES.value_counts()"
   ]
  },
  {
   "cell_type": "code",
   "execution_count": 149,
   "metadata": {},
   "outputs": [
    {
     "data": {
      "image/png": "[encoded data removed]",
      "text/plain": [
       "<Figure size 640x480 with 1 Axes>"
      ]
     },
     "metadata": {},
     "output_type": "display_data"
    }
   ],
   "source": [
    "x = sns.countplot(data, x='CUO_FALTANTES_VIGENTES', hue='MORA',order=ordenar(list(set(data['CUO_FALTANTES_VIGENTES'].unique()))))\n"
   ]
  },
  {
   "cell_type": "markdown",
   "metadata": {},
   "source": [
    "#### NDIAS_ATRASADOS"
   ]
  },
  {
   "cell_type": "code",
   "execution_count": 150,
   "metadata": {},
   "outputs": [
    {
     "data": {
      "text/plain": [
       "NDIAS_ATRASADOS\n",
       "0        6281\n",
       "90+      1180\n",
       "1-15      754\n",
       "45-60     688\n",
       "15-45     658\n",
       "60-90     173\n",
       "Name: count, dtype: int64"
      ]
     },
     "execution_count": 150,
     "metadata": {},
     "output_type": "execute_result"
    }
   ],
   "source": [
    "data.NDIAS_ATRASADOS.value_counts()"
   ]
  },
  {
   "cell_type": "code",
   "execution_count": 151,
   "metadata": {},
   "outputs": [
    {
     "name": "stderr",
     "output_type": "stream",
     "text": [
      "C:\\Users\\LAPTOP\\AppData\\Local\\Temp\\ipykernel_9252\\618374493.py:2: UserWarning: FixedFormatter should only be used together with FixedLocator\n",
      "  x.set_xticklabels(x.get_xticklabels(), rotation=90);\n"
     ]
    },
    {
     "data": {
      "image/png": "[encoded data removed]",
      "text/plain": [
       "<Figure size 640x480 with 1 Axes>"
      ]
     },
     "metadata": {},
     "output_type": "display_data"
    }
   ],
   "source": [
    "x = sns.countplot(data, x='NDIAS_ATRASADOS', hue='MORA',order=sorted(data['NDIAS_ATRASADOS'].unique()))\n",
    "x.set_xticklabels(x.get_xticklabels(), rotation=90);"
   ]
  },
  {
   "cell_type": "markdown",
   "metadata": {},
   "source": [
    "#### MONTO_PRESTAMO"
   ]
  },
  {
   "cell_type": "code",
   "execution_count": 152,
   "metadata": {},
   "outputs": [
    {
     "data": {
      "text/plain": [
       "MONTO_PRESTAMO\n",
       "4510.0-5500.0       869\n",
       "200.0-1015.0        827\n",
       "2000.0-2200.0       757\n",
       "1510.0-2000.0       746\n",
       "2300.0-3030.0       683\n",
       "3035.0-3360.0       668\n",
       "7001.0-10120.0      666\n",
       "10125.0-20000.0     650\n",
       "20001.0-450000.0    628\n",
       "1135.0-1510.0       612\n",
       "1110.0-1130.0       610\n",
       "3370.0-4500.0       603\n",
       "1020.0-1100.0       551\n",
       "2210.0-2290.0       443\n",
       "5510.0-7000.0       421\n",
       "Name: count, dtype: int64"
      ]
     },
     "execution_count": 152,
     "metadata": {},
     "output_type": "execute_result"
    }
   ],
   "source": [
    "data.MONTO_PRESTAMO.value_counts()"
   ]
  },
  {
   "cell_type": "code",
   "execution_count": 153,
   "metadata": {},
   "outputs": [
    {
     "name": "stderr",
     "output_type": "stream",
     "text": [
      "C:\\Users\\LAPTOP\\AppData\\Local\\Temp\\ipykernel_9252\\1050183195.py:2: UserWarning: FixedFormatter should only be used together with FixedLocator\n",
      "  x.set_xticklabels(x.get_xticklabels(), rotation=90);\n"
     ]
    },
    {
     "data": {
      "image/png": "[encoded data removed]",
      "text/plain": [
       "<Figure size 640x480 with 1 Axes>"
      ]
     },
     "metadata": {},
     "output_type": "display_data"
    }
   ],
   "source": [
    "x = sns.countplot(data, x='MONTO_PRESTAMO', hue='MORA',order = ordenar(list(set(data['MONTO_PRESTAMO'].unique()))))\n",
    "x.set_xticklabels(x.get_xticklabels(), rotation=90);"
   ]
  },
  {
   "cell_type": "markdown",
   "metadata": {},
   "source": [
    "#### SALDO_PRESTAMO"
   ]
  },
  {
   "cell_type": "code",
   "execution_count": 154,
   "metadata": {},
   "outputs": [
    {
     "data": {
      "text/plain": [
       "SALDO_PRESTAMO\n",
       "1.0-534.0          1112\n",
       "845.0-1160.0       1086\n",
       "535.0-845.0        1082\n",
       "7832.0-177657.0    1082\n",
       "2460.0-3853.0      1082\n",
       "1723.0-2460.0      1081\n",
       "3855.0-7832.0      1081\n",
       "1161.0-1721.0      1077\n",
       "0                  1051\n",
       "Name: count, dtype: int64"
      ]
     },
     "execution_count": 154,
     "metadata": {},
     "output_type": "execute_result"
    }
   ],
   "source": [
    "data.SALDO_PRESTAMO.value_counts()"
   ]
  },
  {
   "cell_type": "code",
   "execution_count": 155,
   "metadata": {},
   "outputs": [
    {
     "name": "stderr",
     "output_type": "stream",
     "text": [
      "C:\\Users\\LAPTOP\\AppData\\Local\\Temp\\ipykernel_9252\\84685381.py:2: UserWarning: FixedFormatter should only be used together with FixedLocator\n",
      "  x.set_xticklabels(x.get_xticklabels(), rotation=90);\n"
     ]
    },
    {
     "data": {
      "image/png": "[encoded data removed]",
      "text/plain": [
       "<Figure size 640x480 with 1 Axes>"
      ]
     },
     "metadata": {},
     "output_type": "display_data"
    }
   ],
   "source": [
    "x = sns.countplot(data, x='SALDO_PRESTAMO', hue='MORA',order = ordenar(list(set(data['SALDO_PRESTAMO'].unique()))))\n",
    "x.set_xticklabels(x.get_xticklabels(), rotation=90);"
   ]
  }
 ],
 "metadata": {
  "kernelspec": {
   "display_name": "Python 3",
   "language": "python",
   "name": "python3"
  },
  "language_info": {
   "codemirror_mode": {
    "name": "ipython",
    "version": 3
   },
   "file_extension": ".py",
   "mimetype": "text/x-python",
   "name": "python",
   "nbconvert_exporter": "python",
   "pygments_lexer": "ipython3",
   "version": "3.11.3"
  }
 },
 "nbformat": 4,
 "nbformat_minor": 2
}

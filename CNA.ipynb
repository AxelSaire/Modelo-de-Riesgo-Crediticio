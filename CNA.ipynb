{
 "cells": [
  {
   "cell_type": "markdown",
   "metadata": {},
   "source": [
    "# DISCRETIZACION DE VARIABLES NUMERICAS"
   ]
  },
  {
   "cell_type": "code",
   "execution_count": 426,
   "metadata": {},
   "outputs": [],
   "source": [
    "#importando librerias \n",
    "import pandas as pd\n",
    "import numpy as np\n",
    "import matplotlib.pyplot as plt\n",
    "import seaborn as sns\n",
    "from libraries import *"
   ]
  },
  {
   "cell_type": "code",
   "execution_count": 427,
   "metadata": {},
   "outputs": [],
   "source": [
    "#Cargando datos\n",
    "data = pd.read_csv(\"./dataset.csv\",delimiter=\";\")"
   ]
  },
  {
   "cell_type": "code",
   "execution_count": 428,
   "metadata": {},
   "outputs": [
    {
     "data": {
      "text/plain": [
       "SOCIO                     8618\n",
       "CUENTA                    8618\n",
       "AGENCIA                      7\n",
       "TIPO_SOCIO                   4\n",
       "MONEDA                       1\n",
       "PAGARE                    9734\n",
       "PRODUCTO                    38\n",
       "FEC_ULT_PAGO               411\n",
       "TEA_INTERES                958\n",
       "CUOTA_FIJA                7955\n",
       "DIAS                         4\n",
       "NOM_FRECUENCIA               4\n",
       "EDAD                        65\n",
       "ESTADO_CIVIL                 6\n",
       "SEXO                         3\n",
       "TIPO_VIVIENDA                3\n",
       "OTORGA                    1223\n",
       "RIESGO_INDIVIDUAL            5\n",
       "NCUO_ATRASADAS             111\n",
       "CUO_FALTANTES_VIGENTES     198\n",
       "NDIAS_ATRASADOS            547\n",
       "MONTO_PRESTAMO            1244\n",
       "SALDO_PRESTAMO            8176\n",
       "NRO_REPRO                   13\n",
       "ANA_ORIGEN                 168\n",
       "ANA_ACTUAL                  83\n",
       "PROFESION                   80\n",
       "OCUPACION                 2900\n",
       "ACTIVIDAD_ECO               37\n",
       "dtype: int64"
      ]
     },
     "execution_count": 428,
     "metadata": {},
     "output_type": "execute_result"
    }
   ],
   "source": [
    "data.nunique() #CANTIDAD DE VALORES DIFERENTES EN EL DATASET "
   ]
  },
  {
   "cell_type": "code",
   "execution_count": 429,
   "metadata": {},
   "outputs": [],
   "source": [
    "data['MORA'] = np.where(data['NDIAS_ATRASADOS'] > data['DIAS'],1,0)     #---Agregando la columna mora"
   ]
  },
  {
   "cell_type": "code",
   "execution_count": 430,
   "metadata": {},
   "outputs": [],
   "source": [
    "#Funcion para obtener el maximo y minimo valor por categoria\n",
    "def min_max_per_category(data, category_column, value_column, labels): \n",
    "    result = []\n",
    "    for label in labels:\n",
    "        min_value = data.query(f\"{category_column} == {label}\")[value_column].min().round()\n",
    "        max_value = data.query(f\"{category_column} == {label}\")[value_column].max().round()\n",
    "        result.append(f'{min_value}-{max_value}')\n",
    "    return result"
   ]
  },
  {
   "cell_type": "code",
   "execution_count": 431,
   "metadata": {},
   "outputs": [],
   "source": [
    "#Diccionario de discretizacion percentiles\n",
    "dicc = {\n",
    "    \"TEA\": 6,                  #--- TEA INTERES\n",
    "    \"CUO\": 13,                  #--- CUOTA FIJA\n",
    "    \"CUO_F\": 7,                 #--- CUOTAS FALTANTES VIGENTES\n",
    "    \"MONTO\": 15,                #--- MONTO PRESTAMO\n",
    "    \"SALDO\": 9                  #--- SALDO PRESTAMO\n",
    "}\n",
    "\n",
    "# Acceder a cada variable en el diccionario\n",
    "pTEA= dicc[\"TEA\"]\n",
    "pCUO_FIJA = dicc[\"CUO\"]\n",
    "pCUO = dicc[\"CUO_F\"]\n",
    "pMONTO = dicc[\"MONTO\"]\n",
    "pSALDO = dicc[\"SALDO\"]"
   ]
  },
  {
   "cell_type": "code",
   "execution_count": 432,
   "metadata": {},
   "outputs": [],
   "source": [
    "#FUNCIO DE DISCRETIZACION DE VARIABLES\n",
    "def percentil(column, value):   #--- INPUT : COLUMNA, Cantidad de divisiones\n",
    "    labels = [i for i in range(0, value)]\n",
    "    nColumn = column + 'F'\n",
    "    data[nColumn] = pd.qcut(data[column], value, labels=labels)\n",
    "    return data[nColumn], labels"
   ]
  },
  {
   "cell_type": "markdown",
   "metadata": {},
   "source": [
    "### TEA_INTERES"
   ]
  },
  {
   "cell_type": "code",
   "execution_count": 433,
   "metadata": {},
   "outputs": [
    {
     "data": {
      "text/plain": [
       "958"
      ]
     },
     "execution_count": 433,
     "metadata": {},
     "output_type": "execute_result"
    }
   ],
   "source": [
    "data.TEA_INTERES.nunique()      #--- Cantidad de valores unicos"
   ]
  },
  {
   "cell_type": "code",
   "execution_count": 434,
   "metadata": {},
   "outputs": [],
   "source": [
    "data['TEA_ANUAL'], labels = percentil('TEA_INTERES', pTEA)    #--- Division del dataset en deciles"
   ]
  },
  {
   "cell_type": "code",
   "execution_count": 435,
   "metadata": {},
   "outputs": [
    {
     "data": {
      "text/html": [
       "<div>\n",
       "<style scoped>\n",
       "    .dataframe tbody tr th:only-of-type {\n",
       "        vertical-align: middle;\n",
       "    }\n",
       "\n",
       "    .dataframe tbody tr th {\n",
       "        vertical-align: top;\n",
       "    }\n",
       "\n",
       "    .dataframe thead th {\n",
       "        text-align: right;\n",
       "    }\n",
       "</style>\n",
       "<table border=\"1\" class=\"dataframe\">\n",
       "  <thead>\n",
       "    <tr style=\"text-align: right;\">\n",
       "      <th></th>\n",
       "      <th>TEA_INTERES</th>\n",
       "      <th>TEA_ANUAL</th>\n",
       "    </tr>\n",
       "  </thead>\n",
       "  <tbody>\n",
       "    <tr>\n",
       "      <th>9729</th>\n",
       "      <td>42.58</td>\n",
       "      <td>0</td>\n",
       "    </tr>\n",
       "    <tr>\n",
       "      <th>9730</th>\n",
       "      <td>42.58</td>\n",
       "      <td>0</td>\n",
       "    </tr>\n",
       "    <tr>\n",
       "      <th>9731</th>\n",
       "      <td>39.29</td>\n",
       "      <td>0</td>\n",
       "    </tr>\n",
       "    <tr>\n",
       "      <th>9732</th>\n",
       "      <td>79.56</td>\n",
       "      <td>2</td>\n",
       "    </tr>\n",
       "    <tr>\n",
       "      <th>9733</th>\n",
       "      <td>340.87</td>\n",
       "      <td>5</td>\n",
       "    </tr>\n",
       "  </tbody>\n",
       "</table>\n",
       "</div>"
      ],
      "text/plain": [
       "      TEA_INTERES TEA_ANUAL\n",
       "9729        42.58         0\n",
       "9730        42.58         0\n",
       "9731        39.29         0\n",
       "9732        79.56         2\n",
       "9733       340.87         5"
      ]
     },
     "execution_count": 435,
     "metadata": {},
     "output_type": "execute_result"
    }
   ],
   "source": [
    "data[['TEA_INTERES', 'TEA_ANUAL']].tail()    #---Comparando datos clasificados"
   ]
  },
  {
   "cell_type": "code",
   "execution_count": 436,
   "metadata": {},
   "outputs": [],
   "source": [
    "min_max_list = min_max_per_category(data, 'TEA_ANUAL', 'TEA_INTERES', labels) #--- Llamar a la funcion para obtener el minimo y el maximo por categoria\n",
    "\n",
    "label_to_min_max = dict(zip(labels, min_max_list))              #--- Crear un diccionario de mapeo de etiquetas a valores concatenados\n",
    "\n",
    "data['TEA_ANUAL'] = data['TEA_ANUAL'].map(label_to_min_max)     #--- Asignar los valores concatenados a la columna TEA_ANUAL"
   ]
  },
  {
   "cell_type": "code",
   "execution_count": 437,
   "metadata": {},
   "outputs": [
    {
     "data": {
      "text/html": [
       "<div>\n",
       "<style scoped>\n",
       "    .dataframe tbody tr th:only-of-type {\n",
       "        vertical-align: middle;\n",
       "    }\n",
       "\n",
       "    .dataframe tbody tr th {\n",
       "        vertical-align: top;\n",
       "    }\n",
       "\n",
       "    .dataframe thead th {\n",
       "        text-align: right;\n",
       "    }\n",
       "</style>\n",
       "<table border=\"1\" class=\"dataframe\">\n",
       "  <thead>\n",
       "    <tr style=\"text-align: right;\">\n",
       "      <th></th>\n",
       "      <th>TEA_INTERES</th>\n",
       "      <th>TEA_ANUAL</th>\n",
       "    </tr>\n",
       "  </thead>\n",
       "  <tbody>\n",
       "    <tr>\n",
       "      <th>9315</th>\n",
       "      <td>151.82</td>\n",
       "      <td>100.0-152.0</td>\n",
       "    </tr>\n",
       "    <tr>\n",
       "      <th>9310</th>\n",
       "      <td>213.84</td>\n",
       "      <td>152.0-214.0</td>\n",
       "    </tr>\n",
       "    <tr>\n",
       "      <th>2940</th>\n",
       "      <td>20.98</td>\n",
       "      <td>0.0-46.0</td>\n",
       "    </tr>\n",
       "    <tr>\n",
       "      <th>5780</th>\n",
       "      <td>200.09</td>\n",
       "      <td>152.0-214.0</td>\n",
       "    </tr>\n",
       "    <tr>\n",
       "      <th>765</th>\n",
       "      <td>49.36</td>\n",
       "      <td>46.0-67.0</td>\n",
       "    </tr>\n",
       "  </tbody>\n",
       "</table>\n",
       "</div>"
      ],
      "text/plain": [
       "      TEA_INTERES    TEA_ANUAL\n",
       "9315       151.82  100.0-152.0\n",
       "9310       213.84  152.0-214.0\n",
       "2940        20.98     0.0-46.0\n",
       "5780       200.09  152.0-214.0\n",
       "765         49.36    46.0-67.0"
      ]
     },
     "execution_count": 437,
     "metadata": {},
     "output_type": "execute_result"
    }
   ],
   "source": [
    "data[['TEA_INTERES', 'TEA_ANUAL']].sample(5)        #--- Comprobando la clasificacion de los datos"
   ]
  },
  {
   "cell_type": "code",
   "execution_count": 438,
   "metadata": {},
   "outputs": [
    {
     "name": "stderr",
     "output_type": "stream",
     "text": [
      "C:\\Users\\LAPTOP\\AppData\\Local\\Temp\\ipykernel_27792\\403655400.py:2: UserWarning: FixedFormatter should only be used together with FixedLocator\n",
      "  ax.set_xticklabels(ax.get_xticklabels(), rotation=90);\n"
     ]
    },
    {
     "data": {
      "image/png": "[encoded data removed]",
      "text/plain": [
       "<Figure size 640x480 with 1 Axes>"
      ]
     },
     "metadata": {},
     "output_type": "display_data"
    }
   ],
   "source": [
    "ax = sns.histplot(data, x='TEA_ANUAL', hue='MORA',stat='percent', multiple='stack')\n",
    "ax.set_xticklabels(ax.get_xticklabels(), rotation=90);"
   ]
  },
  {
   "cell_type": "markdown",
   "metadata": {},
   "source": [
    "### CUOTA_FIJA"
   ]
  },
  {
   "cell_type": "code",
   "execution_count": 439,
   "metadata": {},
   "outputs": [],
   "source": [
    "data['CUO_FIJA'], labels = percentil('CUOTA_FIJA', pCUO_FIJA) "
   ]
  },
  {
   "cell_type": "code",
   "execution_count": 440,
   "metadata": {},
   "outputs": [],
   "source": [
    "min_max_list = min_max_per_category(data, 'CUO_FIJA', 'CUOTA_FIJA', labels)\n",
    "\n",
    "label_to_min_max = dict(zip(labels, min_max_list))\n",
    "\n",
    "data['CUO_FIJA'] = data['CUO_FIJA'].map(label_to_min_max)"
   ]
  },
  {
   "cell_type": "code",
   "execution_count": 441,
   "metadata": {},
   "outputs": [],
   "source": [
    "data['CUO_FIJA'] = data['CUO_FIJA'].fillna('0.0-21.0')          #--- Datos Nulos"
   ]
  },
  {
   "cell_type": "code",
   "execution_count": 442,
   "metadata": {},
   "outputs": [
    {
     "data": {
      "text/html": [
       "<div>\n",
       "<style scoped>\n",
       "    .dataframe tbody tr th:only-of-type {\n",
       "        vertical-align: middle;\n",
       "    }\n",
       "\n",
       "    .dataframe tbody tr th {\n",
       "        vertical-align: top;\n",
       "    }\n",
       "\n",
       "    .dataframe thead th {\n",
       "        text-align: right;\n",
       "    }\n",
       "</style>\n",
       "<table border=\"1\" class=\"dataframe\">\n",
       "  <thead>\n",
       "    <tr style=\"text-align: right;\">\n",
       "      <th></th>\n",
       "      <th>CUOTA_FIJA</th>\n",
       "      <th>CUO_FIJA</th>\n",
       "    </tr>\n",
       "  </thead>\n",
       "  <tbody>\n",
       "    <tr>\n",
       "      <th>4399</th>\n",
       "      <td>98.57</td>\n",
       "      <td>72.0-102.0</td>\n",
       "    </tr>\n",
       "    <tr>\n",
       "      <th>7657</th>\n",
       "      <td>52.99</td>\n",
       "      <td>49.0-72.0</td>\n",
       "    </tr>\n",
       "    <tr>\n",
       "      <th>5979</th>\n",
       "      <td>89.37</td>\n",
       "      <td>72.0-102.0</td>\n",
       "    </tr>\n",
       "    <tr>\n",
       "      <th>375</th>\n",
       "      <td>144.76</td>\n",
       "      <td>138.0-187.0</td>\n",
       "    </tr>\n",
       "    <tr>\n",
       "      <th>6164</th>\n",
       "      <td>21.27</td>\n",
       "      <td>21.0-29.0</td>\n",
       "    </tr>\n",
       "  </tbody>\n",
       "</table>\n",
       "</div>"
      ],
      "text/plain": [
       "      CUOTA_FIJA     CUO_FIJA\n",
       "4399       98.57   72.0-102.0\n",
       "7657       52.99    49.0-72.0\n",
       "5979       89.37   72.0-102.0\n",
       "375       144.76  138.0-187.0\n",
       "6164       21.27    21.0-29.0"
      ]
     },
     "execution_count": 442,
     "metadata": {},
     "output_type": "execute_result"
    }
   ],
   "source": [
    "data[['CUOTA_FIJA', 'CUO_FIJA']].sample(5)"
   ]
  },
  {
   "cell_type": "code",
   "execution_count": 443,
   "metadata": {},
   "outputs": [
    {
     "name": "stderr",
     "output_type": "stream",
     "text": [
      "C:\\Users\\LAPTOP\\AppData\\Local\\Temp\\ipykernel_27792\\1640587684.py:2: UserWarning: FixedFormatter should only be used together with FixedLocator\n",
      "  ax.set_xticklabels(ax.get_xticklabels(), rotation=90);\n"
     ]
    },
    {
     "data": {
      "image/png": "[encoded data removed]",
      "text/plain": [
       "<Figure size 640x480 with 1 Axes>"
      ]
     },
     "metadata": {},
     "output_type": "display_data"
    }
   ],
   "source": [
    "ax = sns.histplot(data, x='CUO_FIJA', hue='MORA',stat='percent', multiple='stack')\n",
    "ax.set_xticklabels(ax.get_xticklabels(), rotation=90);"
   ]
  },
  {
   "cell_type": "markdown",
   "metadata": {},
   "source": [
    "### EDAD"
   ]
  },
  {
   "cell_type": "code",
   "execution_count": 444,
   "metadata": {},
   "outputs": [
    {
     "data": {
      "text/plain": [
       "count    9734.000000\n",
       "mean       40.610849\n",
       "std        11.918444\n",
       "min        18.000000\n",
       "25%        31.000000\n",
       "50%        39.000000\n",
       "75%        49.000000\n",
       "max       121.000000\n",
       "Name: EDAD, dtype: float64"
      ]
     },
     "execution_count": 444,
     "metadata": {},
     "output_type": "execute_result"
    }
   ],
   "source": [
    "data.EDAD.describe()        #--- Analisis descriptivo de la columna Edad dentro del dataset"
   ]
  },
  {
   "cell_type": "code",
   "execution_count": 445,
   "metadata": {},
   "outputs": [],
   "source": [
    "labels = ['18-25','25-35','35-45','45-55','55-65','65+']            #--- Etiquetas de clasificación según el rango de edades                    \n",
    "bins = [18, 25, 35, 45, 55, 65, np.inf]                             #--- Contenedores de rangos de edades\n",
    "data['RANGO_EDAD'] = pd.cut(data['EDAD'], bins=bins, labels=labels, include_lowest=True) #--- Division del dataset en deciles"
   ]
  },
  {
   "cell_type": "code",
   "execution_count": 446,
   "metadata": {},
   "outputs": [
    {
     "data": {
      "text/html": [
       "<div>\n",
       "<style scoped>\n",
       "    .dataframe tbody tr th:only-of-type {\n",
       "        vertical-align: middle;\n",
       "    }\n",
       "\n",
       "    .dataframe tbody tr th {\n",
       "        vertical-align: top;\n",
       "    }\n",
       "\n",
       "    .dataframe thead th {\n",
       "        text-align: right;\n",
       "    }\n",
       "</style>\n",
       "<table border=\"1\" class=\"dataframe\">\n",
       "  <thead>\n",
       "    <tr style=\"text-align: right;\">\n",
       "      <th></th>\n",
       "      <th>EDAD</th>\n",
       "      <th>RANGO_EDAD</th>\n",
       "    </tr>\n",
       "  </thead>\n",
       "  <tbody>\n",
       "    <tr>\n",
       "      <th>4661</th>\n",
       "      <td>34</td>\n",
       "      <td>25-35</td>\n",
       "    </tr>\n",
       "    <tr>\n",
       "      <th>4919</th>\n",
       "      <td>27</td>\n",
       "      <td>25-35</td>\n",
       "    </tr>\n",
       "    <tr>\n",
       "      <th>682</th>\n",
       "      <td>31</td>\n",
       "      <td>25-35</td>\n",
       "    </tr>\n",
       "    <tr>\n",
       "      <th>6054</th>\n",
       "      <td>46</td>\n",
       "      <td>45-55</td>\n",
       "    </tr>\n",
       "    <tr>\n",
       "      <th>1055</th>\n",
       "      <td>46</td>\n",
       "      <td>45-55</td>\n",
       "    </tr>\n",
       "  </tbody>\n",
       "</table>\n",
       "</div>"
      ],
      "text/plain": [
       "      EDAD RANGO_EDAD\n",
       "4661    34      25-35\n",
       "4919    27      25-35\n",
       "682     31      25-35\n",
       "6054    46      45-55\n",
       "1055    46      45-55"
      ]
     },
     "execution_count": 446,
     "metadata": {},
     "output_type": "execute_result"
    }
   ],
   "source": [
    "data[['EDAD', 'RANGO_EDAD']].sample(5)"
   ]
  },
  {
   "cell_type": "code",
   "execution_count": 447,
   "metadata": {},
   "outputs": [
    {
     "name": "stderr",
     "output_type": "stream",
     "text": [
      "C:\\Users\\LAPTOP\\AppData\\Local\\Temp\\ipykernel_27792\\3032731934.py:2: UserWarning: FixedFormatter should only be used together with FixedLocator\n",
      "  ax.set_xticklabels(ax.get_xticklabels(), rotation=90);\n"
     ]
    },
    {
     "data": {
      "image/png": "[encoded data removed]",
      "text/plain": [
       "<Figure size 640x480 with 1 Axes>"
      ]
     },
     "metadata": {},
     "output_type": "display_data"
    }
   ],
   "source": [
    "ax = sns.histplot(data, x='RANGO_EDAD', hue='MORA',stat='percent', multiple='stack')\n",
    "ax.set_xticklabels(ax.get_xticklabels(), rotation=90);"
   ]
  },
  {
   "cell_type": "markdown",
   "metadata": {},
   "source": [
    "### NCUO_ATRASADAS"
   ]
  },
  {
   "cell_type": "code",
   "execution_count": 448,
   "metadata": {},
   "outputs": [
    {
     "data": {
      "text/plain": [
       "count    9734.000000\n",
       "mean        4.254263\n",
       "std        11.417179\n",
       "min         0.000000\n",
       "25%         0.000000\n",
       "50%         1.000000\n",
       "75%         3.000000\n",
       "max       169.000000\n",
       "Name: NCUO_ATRASADAS, dtype: float64"
      ]
     },
     "execution_count": 448,
     "metadata": {},
     "output_type": "execute_result"
    }
   ],
   "source": [
    "data.NCUO_ATRASADAS.describe()      #--- Descripcion de la columna NCUO_ATRASADAS"
   ]
  },
  {
   "cell_type": "code",
   "execution_count": 449,
   "metadata": {},
   "outputs": [
    {
     "data": {
      "text/plain": [
       "NCUO_ATRASADAS\n",
       "0      4670\n",
       "1      1399\n",
       "2       863\n",
       "3       664\n",
       "4       249\n",
       "       ... \n",
       "110       1\n",
       "146       1\n",
       "140       1\n",
       "136       1\n",
       "64        1\n",
       "Name: count, Length: 111, dtype: int64"
      ]
     },
     "execution_count": 449,
     "metadata": {},
     "output_type": "execute_result"
    }
   ],
   "source": [
    "data.NCUO_ATRASADAS.value_counts()"
   ]
  },
  {
   "cell_type": "code",
   "execution_count": 450,
   "metadata": {},
   "outputs": [
    {
     "data": {
      "text/plain": [
       "<Axes: xlabel='NCUO_ATRASADAS', ylabel='Percent'>"
      ]
     },
     "execution_count": 450,
     "metadata": {},
     "output_type": "execute_result"
    },
    {
     "data": {
      "image/png": "[encoded data removed]",
      "text/plain": [
       "<Figure size 640x480 with 1 Axes>"
      ]
     },
     "metadata": {},
     "output_type": "display_data"
    }
   ],
   "source": [
    "#Grafico que muestra la variacion de las variables\n",
    "sns.ecdfplot(data, x='NCUO_ATRASADAS', stat='percent')      "
   ]
  },
  {
   "cell_type": "code",
   "execution_count": 451,
   "metadata": {},
   "outputs": [],
   "source": [
    "labels = ['1','2','3','4-6','6-12','12+']\n",
    "bins = [0, 1, 2, 3, 6,12,np.inf]\n",
    "data['CUO_ATRASADAS'] = pd.cut(data['NCUO_ATRASADAS'], bins=bins, labels=labels)"
   ]
  },
  {
   "cell_type": "code",
   "execution_count": 452,
   "metadata": {},
   "outputs": [],
   "source": [
    "# data[['NCUO_ATRASADAS', 'CUO_ATRASADAS']].sample(5)\n",
    "data['CUO_ATRASADAS'] = data['CUO_ATRASADAS'].cat.add_categories(['0'])     #--- Agregar la categoria 0 faltante en la discretizacion\n",
    "data['CUO_ATRASADAS'] = data['CUO_ATRASADAS'].fillna('0')                   #--- Rellenar datos faltantes con la nueva categoría"
   ]
  },
  {
   "cell_type": "code",
   "execution_count": 453,
   "metadata": {},
   "outputs": [
    {
     "data": {
      "text/html": [
       "<div>\n",
       "<style scoped>\n",
       "    .dataframe tbody tr th:only-of-type {\n",
       "        vertical-align: middle;\n",
       "    }\n",
       "\n",
       "    .dataframe tbody tr th {\n",
       "        vertical-align: top;\n",
       "    }\n",
       "\n",
       "    .dataframe thead th {\n",
       "        text-align: right;\n",
       "    }\n",
       "</style>\n",
       "<table border=\"1\" class=\"dataframe\">\n",
       "  <thead>\n",
       "    <tr style=\"text-align: right;\">\n",
       "      <th></th>\n",
       "      <th>NCUO_ATRASADAS</th>\n",
       "      <th>CUO_ATRASADAS</th>\n",
       "    </tr>\n",
       "  </thead>\n",
       "  <tbody>\n",
       "    <tr>\n",
       "      <th>4252</th>\n",
       "      <td>1</td>\n",
       "      <td>1</td>\n",
       "    </tr>\n",
       "    <tr>\n",
       "      <th>7861</th>\n",
       "      <td>1</td>\n",
       "      <td>1</td>\n",
       "    </tr>\n",
       "    <tr>\n",
       "      <th>9514</th>\n",
       "      <td>2</td>\n",
       "      <td>2</td>\n",
       "    </tr>\n",
       "    <tr>\n",
       "      <th>9137</th>\n",
       "      <td>0</td>\n",
       "      <td>0</td>\n",
       "    </tr>\n",
       "    <tr>\n",
       "      <th>6352</th>\n",
       "      <td>0</td>\n",
       "      <td>0</td>\n",
       "    </tr>\n",
       "  </tbody>\n",
       "</table>\n",
       "</div>"
      ],
      "text/plain": [
       "      NCUO_ATRASADAS CUO_ATRASADAS\n",
       "4252               1             1\n",
       "7861               1             1\n",
       "9514               2             2\n",
       "9137               0             0\n",
       "6352               0             0"
      ]
     },
     "execution_count": 453,
     "metadata": {},
     "output_type": "execute_result"
    }
   ],
   "source": [
    "data[['NCUO_ATRASADAS', 'CUO_ATRASADAS']].sample(5)         #--- Verificacion de la clasificación"
   ]
  },
  {
   "cell_type": "code",
   "execution_count": 454,
   "metadata": {},
   "outputs": [
    {
     "data": {
      "text/plain": [
       "CUO_ATRASADAS\n",
       "0       4670\n",
       "1       1399\n",
       "2        863\n",
       "12+      854\n",
       "3        664\n",
       "4-6      659\n",
       "6-12     625\n",
       "Name: count, dtype: int64"
      ]
     },
     "execution_count": 454,
     "metadata": {},
     "output_type": "execute_result"
    }
   ],
   "source": [
    "data.CUO_ATRASADAS.value_counts()"
   ]
  },
  {
   "cell_type": "code",
   "execution_count": 455,
   "metadata": {},
   "outputs": [],
   "source": [
    "def data_no_zero(data, column):\n",
    "    data_p = data[data[column] != '0']\n",
    "    return data_p"
   ]
  },
  {
   "cell_type": "code",
   "execution_count": 456,
   "metadata": {},
   "outputs": [
    {
     "name": "stderr",
     "output_type": "stream",
     "text": [
      "C:\\Users\\LAPTOP\\AppData\\Local\\Temp\\ipykernel_27792\\4274280972.py:2: UserWarning: FixedFormatter should only be used together with FixedLocator\n",
      "  ax.set_xticklabels(ax.get_xticklabels(), rotation=90);\n"
     ]
    },
    {
     "data": {
      "image/png": "[encoded data removed]",
      "text/plain": [
       "<Figure size 640x480 with 1 Axes>"
      ]
     },
     "metadata": {},
     "output_type": "display_data"
    }
   ],
   "source": [
    "ax = sns.histplot( data_no_zero(data, 'CUO_ATRASADAS'), x='CUO_ATRASADAS', hue='MORA',stat='percent', multiple='stack')\n",
    "ax.set_xticklabels(ax.get_xticklabels(), rotation=90);"
   ]
  },
  {
   "cell_type": "markdown",
   "metadata": {},
   "source": [
    "### CUOTAS FALTANTES VIGENTES"
   ]
  },
  {
   "cell_type": "code",
   "execution_count": 457,
   "metadata": {},
   "outputs": [
    {
     "data": {
      "text/plain": [
       "count    9734.000000\n",
       "mean       26.021677\n",
       "std        31.744686\n",
       "min         0.000000\n",
       "25%         5.000000\n",
       "50%        14.000000\n",
       "75%        41.000000\n",
       "max       495.000000\n",
       "Name: CUO_FALTANTES_VIGENTES, dtype: float64"
      ]
     },
     "execution_count": 457,
     "metadata": {},
     "output_type": "execute_result"
    }
   ],
   "source": [
    "data.CUO_FALTANTES_VIGENTES.describe()          #--- Descripcion de la columna CUO_FALTANTES_VIGENTES"
   ]
  },
  {
   "cell_type": "code",
   "execution_count": 458,
   "metadata": {},
   "outputs": [
    {
     "data": {
      "text/plain": [
       "<Axes: xlabel='CUO_FALTANTES_VIGENTES', ylabel='Percent'>"
      ]
     },
     "execution_count": 458,
     "metadata": {},
     "output_type": "execute_result"
    },
    {
     "data": {
      "image/png": "[encoded data removed]",
      "text/plain": [
       "<Figure size 640x480 with 1 Axes>"
      ]
     },
     "metadata": {},
     "output_type": "display_data"
    }
   ],
   "source": [
    "#Grafico que muestra la variacion de las variables\n",
    "sns.ecdfplot(data, x='CUO_FALTANTES_VIGENTES', stat='percent')"
   ]
  },
  {
   "cell_type": "code",
   "execution_count": 459,
   "metadata": {},
   "outputs": [],
   "source": [
    "data['CUO_FALTANTES'], labels = percentil('CUO_FALTANTES_VIGENTES', pCUO) "
   ]
  },
  {
   "cell_type": "code",
   "execution_count": 460,
   "metadata": {},
   "outputs": [],
   "source": [
    "min_max_list = min_max_per_category(data, 'CUO_FALTANTES', 'CUO_FALTANTES_VIGENTES', labels)\n",
    "label_to_min_max = dict(zip(labels, min_max_list))\n",
    "data['CUO_FALTANTES'] = data['CUO_FALTANTES'].map(label_to_min_max)"
   ]
  },
  {
   "cell_type": "code",
   "execution_count": 461,
   "metadata": {},
   "outputs": [],
   "source": [
    "mask = data['CUO_FALTANTES_VIGENTES'] != 0                          #--- Separar la clasificacion de 0-1 a 0 (Cancelado)\n",
    "data['CUO_FALTANTES'] = data.loc[mask, 'CUO_FALTANTES'].ffill()     "
   ]
  },
  {
   "cell_type": "code",
   "execution_count": 462,
   "metadata": {},
   "outputs": [],
   "source": [
    "data['CUO_FALTANTES'] = data['CUO_FALTANTES'].cat.add_categories(['0']) #--- Agregar la nueva categoría a la clasificación\n",
    "data['CUO_FALTANTES'] = data['CUO_FALTANTES'].fillna('0')               #--- Rellenar los datos vacios con la nueva categoría"
   ]
  },
  {
   "cell_type": "code",
   "execution_count": 463,
   "metadata": {},
   "outputs": [],
   "source": [
    "data.loc[data['CUO_FALTANTES'].isin(['2-6', '0-1']), 'CUO_FALTANTES'] = np.nan     #--- Poner valores nulos en las columnas a unir"
   ]
  },
  {
   "cell_type": "code",
   "execution_count": 464,
   "metadata": {},
   "outputs": [
    {
     "name": "stderr",
     "output_type": "stream",
     "text": [
      "C:\\Users\\LAPTOP\\AppData\\Local\\Temp\\ipykernel_27792\\3283618685.py:3: FutureWarning: A value is trying to be set on a copy of a DataFrame or Series through chained assignment using an inplace method.\n",
      "The behavior will change in pandas 3.0. This inplace method will never work because the intermediate object on which we are setting values always behaves as a copy.\n",
      "\n",
      "For example, when doing 'df[col].method(value, inplace=True)', try using 'df.method({col: value}, inplace=True)' or df[col] = df[col].method(value) instead, to perform the operation inplace on the original object.\n",
      "\n",
      "\n",
      "  data['CUO_FALTANTES'].replace(['0-1', '2-6'], np.nan, inplace = True);      #--- Eliminar las anteriores columnas\n",
      "C:\\Users\\LAPTOP\\AppData\\Local\\Temp\\ipykernel_27792\\3283618685.py:3: FutureWarning: The behavior of Series.replace (and DataFrame.replace) with CategoricalDtype is deprecated. In a future version, replace will only be used for cases that preserve the categories. To change the categories, use ser.cat.rename_categories instead.\n",
      "  data['CUO_FALTANTES'].replace(['0-1', '2-6'], np.nan, inplace = True);      #--- Eliminar las anteriores columnas\n"
     ]
    }
   ],
   "source": [
    "data['CUO_FALTANTES'] = data['CUO_FALTANTES'].cat.add_categories(['1-6'])   #--- Agregar nueva categoria\n",
    "data['CUO_FALTANTES'] = data['CUO_FALTANTES'].fillna('1-6')                 #--- Rellenar los valores nulos, por la nueva categoría\n",
    "data['CUO_FALTANTES'].replace(['0-1', '2-6'], np.nan, inplace = True);      #--- Eliminar las anteriores columnas"
   ]
  },
  {
   "cell_type": "code",
   "execution_count": 465,
   "metadata": {},
   "outputs": [
    {
     "data": {
      "text/html": [
       "<div>\n",
       "<style scoped>\n",
       "    .dataframe tbody tr th:only-of-type {\n",
       "        vertical-align: middle;\n",
       "    }\n",
       "\n",
       "    .dataframe tbody tr th {\n",
       "        vertical-align: top;\n",
       "    }\n",
       "\n",
       "    .dataframe thead th {\n",
       "        text-align: right;\n",
       "    }\n",
       "</style>\n",
       "<table border=\"1\" class=\"dataframe\">\n",
       "  <thead>\n",
       "    <tr style=\"text-align: right;\">\n",
       "      <th></th>\n",
       "      <th>CUO_FALTANTES_VIGENTES</th>\n",
       "      <th>CUO_FALTANTES</th>\n",
       "    </tr>\n",
       "  </thead>\n",
       "  <tbody>\n",
       "    <tr>\n",
       "      <th>8457</th>\n",
       "      <td>45</td>\n",
       "      <td>35-60</td>\n",
       "    </tr>\n",
       "    <tr>\n",
       "      <th>6606</th>\n",
       "      <td>5</td>\n",
       "      <td>1-6</td>\n",
       "    </tr>\n",
       "    <tr>\n",
       "      <th>7199</th>\n",
       "      <td>29</td>\n",
       "      <td>19-34</td>\n",
       "    </tr>\n",
       "    <tr>\n",
       "      <th>9137</th>\n",
       "      <td>0</td>\n",
       "      <td>0</td>\n",
       "    </tr>\n",
       "    <tr>\n",
       "      <th>8523</th>\n",
       "      <td>48</td>\n",
       "      <td>35-60</td>\n",
       "    </tr>\n",
       "  </tbody>\n",
       "</table>\n",
       "</div>"
      ],
      "text/plain": [
       "      CUO_FALTANTES_VIGENTES CUO_FALTANTES\n",
       "8457                      45         35-60\n",
       "6606                       5           1-6\n",
       "7199                      29         19-34\n",
       "9137                       0             0\n",
       "8523                      48         35-60"
      ]
     },
     "execution_count": 465,
     "metadata": {},
     "output_type": "execute_result"
    }
   ],
   "source": [
    "data[['CUO_FALTANTES_VIGENTES', 'CUO_FALTANTES']].sample(5)     #--- Verificar los datos discretizados"
   ]
  },
  {
   "cell_type": "code",
   "execution_count": 466,
   "metadata": {},
   "outputs": [
    {
     "data": {
      "text/plain": [
       "CUO_FALTANTES\n",
       "35-60     2001\n",
       "1-6       1631\n",
       "7-11      1494\n",
       "19-34     1338\n",
       "0         1305\n",
       "12-18     1212\n",
       "61-495     753\n",
       "Name: count, dtype: int64"
      ]
     },
     "execution_count": 466,
     "metadata": {},
     "output_type": "execute_result"
    }
   ],
   "source": [
    "data.CUO_FALTANTES.value_counts()"
   ]
  },
  {
   "cell_type": "code",
   "execution_count": 468,
   "metadata": {},
   "outputs": [
    {
     "name": "stderr",
     "output_type": "stream",
     "text": [
      "C:\\Users\\LAPTOP\\AppData\\Local\\Temp\\ipykernel_27792\\251425463.py:2: UserWarning: FixedFormatter should only be used together with FixedLocator\n",
      "  ax.set_xticklabels(ax.get_xticklabels(), rotation=90);\n"
     ]
    },
    {
     "data": {
      "image/png": "[encoded data removed]",
      "text/plain": [
       "<Figure size 640x480 with 1 Axes>"
      ]
     },
     "metadata": {},
     "output_type": "display_data"
    }
   ],
   "source": [
    "ax = sns.histplot(data=data, x='CUO_FALTANTES', hue='MORA',stat='percent', multiple='stack')\n",
    "ax.set_xticklabels(ax.get_xticklabels(), rotation=90);"
   ]
  },
  {
   "cell_type": "markdown",
   "metadata": {},
   "source": [
    "### NDIAS ATRASADOS"
   ]
  },
  {
   "cell_type": "code",
   "execution_count": 320,
   "metadata": {},
   "outputs": [
    {
     "data": {
      "text/plain": [
       "count    9734.000000\n",
       "mean       82.099445\n",
       "std       271.360152\n",
       "min         0.000000\n",
       "25%         0.000000\n",
       "50%         0.000000\n",
       "75%        29.000000\n",
       "max      3458.000000\n",
       "Name: NDIAS_ATRASADOS, dtype: float64"
      ]
     },
     "execution_count": 320,
     "metadata": {},
     "output_type": "execute_result"
    }
   ],
   "source": [
    "data.NDIAS_ATRASADOS.describe()"
   ]
  },
  {
   "cell_type": "code",
   "execution_count": 321,
   "metadata": {},
   "outputs": [
    {
     "data": {
      "text/plain": [
       "<Axes: xlabel='NDIAS_ATRASADOS', ylabel='Proportion'>"
      ]
     },
     "execution_count": 321,
     "metadata": {},
     "output_type": "execute_result"
    },
    {
     "data": {
      "image/png": "[encoded data removed]",
      "text/plain": [
       "<Figure size 640x480 with 1 Axes>"
      ]
     },
     "metadata": {},
     "output_type": "display_data"
    }
   ],
   "source": [
    "sns.ecdfplot(data=data,x='NDIAS_ATRASADOS')"
   ]
  },
  {
   "cell_type": "code",
   "execution_count": 322,
   "metadata": {},
   "outputs": [],
   "source": [
    "labels = ['1-15','15-45','45-60','60-90','90+']\n",
    "bins = [0, 15, 45, 60, 90, np.inf]\n",
    "data['DIAS_ATRASADOS'] = pd.cut(data['NDIAS_ATRASADOS'], bins=bins, labels=labels)\n"
   ]
  },
  {
   "cell_type": "code",
   "execution_count": 323,
   "metadata": {},
   "outputs": [],
   "source": [
    "data['DIAS_ATRASADOS'] = data['DIAS_ATRASADOS'].cat.add_categories(['0'])\n",
    "data['DIAS_ATRASADOS'] = data['DIAS_ATRASADOS'].fillna('0')"
   ]
  },
  {
   "cell_type": "code",
   "execution_count": 324,
   "metadata": {},
   "outputs": [
    {
     "data": {
      "text/html": [
       "<div>\n",
       "<style scoped>\n",
       "    .dataframe tbody tr th:only-of-type {\n",
       "        vertical-align: middle;\n",
       "    }\n",
       "\n",
       "    .dataframe tbody tr th {\n",
       "        vertical-align: top;\n",
       "    }\n",
       "\n",
       "    .dataframe thead th {\n",
       "        text-align: right;\n",
       "    }\n",
       "</style>\n",
       "<table border=\"1\" class=\"dataframe\">\n",
       "  <thead>\n",
       "    <tr style=\"text-align: right;\">\n",
       "      <th></th>\n",
       "      <th>NDIAS_ATRASADOS</th>\n",
       "      <th>DIAS_ATRASADOS</th>\n",
       "    </tr>\n",
       "  </thead>\n",
       "  <tbody>\n",
       "    <tr>\n",
       "      <th>6575</th>\n",
       "      <td>0</td>\n",
       "      <td>0</td>\n",
       "    </tr>\n",
       "    <tr>\n",
       "      <th>5717</th>\n",
       "      <td>4</td>\n",
       "      <td>1-15</td>\n",
       "    </tr>\n",
       "    <tr>\n",
       "      <th>4525</th>\n",
       "      <td>0</td>\n",
       "      <td>0</td>\n",
       "    </tr>\n",
       "    <tr>\n",
       "      <th>2292</th>\n",
       "      <td>60</td>\n",
       "      <td>45-60</td>\n",
       "    </tr>\n",
       "    <tr>\n",
       "      <th>8090</th>\n",
       "      <td>16</td>\n",
       "      <td>15-45</td>\n",
       "    </tr>\n",
       "  </tbody>\n",
       "</table>\n",
       "</div>"
      ],
      "text/plain": [
       "      NDIAS_ATRASADOS DIAS_ATRASADOS\n",
       "6575                0              0\n",
       "5717                4           1-15\n",
       "4525                0              0\n",
       "2292               60          45-60\n",
       "8090               16          15-45"
      ]
     },
     "execution_count": 324,
     "metadata": {},
     "output_type": "execute_result"
    }
   ],
   "source": [
    "data[['NDIAS_ATRASADOS', 'DIAS_ATRASADOS']].sample(5)"
   ]
  },
  {
   "cell_type": "code",
   "execution_count": 325,
   "metadata": {},
   "outputs": [
    {
     "name": "stderr",
     "output_type": "stream",
     "text": [
      "C:\\Users\\LAPTOP\\AppData\\Local\\Temp\\ipykernel_27792\\3654616511.py:2: UserWarning: FixedFormatter should only be used together with FixedLocator\n",
      "  ax.set_xticklabels(ax.get_xticklabels(), rotation=90);\n"
     ]
    },
    {
     "data": {
      "image/png": "[encoded data removed]",
      "text/plain": [
       "<Figure size 640x480 with 1 Axes>"
      ]
     },
     "metadata": {},
     "output_type": "display_data"
    }
   ],
   "source": [
    "ax = sns.histplot(data = data_no_zero(data,'DIAS_ATRASADOS'), x='DIAS_ATRASADOS', hue='MORA',stat='percent', multiple='stack')\n",
    "ax.set_xticklabels(ax.get_xticklabels(), rotation=90);"
   ]
  },
  {
   "cell_type": "markdown",
   "metadata": {},
   "source": [
    "### MONTO_PRESTAMO"
   ]
  },
  {
   "cell_type": "code",
   "execution_count": 326,
   "metadata": {},
   "outputs": [
    {
     "data": {
      "text/plain": [
       "count      9734.000000\n",
       "mean       5997.804119\n",
       "std       11111.069155\n",
       "min         200.000000\n",
       "25%        1300.000000\n",
       "50%        2735.000000\n",
       "75%        5500.000000\n",
       "max      450000.000000\n",
       "Name: MONTO_PRESTAMO, dtype: float64"
      ]
     },
     "execution_count": 326,
     "metadata": {},
     "output_type": "execute_result"
    }
   ],
   "source": [
    "data.MONTO_PRESTAMO.describe()"
   ]
  },
  {
   "cell_type": "code",
   "execution_count": 327,
   "metadata": {},
   "outputs": [],
   "source": [
    "data['M_PRESTAMO'], labels = percentil('MONTO_PRESTAMO', pMONTO) "
   ]
  },
  {
   "cell_type": "code",
   "execution_count": 328,
   "metadata": {},
   "outputs": [],
   "source": [
    "min_max_list = min_max_per_category(data, 'M_PRESTAMO', 'MONTO_PRESTAMO', labels)\n",
    "label_to_min_max = dict(zip(labels, min_max_list))\n",
    "data['M_PRESTAMO'] = data['M_PRESTAMO'].map(label_to_min_max)"
   ]
  },
  {
   "cell_type": "code",
   "execution_count": 329,
   "metadata": {},
   "outputs": [
    {
     "data": {
      "text/html": [
       "<div>\n",
       "<style scoped>\n",
       "    .dataframe tbody tr th:only-of-type {\n",
       "        vertical-align: middle;\n",
       "    }\n",
       "\n",
       "    .dataframe tbody tr th {\n",
       "        vertical-align: top;\n",
       "    }\n",
       "\n",
       "    .dataframe thead th {\n",
       "        text-align: right;\n",
       "    }\n",
       "</style>\n",
       "<table border=\"1\" class=\"dataframe\">\n",
       "  <thead>\n",
       "    <tr style=\"text-align: right;\">\n",
       "      <th></th>\n",
       "      <th>MONTO_PRESTAMO</th>\n",
       "      <th>M_PRESTAMO</th>\n",
       "    </tr>\n",
       "  </thead>\n",
       "  <tbody>\n",
       "    <tr>\n",
       "      <th>3896</th>\n",
       "      <td>5000.0</td>\n",
       "      <td>4510.0-5500.0</td>\n",
       "    </tr>\n",
       "    <tr>\n",
       "      <th>6033</th>\n",
       "      <td>1260.0</td>\n",
       "      <td>1135.0-1510.0</td>\n",
       "    </tr>\n",
       "    <tr>\n",
       "      <th>2088</th>\n",
       "      <td>2220.0</td>\n",
       "      <td>2210.0-2290.0</td>\n",
       "    </tr>\n",
       "    <tr>\n",
       "      <th>2660</th>\n",
       "      <td>7000.0</td>\n",
       "      <td>5510.0-7000.0</td>\n",
       "    </tr>\n",
       "    <tr>\n",
       "      <th>3377</th>\n",
       "      <td>43500.0</td>\n",
       "      <td>20001.0-450000.0</td>\n",
       "    </tr>\n",
       "    <tr>\n",
       "      <th>3797</th>\n",
       "      <td>5000.0</td>\n",
       "      <td>4510.0-5500.0</td>\n",
       "    </tr>\n",
       "    <tr>\n",
       "      <th>3431</th>\n",
       "      <td>3000.0</td>\n",
       "      <td>2300.0-3030.0</td>\n",
       "    </tr>\n",
       "    <tr>\n",
       "      <th>4616</th>\n",
       "      <td>3140.0</td>\n",
       "      <td>3035.0-3360.0</td>\n",
       "    </tr>\n",
       "    <tr>\n",
       "      <th>3854</th>\n",
       "      <td>3500.0</td>\n",
       "      <td>3370.0-4500.0</td>\n",
       "    </tr>\n",
       "    <tr>\n",
       "      <th>9018</th>\n",
       "      <td>1015.0</td>\n",
       "      <td>200.0-1015.0</td>\n",
       "    </tr>\n",
       "  </tbody>\n",
       "</table>\n",
       "</div>"
      ],
      "text/plain": [
       "      MONTO_PRESTAMO        M_PRESTAMO\n",
       "3896          5000.0     4510.0-5500.0\n",
       "6033          1260.0     1135.0-1510.0\n",
       "2088          2220.0     2210.0-2290.0\n",
       "2660          7000.0     5510.0-7000.0\n",
       "3377         43500.0  20001.0-450000.0\n",
       "3797          5000.0     4510.0-5500.0\n",
       "3431          3000.0     2300.0-3030.0\n",
       "4616          3140.0     3035.0-3360.0\n",
       "3854          3500.0     3370.0-4500.0\n",
       "9018          1015.0      200.0-1015.0"
      ]
     },
     "execution_count": 329,
     "metadata": {},
     "output_type": "execute_result"
    }
   ],
   "source": [
    "data[['MONTO_PRESTAMO', 'M_PRESTAMO']].sample(10)"
   ]
  },
  {
   "cell_type": "code",
   "execution_count": 330,
   "metadata": {},
   "outputs": [
    {
     "name": "stderr",
     "output_type": "stream",
     "text": [
      "C:\\Users\\LAPTOP\\AppData\\Local\\Temp\\ipykernel_27792\\4126947979.py:2: UserWarning: FixedFormatter should only be used together with FixedLocator\n",
      "  ax.set_xticklabels(ax.get_xticklabels(), rotation=90);\n"
     ]
    },
    {
     "data": {
      "image/png": "[encoded data removed]",
      "text/plain": [
       "<Figure size 640x480 with 1 Axes>"
      ]
     },
     "metadata": {},
     "output_type": "display_data"
    }
   ],
   "source": [
    "ax = sns.histplot(data, x='M_PRESTAMO', hue='MORA',stat='percent', multiple='stack')\n",
    "ax.set_xticklabels(ax.get_xticklabels(), rotation=90);"
   ]
  },
  {
   "cell_type": "markdown",
   "metadata": {},
   "source": [
    "### SALDO_PRESTAMO"
   ]
  },
  {
   "cell_type": "code",
   "execution_count": 331,
   "metadata": {},
   "outputs": [
    {
     "data": {
      "text/plain": [
       "count      9734.000000\n",
       "mean       3476.077214\n",
       "std        6708.486439\n",
       "min           0.000000\n",
       "25%         610.610000\n",
       "50%        1450.330000\n",
       "75%        3381.252500\n",
       "max      177657.170000\n",
       "Name: SALDO_PRESTAMO, dtype: float64"
      ]
     },
     "execution_count": 331,
     "metadata": {},
     "output_type": "execute_result"
    }
   ],
   "source": [
    "data.SALDO_PRESTAMO.describe()"
   ]
  },
  {
   "cell_type": "code",
   "execution_count": 332,
   "metadata": {},
   "outputs": [],
   "source": [
    "data['S_PRESTAMO'], labels = percentil('SALDO_PRESTAMO', pSALDO) "
   ]
  },
  {
   "cell_type": "code",
   "execution_count": 333,
   "metadata": {},
   "outputs": [],
   "source": [
    "min_max_list = min_max_per_category(data, 'S_PRESTAMO', 'SALDO_PRESTAMO', labels)\n",
    "label_to_min_max = dict(zip(labels, min_max_list))\n",
    "data['S_PRESTAMO'] = data['S_PRESTAMO'].map(label_to_min_max)"
   ]
  },
  {
   "cell_type": "code",
   "execution_count": 334,
   "metadata": {},
   "outputs": [
    {
     "data": {
      "text/html": [
       "<div>\n",
       "<style scoped>\n",
       "    .dataframe tbody tr th:only-of-type {\n",
       "        vertical-align: middle;\n",
       "    }\n",
       "\n",
       "    .dataframe tbody tr th {\n",
       "        vertical-align: top;\n",
       "    }\n",
       "\n",
       "    .dataframe thead th {\n",
       "        text-align: right;\n",
       "    }\n",
       "</style>\n",
       "<table border=\"1\" class=\"dataframe\">\n",
       "  <thead>\n",
       "    <tr style=\"text-align: right;\">\n",
       "      <th></th>\n",
       "      <th>SALDO_PRESTAMO</th>\n",
       "      <th>S_PRESTAMO</th>\n",
       "    </tr>\n",
       "  </thead>\n",
       "  <tbody>\n",
       "    <tr>\n",
       "      <th>9350</th>\n",
       "      <td>839.98</td>\n",
       "      <td>535.0-845.0</td>\n",
       "    </tr>\n",
       "    <tr>\n",
       "      <th>2856</th>\n",
       "      <td>17324.69</td>\n",
       "      <td>7832.0-177657.0</td>\n",
       "    </tr>\n",
       "    <tr>\n",
       "      <th>5074</th>\n",
       "      <td>0.00</td>\n",
       "      <td>0.0-31.0</td>\n",
       "    </tr>\n",
       "    <tr>\n",
       "      <th>2545</th>\n",
       "      <td>889.60</td>\n",
       "      <td>845.0-1160.0</td>\n",
       "    </tr>\n",
       "    <tr>\n",
       "      <th>3748</th>\n",
       "      <td>6795.34</td>\n",
       "      <td>3855.0-7832.0</td>\n",
       "    </tr>\n",
       "    <tr>\n",
       "      <th>4333</th>\n",
       "      <td>4193.73</td>\n",
       "      <td>3855.0-7832.0</td>\n",
       "    </tr>\n",
       "    <tr>\n",
       "      <th>9679</th>\n",
       "      <td>51798.96</td>\n",
       "      <td>7832.0-177657.0</td>\n",
       "    </tr>\n",
       "    <tr>\n",
       "      <th>3475</th>\n",
       "      <td>4008.68</td>\n",
       "      <td>3855.0-7832.0</td>\n",
       "    </tr>\n",
       "    <tr>\n",
       "      <th>202</th>\n",
       "      <td>564.31</td>\n",
       "      <td>535.0-845.0</td>\n",
       "    </tr>\n",
       "    <tr>\n",
       "      <th>3089</th>\n",
       "      <td>994.36</td>\n",
       "      <td>845.0-1160.0</td>\n",
       "    </tr>\n",
       "  </tbody>\n",
       "</table>\n",
       "</div>"
      ],
      "text/plain": [
       "      SALDO_PRESTAMO       S_PRESTAMO\n",
       "9350          839.98      535.0-845.0\n",
       "2856        17324.69  7832.0-177657.0\n",
       "5074            0.00         0.0-31.0\n",
       "2545          889.60     845.0-1160.0\n",
       "3748         6795.34    3855.0-7832.0\n",
       "4333         4193.73    3855.0-7832.0\n",
       "9679        51798.96  7832.0-177657.0\n",
       "3475         4008.68    3855.0-7832.0\n",
       "202           564.31      535.0-845.0\n",
       "3089          994.36     845.0-1160.0"
      ]
     },
     "execution_count": 334,
     "metadata": {},
     "output_type": "execute_result"
    }
   ],
   "source": [
    "data[['SALDO_PRESTAMO', 'S_PRESTAMO']].sample(10)"
   ]
  },
  {
   "cell_type": "code",
   "execution_count": 335,
   "metadata": {},
   "outputs": [
    {
     "data": {
      "text/plain": [
       "S_PRESTAMO\n",
       "845.0-1160.0       1086\n",
       "0.0-31.0           1082\n",
       "535.0-845.0        1082\n",
       "2460.0-3853.0      1082\n",
       "7832.0-177657.0    1082\n",
       "34.0-534.0         1081\n",
       "1723.0-2460.0      1081\n",
       "3855.0-7832.0      1081\n",
       "1161.0-1721.0      1077\n",
       "Name: count, dtype: int64"
      ]
     },
     "execution_count": 335,
     "metadata": {},
     "output_type": "execute_result"
    }
   ],
   "source": [
    "data.S_PRESTAMO.value_counts()"
   ]
  },
  {
   "cell_type": "code",
   "execution_count": 336,
   "metadata": {},
   "outputs": [],
   "source": [
    "mask = data['SALDO_PRESTAMO'] != 0\n",
    "data['S_PRESTAMO'] = data.loc[mask, 'S_PRESTAMO'].ffill()\n",
    "data['S_PRESTAMO'] = data['S_PRESTAMO'].cat.add_categories(['0'])\n",
    "data['S_PRESTAMO'] = data['S_PRESTAMO'].fillna('0')"
   ]
  },
  {
   "cell_type": "code",
   "execution_count": 337,
   "metadata": {},
   "outputs": [],
   "source": [
    "data.loc[data['S_PRESTAMO'].isin(['0.0-31.0', '34.0-534.0']), 'S_PRESTAMO'] = np.nan"
   ]
  },
  {
   "cell_type": "code",
   "execution_count": 338,
   "metadata": {},
   "outputs": [
    {
     "name": "stderr",
     "output_type": "stream",
     "text": [
      "C:\\Users\\LAPTOP\\AppData\\Local\\Temp\\ipykernel_27792\\3447588833.py:3: FutureWarning: The behavior of Series.replace (and DataFrame.replace) with CategoricalDtype is deprecated. In a future version, replace will only be used for cases that preserve the categories. To change the categories, use ser.cat.rename_categories instead.\n",
      "  data['S_PRESTAMO']=data['S_PRESTAMO'].replace(['0.0-31.0', '34.0-534.0'], np.nan)\n"
     ]
    }
   ],
   "source": [
    "data['S_PRESTAMO'] = data['S_PRESTAMO'].cat.add_categories(['1.0-534.0'])\n",
    "data['S_PRESTAMO'] = data['S_PRESTAMO'].fillna('1.0-534.0')\n",
    "data['S_PRESTAMO']=data['S_PRESTAMO'].replace(['0.0-31.0', '34.0-534.0'], np.nan)"
   ]
  },
  {
   "cell_type": "code",
   "execution_count": 339,
   "metadata": {},
   "outputs": [
    {
     "data": {
      "text/html": [
       "<div>\n",
       "<style scoped>\n",
       "    .dataframe tbody tr th:only-of-type {\n",
       "        vertical-align: middle;\n",
       "    }\n",
       "\n",
       "    .dataframe tbody tr th {\n",
       "        vertical-align: top;\n",
       "    }\n",
       "\n",
       "    .dataframe thead th {\n",
       "        text-align: right;\n",
       "    }\n",
       "</style>\n",
       "<table border=\"1\" class=\"dataframe\">\n",
       "  <thead>\n",
       "    <tr style=\"text-align: right;\">\n",
       "      <th></th>\n",
       "      <th>SALDO_PRESTAMO</th>\n",
       "      <th>S_PRESTAMO</th>\n",
       "    </tr>\n",
       "  </thead>\n",
       "  <tbody>\n",
       "    <tr>\n",
       "      <th>1207</th>\n",
       "      <td>4532.95</td>\n",
       "      <td>3855.0-7832.0</td>\n",
       "    </tr>\n",
       "    <tr>\n",
       "      <th>5733</th>\n",
       "      <td>3474.42</td>\n",
       "      <td>2460.0-3853.0</td>\n",
       "    </tr>\n",
       "    <tr>\n",
       "      <th>1949</th>\n",
       "      <td>153.34</td>\n",
       "      <td>1.0-534.0</td>\n",
       "    </tr>\n",
       "    <tr>\n",
       "      <th>4860</th>\n",
       "      <td>1654.55</td>\n",
       "      <td>1161.0-1721.0</td>\n",
       "    </tr>\n",
       "    <tr>\n",
       "      <th>2975</th>\n",
       "      <td>6356.20</td>\n",
       "      <td>3855.0-7832.0</td>\n",
       "    </tr>\n",
       "    <tr>\n",
       "      <th>4961</th>\n",
       "      <td>1316.89</td>\n",
       "      <td>1161.0-1721.0</td>\n",
       "    </tr>\n",
       "    <tr>\n",
       "      <th>2896</th>\n",
       "      <td>2916.54</td>\n",
       "      <td>2460.0-3853.0</td>\n",
       "    </tr>\n",
       "    <tr>\n",
       "      <th>2022</th>\n",
       "      <td>2230.00</td>\n",
       "      <td>1723.0-2460.0</td>\n",
       "    </tr>\n",
       "    <tr>\n",
       "      <th>3223</th>\n",
       "      <td>844.12</td>\n",
       "      <td>535.0-845.0</td>\n",
       "    </tr>\n",
       "    <tr>\n",
       "      <th>787</th>\n",
       "      <td>434.50</td>\n",
       "      <td>1.0-534.0</td>\n",
       "    </tr>\n",
       "    <tr>\n",
       "      <th>5160</th>\n",
       "      <td>0.00</td>\n",
       "      <td>0</td>\n",
       "    </tr>\n",
       "    <tr>\n",
       "      <th>7280</th>\n",
       "      <td>9056.13</td>\n",
       "      <td>7832.0-177657.0</td>\n",
       "    </tr>\n",
       "    <tr>\n",
       "      <th>9317</th>\n",
       "      <td>1503.23</td>\n",
       "      <td>1161.0-1721.0</td>\n",
       "    </tr>\n",
       "    <tr>\n",
       "      <th>4724</th>\n",
       "      <td>645.44</td>\n",
       "      <td>535.0-845.0</td>\n",
       "    </tr>\n",
       "    <tr>\n",
       "      <th>3687</th>\n",
       "      <td>812.06</td>\n",
       "      <td>535.0-845.0</td>\n",
       "    </tr>\n",
       "  </tbody>\n",
       "</table>\n",
       "</div>"
      ],
      "text/plain": [
       "      SALDO_PRESTAMO       S_PRESTAMO\n",
       "1207         4532.95    3855.0-7832.0\n",
       "5733         3474.42    2460.0-3853.0\n",
       "1949          153.34        1.0-534.0\n",
       "4860         1654.55    1161.0-1721.0\n",
       "2975         6356.20    3855.0-7832.0\n",
       "4961         1316.89    1161.0-1721.0\n",
       "2896         2916.54    2460.0-3853.0\n",
       "2022         2230.00    1723.0-2460.0\n",
       "3223          844.12      535.0-845.0\n",
       "787           434.50        1.0-534.0\n",
       "5160            0.00                0\n",
       "7280         9056.13  7832.0-177657.0\n",
       "9317         1503.23    1161.0-1721.0\n",
       "4724          645.44      535.0-845.0\n",
       "3687          812.06      535.0-845.0"
      ]
     },
     "execution_count": 339,
     "metadata": {},
     "output_type": "execute_result"
    }
   ],
   "source": [
    "data[['SALDO_PRESTAMO','S_PRESTAMO']].sample(15)"
   ]
  },
  {
   "cell_type": "code",
   "execution_count": 340,
   "metadata": {},
   "outputs": [
    {
     "data": {
      "text/plain": [
       "S_PRESTAMO\n",
       "1.0-534.0          1112\n",
       "845.0-1160.0       1086\n",
       "535.0-845.0        1082\n",
       "2460.0-3853.0      1082\n",
       "7832.0-177657.0    1082\n",
       "1723.0-2460.0      1081\n",
       "3855.0-7832.0      1081\n",
       "1161.0-1721.0      1077\n",
       "0                  1051\n",
       "Name: count, dtype: int64"
      ]
     },
     "execution_count": 340,
     "metadata": {},
     "output_type": "execute_result"
    }
   ],
   "source": [
    "data.S_PRESTAMO.value_counts()"
   ]
  },
  {
   "cell_type": "code",
   "execution_count": 341,
   "metadata": {},
   "outputs": [
    {
     "name": "stderr",
     "output_type": "stream",
     "text": [
      "C:\\Users\\LAPTOP\\AppData\\Local\\Temp\\ipykernel_27792\\2919912823.py:2: UserWarning: FixedFormatter should only be used together with FixedLocator\n",
      "  ax.set_xticklabels(ax.get_xticklabels(), rotation=90);\n"
     ]
    },
    {
     "data": {
      "image/png": "[encoded data removed]",
      "text/plain": [
       "<Figure size 640x480 with 1 Axes>"
      ]
     },
     "metadata": {},
     "output_type": "display_data"
    }
   ],
   "source": [
    "ax = sns.histplot(data , x='S_PRESTAMO', hue='MORA',stat='percent', multiple='stack')\n",
    "ax.set_xticklabels(ax.get_xticklabels(), rotation=90);"
   ]
  },
  {
   "cell_type": "markdown",
   "metadata": {},
   "source": [
    "### NRO_REPROGRAMACIONES"
   ]
  },
  {
   "cell_type": "code",
   "execution_count": 342,
   "metadata": {},
   "outputs": [
    {
     "data": {
      "text/plain": [
       "count    3823.000000\n",
       "mean        2.191734\n",
       "std         1.489582\n",
       "min         0.000000\n",
       "25%         1.000000\n",
       "50%         2.000000\n",
       "75%         3.000000\n",
       "max        13.000000\n",
       "Name: NRO_REPRO, dtype: float64"
      ]
     },
     "execution_count": 342,
     "metadata": {},
     "output_type": "execute_result"
    }
   ],
   "source": [
    "data.NRO_REPRO.describe()"
   ]
  },
  {
   "cell_type": "code",
   "execution_count": 343,
   "metadata": {},
   "outputs": [],
   "source": [
    "data['IS_REPRO'] = data['NRO_REPRO'].apply(lambda x: 1 if x >= 1 else 0)"
   ]
  },
  {
   "cell_type": "markdown",
   "metadata": {},
   "source": [
    "### RESUMEN"
   ]
  },
  {
   "cell_type": "code",
   "execution_count": 344,
   "metadata": {},
   "outputs": [
    {
     "data": {
      "text/html": [
       "<div>\n",
       "<style scoped>\n",
       "    .dataframe tbody tr th:only-of-type {\n",
       "        vertical-align: middle;\n",
       "    }\n",
       "\n",
       "    .dataframe tbody tr th {\n",
       "        vertical-align: top;\n",
       "    }\n",
       "\n",
       "    .dataframe thead th {\n",
       "        text-align: right;\n",
       "    }\n",
       "</style>\n",
       "<table border=\"1\" class=\"dataframe\">\n",
       "  <thead>\n",
       "    <tr style=\"text-align: right;\">\n",
       "      <th></th>\n",
       "      <th>SOCIO</th>\n",
       "      <th>CUENTA</th>\n",
       "      <th>AGENCIA</th>\n",
       "      <th>TIPO_SOCIO</th>\n",
       "      <th>MONEDA</th>\n",
       "      <th>PAGARE</th>\n",
       "      <th>PRODUCTO</th>\n",
       "      <th>FEC_ULT_PAGO</th>\n",
       "      <th>TEA_INTERES</th>\n",
       "      <th>CUOTA_FIJA</th>\n",
       "      <th>...</th>\n",
       "      <th>RANGO_EDAD</th>\n",
       "      <th>CUO_ATRASADAS</th>\n",
       "      <th>CUO_FALTANTES_VIGENTESF</th>\n",
       "      <th>CUO_FALTANTES</th>\n",
       "      <th>DIAS_ATRASADOS</th>\n",
       "      <th>MONTO_PRESTAMOF</th>\n",
       "      <th>M_PRESTAMO</th>\n",
       "      <th>SALDO_PRESTAMOF</th>\n",
       "      <th>S_PRESTAMO</th>\n",
       "      <th>IS_REPRO</th>\n",
       "    </tr>\n",
       "  </thead>\n",
       "  <tbody>\n",
       "    <tr>\n",
       "      <th>0</th>\n",
       "      <td>TORRES PUMA, JOSEPH</td>\n",
       "      <td>16927</td>\n",
       "      <td>1</td>\n",
       "      <td>1</td>\n",
       "      <td>S</td>\n",
       "      <td>01-    16945</td>\n",
       "      <td>MAS VELOZ</td>\n",
       "      <td>2021-11-10</td>\n",
       "      <td>69.39</td>\n",
       "      <td>121.22</td>\n",
       "      <td>...</td>\n",
       "      <td>25-35</td>\n",
       "      <td>4-6</td>\n",
       "      <td>1</td>\n",
       "      <td>1-6</td>\n",
       "      <td>90+</td>\n",
       "      <td>1</td>\n",
       "      <td>1020.0-1100.0</td>\n",
       "      <td>2</td>\n",
       "      <td>535.0-845.0</td>\n",
       "      <td>0</td>\n",
       "    </tr>\n",
       "    <tr>\n",
       "      <th>1</th>\n",
       "      <td>AROCCA PEREZ, MEDALY</td>\n",
       "      <td>17992</td>\n",
       "      <td>1</td>\n",
       "      <td>1</td>\n",
       "      <td>S</td>\n",
       "      <td>01-17776</td>\n",
       "      <td>CREDITO DIGITAL</td>\n",
       "      <td>2021-10-31</td>\n",
       "      <td>101.22</td>\n",
       "      <td>426.95</td>\n",
       "      <td>...</td>\n",
       "      <td>18-25</td>\n",
       "      <td>3</td>\n",
       "      <td>1</td>\n",
       "      <td>1-6</td>\n",
       "      <td>90+</td>\n",
       "      <td>4</td>\n",
       "      <td>1510.0-2000.0</td>\n",
       "      <td>3</td>\n",
       "      <td>845.0-1160.0</td>\n",
       "      <td>0</td>\n",
       "    </tr>\n",
       "    <tr>\n",
       "      <th>2</th>\n",
       "      <td>CHOSEC TTITO, KAREN</td>\n",
       "      <td>27494</td>\n",
       "      <td>3</td>\n",
       "      <td>1</td>\n",
       "      <td>S</td>\n",
       "      <td>03-0010240-2</td>\n",
       "      <td>RAPIDIN INVERSION</td>\n",
       "      <td>2024-04-24</td>\n",
       "      <td>45.93</td>\n",
       "      <td>484.19</td>\n",
       "      <td>...</td>\n",
       "      <td>25-35</td>\n",
       "      <td>0</td>\n",
       "      <td>1</td>\n",
       "      <td>1-6</td>\n",
       "      <td>0</td>\n",
       "      <td>13</td>\n",
       "      <td>10125.0-20000.0</td>\n",
       "      <td>3</td>\n",
       "      <td>845.0-1160.0</td>\n",
       "      <td>0</td>\n",
       "    </tr>\n",
       "    <tr>\n",
       "      <th>3</th>\n",
       "      <td>CASTILLO SACA, ALEJANDRA</td>\n",
       "      <td>24538</td>\n",
       "      <td>3</td>\n",
       "      <td>1</td>\n",
       "      <td>S</td>\n",
       "      <td>03-0010590</td>\n",
       "      <td>SEMANAL MICRO</td>\n",
       "      <td>2024-04-26</td>\n",
       "      <td>100.08</td>\n",
       "      <td>146.11</td>\n",
       "      <td>...</td>\n",
       "      <td>45-55</td>\n",
       "      <td>1</td>\n",
       "      <td>0</td>\n",
       "      <td>1-6</td>\n",
       "      <td>15-45</td>\n",
       "      <td>1</td>\n",
       "      <td>1020.0-1100.0</td>\n",
       "      <td>1</td>\n",
       "      <td>1.0-534.0</td>\n",
       "      <td>0</td>\n",
       "    </tr>\n",
       "    <tr>\n",
       "      <th>4</th>\n",
       "      <td>CARBAJAL CARDENAS, MARITZA</td>\n",
       "      <td>27564</td>\n",
       "      <td>3</td>\n",
       "      <td>1</td>\n",
       "      <td>S</td>\n",
       "      <td>03-   0010852</td>\n",
       "      <td>PAGA DIARIO (CT)</td>\n",
       "      <td>2024-04-20</td>\n",
       "      <td>125.22</td>\n",
       "      <td>19.32</td>\n",
       "      <td>...</td>\n",
       "      <td>45-55</td>\n",
       "      <td>0</td>\n",
       "      <td>0</td>\n",
       "      <td>0</td>\n",
       "      <td>0</td>\n",
       "      <td>0</td>\n",
       "      <td>200.0-1015.0</td>\n",
       "      <td>0</td>\n",
       "      <td>0</td>\n",
       "      <td>0</td>\n",
       "    </tr>\n",
       "  </tbody>\n",
       "</table>\n",
       "<p>5 rows × 44 columns</p>\n",
       "</div>"
      ],
      "text/plain": [
       "                        SOCIO  CUENTA  AGENCIA  TIPO_SOCIO MONEDA  \\\n",
       "0         TORRES PUMA, JOSEPH   16927        1           1      S   \n",
       "1        AROCCA PEREZ, MEDALY   17992        1           1      S   \n",
       "2         CHOSEC TTITO, KAREN   27494        3           1      S   \n",
       "3    CASTILLO SACA, ALEJANDRA   24538        3           1      S   \n",
       "4  CARBAJAL CARDENAS, MARITZA   27564        3           1      S   \n",
       "\n",
       "           PAGARE           PRODUCTO FEC_ULT_PAGO  TEA_INTERES  CUOTA_FIJA  \\\n",
       "0    01-    16945          MAS VELOZ   2021-11-10        69.39      121.22   \n",
       "1    01-17776        CREDITO DIGITAL   2021-10-31       101.22      426.95   \n",
       "2    03-0010240-2  RAPIDIN INVERSION   2024-04-24        45.93      484.19   \n",
       "3    03-0010590        SEMANAL MICRO   2024-04-26       100.08      146.11   \n",
       "4   03-   0010852   PAGA DIARIO (CT)   2024-04-20       125.22       19.32   \n",
       "\n",
       "   ...  RANGO_EDAD CUO_ATRASADAS  CUO_FALTANTES_VIGENTESF CUO_FALTANTES  \\\n",
       "0  ...       25-35           4-6                        1           1-6   \n",
       "1  ...       18-25             3                        1           1-6   \n",
       "2  ...       25-35             0                        1           1-6   \n",
       "3  ...       45-55             1                        0           1-6   \n",
       "4  ...       45-55             0                        0             0   \n",
       "\n",
       "  DIAS_ATRASADOS MONTO_PRESTAMOF       M_PRESTAMO SALDO_PRESTAMOF  \\\n",
       "0            90+               1    1020.0-1100.0               2   \n",
       "1            90+               4    1510.0-2000.0               3   \n",
       "2              0              13  10125.0-20000.0               3   \n",
       "3          15-45               1    1020.0-1100.0               1   \n",
       "4              0               0     200.0-1015.0               0   \n",
       "\n",
       "     S_PRESTAMO  IS_REPRO  \n",
       "0   535.0-845.0         0  \n",
       "1  845.0-1160.0         0  \n",
       "2  845.0-1160.0         0  \n",
       "3     1.0-534.0         0  \n",
       "4             0         0  \n",
       "\n",
       "[5 rows x 44 columns]"
      ]
     },
     "execution_count": 344,
     "metadata": {},
     "output_type": "execute_result"
    }
   ],
   "source": [
    "data.head()"
   ]
  },
  {
   "cell_type": "code",
   "execution_count": 345,
   "metadata": {},
   "outputs": [],
   "source": [
    "data.drop(['TEA_INTERES','CUOTA_FIJA','EDAD','NCUO_ATRASADAS','CUO_FALTANTES_VIGENTES','NDIAS_ATRASADOS','MONTO_PRESTAMO','SALDO_PRESTAMO','NRO_REPRO'], axis=1, inplace = True)\n"
   ]
  },
  {
   "cell_type": "code",
   "execution_count": 346,
   "metadata": {},
   "outputs": [],
   "source": [
    "data.rename(index=str, columns={\n",
    "    'TEA_ANUAL': 'TEA_INTERES',\n",
    "    'CUO_FIJA': 'CUOTA_FIJA',\n",
    "    'RANGO_EDAD': 'EDAD',\n",
    "    'CUO_ATRASADAS':'NCUO_ATRASADAS',\n",
    "    'CUO_FALTANTES':'CUO_FALTANTES_VIGENTES',\n",
    "    'DIAS_ATRASADOS':'NDIAS_ATRASADOS',\n",
    "    'M_PRESTAMO':'MONTO_PRESTAMO',\n",
    "    'S_PRESTAMO':'SALDO_PRESTAMO'\n",
    "},inplace=True)"
   ]
  },
  {
   "cell_type": "code",
   "execution_count": 347,
   "metadata": {},
   "outputs": [],
   "source": [
    "data['TEA_INTERES'] = data['TEA_INTERES'].astype('object')\n",
    "data['CUOTA_FIJA'] = data['CUOTA_FIJA'].astype('object')\n",
    "data['EDAD'] = data['EDAD'].astype('object')\n",
    "data['NCUO_ATRASADAS'] = data['NCUO_ATRASADAS'].astype('object')\n",
    "data['CUO_FALTANTES_VIGENTES'] = data['CUO_FALTANTES_VIGENTES'].astype('object')\n",
    "data['NDIAS_ATRASADOS'] = data['NDIAS_ATRASADOS'].astype('object')\n",
    "data['MONTO_PRESTAMO'] = data['MONTO_PRESTAMO'].astype('object')\n",
    "data['SALDO_PRESTAMO'] = data['SALDO_PRESTAMO'].astype('object')"
   ]
  },
  {
   "cell_type": "code",
   "execution_count": 348,
   "metadata": {},
   "outputs": [
    {
     "name": "stdout",
     "output_type": "stream",
     "text": [
      "<class 'pandas.core.frame.DataFrame'>\n",
      "Index: 9734 entries, 0 to 9733\n",
      "Data columns (total 35 columns):\n",
      " #   Column                   Non-Null Count  Dtype   \n",
      "---  ------                   --------------  -----   \n",
      " 0   SOCIO                    9734 non-null   object  \n",
      " 1   CUENTA                   9734 non-null   int64   \n",
      " 2   AGENCIA                  9734 non-null   int64   \n",
      " 3   TIPO_SOCIO               9734 non-null   int64   \n",
      " 4   MONEDA                   9734 non-null   object  \n",
      " 5   PAGARE                   9734 non-null   object  \n",
      " 6   PRODUCTO                 9734 non-null   object  \n",
      " 7   FEC_ULT_PAGO             9734 non-null   object  \n",
      " 8   DIAS                     9734 non-null   int64   \n",
      " 9   NOM_FRECUENCIA           9734 non-null   object  \n",
      " 10  ESTADO_CIVIL             9734 non-null   object  \n",
      " 11  SEXO                     9734 non-null   object  \n",
      " 12  TIPO_VIVIENDA            9734 non-null   object  \n",
      " 13  OTORGA                   9734 non-null   object  \n",
      " 14  RIESGO_INDIVIDUAL        9734 non-null   object  \n",
      " 15  ANA_ORIGEN               9734 non-null   object  \n",
      " 16  ANA_ACTUAL               9734 non-null   object  \n",
      " 17  PROFESION                9734 non-null   object  \n",
      " 18  OCUPACION                9336 non-null   object  \n",
      " 19  ACTIVIDAD_ECO            9734 non-null   object  \n",
      " 20  MORA                     9734 non-null   int32   \n",
      " 21  TEA_INTERESF             9734 non-null   category\n",
      " 22  TEA_INTERES              9734 non-null   object  \n",
      " 23  CUOTA_FIJAF              9729 non-null   category\n",
      " 24  CUOTA_FIJA               9734 non-null   object  \n",
      " 25  EDAD                     9734 non-null   object  \n",
      " 26  NCUO_ATRASADAS           9734 non-null   object  \n",
      " 27  CUO_FALTANTES_VIGENTESF  9734 non-null   category\n",
      " 28  CUO_FALTANTES_VIGENTES   9734 non-null   object  \n",
      " 29  NDIAS_ATRASADOS          9734 non-null   object  \n",
      " 30  MONTO_PRESTAMOF          9734 non-null   category\n",
      " 31  MONTO_PRESTAMO           9734 non-null   object  \n",
      " 32  SALDO_PRESTAMOF          9734 non-null   category\n",
      " 33  SALDO_PRESTAMO           9734 non-null   object  \n",
      " 34  IS_REPRO                 9734 non-null   int64   \n",
      "dtypes: category(5), int32(1), int64(5), object(24)\n",
      "memory usage: 2.3+ MB\n"
     ]
    }
   ],
   "source": [
    "data.info()"
   ]
  },
  {
   "cell_type": "code",
   "execution_count": 349,
   "metadata": {},
   "outputs": [
    {
     "data": {
      "text/html": [
       "<div>\n",
       "<style scoped>\n",
       "    .dataframe tbody tr th:only-of-type {\n",
       "        vertical-align: middle;\n",
       "    }\n",
       "\n",
       "    .dataframe tbody tr th {\n",
       "        vertical-align: top;\n",
       "    }\n",
       "\n",
       "    .dataframe thead th {\n",
       "        text-align: right;\n",
       "    }\n",
       "</style>\n",
       "<table border=\"1\" class=\"dataframe\">\n",
       "  <thead>\n",
       "    <tr style=\"text-align: right;\">\n",
       "      <th></th>\n",
       "      <th>SOCIO</th>\n",
       "      <th>CUENTA</th>\n",
       "      <th>AGENCIA</th>\n",
       "      <th>TIPO_SOCIO</th>\n",
       "      <th>MONEDA</th>\n",
       "      <th>PAGARE</th>\n",
       "      <th>PRODUCTO</th>\n",
       "      <th>FEC_ULT_PAGO</th>\n",
       "      <th>DIAS</th>\n",
       "      <th>NOM_FRECUENCIA</th>\n",
       "      <th>...</th>\n",
       "      <th>EDAD</th>\n",
       "      <th>NCUO_ATRASADAS</th>\n",
       "      <th>CUO_FALTANTES_VIGENTESF</th>\n",
       "      <th>CUO_FALTANTES_VIGENTES</th>\n",
       "      <th>NDIAS_ATRASADOS</th>\n",
       "      <th>MONTO_PRESTAMOF</th>\n",
       "      <th>MONTO_PRESTAMO</th>\n",
       "      <th>SALDO_PRESTAMOF</th>\n",
       "      <th>SALDO_PRESTAMO</th>\n",
       "      <th>IS_REPRO</th>\n",
       "    </tr>\n",
       "  </thead>\n",
       "  <tbody>\n",
       "    <tr>\n",
       "      <th>7300</th>\n",
       "      <td>CURASI GUITIERREZ, ALEXANDRA</td>\n",
       "      <td>21642</td>\n",
       "      <td>5</td>\n",
       "      <td>1</td>\n",
       "      <td>S</td>\n",
       "      <td>05-001029-22</td>\n",
       "      <td>RAPIDIN (CT)</td>\n",
       "      <td>2023-10-31</td>\n",
       "      <td>7</td>\n",
       "      <td>SEMANAS</td>\n",
       "      <td>...</td>\n",
       "      <td>18-25</td>\n",
       "      <td>0</td>\n",
       "      <td>5</td>\n",
       "      <td>35-60</td>\n",
       "      <td>0</td>\n",
       "      <td>2</td>\n",
       "      <td>1110.0-1130.0</td>\n",
       "      <td>1</td>\n",
       "      <td>1.0-534.0</td>\n",
       "      <td>1</td>\n",
       "    </tr>\n",
       "    <tr>\n",
       "      <th>2180</th>\n",
       "      <td>FUENTES BORDA, IRVING FELIX</td>\n",
       "      <td>27504</td>\n",
       "      <td>1</td>\n",
       "      <td>1</td>\n",
       "      <td>S</td>\n",
       "      <td>01-0027308-24</td>\n",
       "      <td>CONSUMO FORMAL</td>\n",
       "      <td>2024-04-29</td>\n",
       "      <td>30</td>\n",
       "      <td>MESES</td>\n",
       "      <td>...</td>\n",
       "      <td>35-45</td>\n",
       "      <td>0</td>\n",
       "      <td>3</td>\n",
       "      <td>12-18</td>\n",
       "      <td>0</td>\n",
       "      <td>6</td>\n",
       "      <td>2210.0-2290.0</td>\n",
       "      <td>5</td>\n",
       "      <td>1723.0-2460.0</td>\n",
       "      <td>0</td>\n",
       "    </tr>\n",
       "    <tr>\n",
       "      <th>3812</th>\n",
       "      <td>HUILLCA MEJIA, MARJORIT DEYSI</td>\n",
       "      <td>19235</td>\n",
       "      <td>2</td>\n",
       "      <td>1</td>\n",
       "      <td>S</td>\n",
       "      <td>02-007408-23</td>\n",
       "      <td>NEGOCIO INVERSION</td>\n",
       "      <td>2023-03-13</td>\n",
       "      <td>30</td>\n",
       "      <td>MESES</td>\n",
       "      <td>...</td>\n",
       "      <td>18-25</td>\n",
       "      <td>0</td>\n",
       "      <td>5</td>\n",
       "      <td>35-60</td>\n",
       "      <td>0</td>\n",
       "      <td>13</td>\n",
       "      <td>10125.0-20000.0</td>\n",
       "      <td>8</td>\n",
       "      <td>7832.0-177657.0</td>\n",
       "      <td>1</td>\n",
       "    </tr>\n",
       "    <tr>\n",
       "      <th>9546</th>\n",
       "      <td>SANDOVAL HUAMANI, MARTIN</td>\n",
       "      <td>23820</td>\n",
       "      <td>8</td>\n",
       "      <td>1</td>\n",
       "      <td>S</td>\n",
       "      <td>08-0000072-24</td>\n",
       "      <td>PAGA DIARIO (CT)</td>\n",
       "      <td>2024-04-03</td>\n",
       "      <td>1</td>\n",
       "      <td>DIAS</td>\n",
       "      <td>...</td>\n",
       "      <td>65+</td>\n",
       "      <td>0</td>\n",
       "      <td>0</td>\n",
       "      <td>0</td>\n",
       "      <td>0</td>\n",
       "      <td>11</td>\n",
       "      <td>5510.0-7000.0</td>\n",
       "      <td>0</td>\n",
       "      <td>0</td>\n",
       "      <td>0</td>\n",
       "    </tr>\n",
       "    <tr>\n",
       "      <th>733</th>\n",
       "      <td>MIRANDA AQUINO, CLOTILDE YUREMA</td>\n",
       "      <td>23184</td>\n",
       "      <td>1</td>\n",
       "      <td>1</td>\n",
       "      <td>S</td>\n",
       "      <td>01-0024355-23</td>\n",
       "      <td>NEGOCIO INVERSION</td>\n",
       "      <td>2024-04-30</td>\n",
       "      <td>30</td>\n",
       "      <td>MESES</td>\n",
       "      <td>...</td>\n",
       "      <td>18-25</td>\n",
       "      <td>0</td>\n",
       "      <td>4</td>\n",
       "      <td>19-34</td>\n",
       "      <td>0</td>\n",
       "      <td>13</td>\n",
       "      <td>10125.0-20000.0</td>\n",
       "      <td>8</td>\n",
       "      <td>7832.0-177657.0</td>\n",
       "      <td>1</td>\n",
       "    </tr>\n",
       "    <tr>\n",
       "      <th>6262</th>\n",
       "      <td>QUISPE ENRIQUEZ, VILMA SOLEDAD</td>\n",
       "      <td>20718</td>\n",
       "      <td>1</td>\n",
       "      <td>1</td>\n",
       "      <td>S</td>\n",
       "      <td>04-001577-22</td>\n",
       "      <td>PAGA DIARIO (CT)</td>\n",
       "      <td>2023-12-29</td>\n",
       "      <td>1</td>\n",
       "      <td>DIAS</td>\n",
       "      <td>...</td>\n",
       "      <td>35-45</td>\n",
       "      <td>12+</td>\n",
       "      <td>4</td>\n",
       "      <td>19-34</td>\n",
       "      <td>90+</td>\n",
       "      <td>5</td>\n",
       "      <td>2000.0-2200.0</td>\n",
       "      <td>3</td>\n",
       "      <td>845.0-1160.0</td>\n",
       "      <td>1</td>\n",
       "    </tr>\n",
       "    <tr>\n",
       "      <th>8480</th>\n",
       "      <td>ITO YUCRA, NELIDA</td>\n",
       "      <td>29442</td>\n",
       "      <td>98</td>\n",
       "      <td>1</td>\n",
       "      <td>S</td>\n",
       "      <td>06-0000173-24</td>\n",
       "      <td>PYME 1</td>\n",
       "      <td>2024-04-27</td>\n",
       "      <td>30</td>\n",
       "      <td>MESES</td>\n",
       "      <td>...</td>\n",
       "      <td>45-55</td>\n",
       "      <td>0</td>\n",
       "      <td>3</td>\n",
       "      <td>12-18</td>\n",
       "      <td>0</td>\n",
       "      <td>8</td>\n",
       "      <td>3035.0-3360.0</td>\n",
       "      <td>6</td>\n",
       "      <td>2460.0-3853.0</td>\n",
       "      <td>0</td>\n",
       "    </tr>\n",
       "    <tr>\n",
       "      <th>2544</th>\n",
       "      <td>CALVO FERNANDEZ, RUBEN DARIO</td>\n",
       "      <td>10738</td>\n",
       "      <td>1</td>\n",
       "      <td>1</td>\n",
       "      <td>S</td>\n",
       "      <td>01-015434-20</td>\n",
       "      <td>PAGA DIARIO (CT)</td>\n",
       "      <td>2021-08-25</td>\n",
       "      <td>1</td>\n",
       "      <td>DIAS</td>\n",
       "      <td>...</td>\n",
       "      <td>45-55</td>\n",
       "      <td>12+</td>\n",
       "      <td>6</td>\n",
       "      <td>61-495</td>\n",
       "      <td>90+</td>\n",
       "      <td>7</td>\n",
       "      <td>2300.0-3030.0</td>\n",
       "      <td>6</td>\n",
       "      <td>2460.0-3853.0</td>\n",
       "      <td>0</td>\n",
       "    </tr>\n",
       "    <tr>\n",
       "      <th>6667</th>\n",
       "      <td>QUISPE CRUZ, JULIO FRANKLIN</td>\n",
       "      <td>27264</td>\n",
       "      <td>1</td>\n",
       "      <td>1</td>\n",
       "      <td>S</td>\n",
       "      <td>04-002917-23</td>\n",
       "      <td>RAPIDIN (CT)</td>\n",
       "      <td>2024-04-16</td>\n",
       "      <td>30</td>\n",
       "      <td>MESES</td>\n",
       "      <td>...</td>\n",
       "      <td>18-25</td>\n",
       "      <td>0</td>\n",
       "      <td>2</td>\n",
       "      <td>7-11</td>\n",
       "      <td>0</td>\n",
       "      <td>5</td>\n",
       "      <td>2000.0-2200.0</td>\n",
       "      <td>4</td>\n",
       "      <td>1161.0-1721.0</td>\n",
       "      <td>0</td>\n",
       "    </tr>\n",
       "    <tr>\n",
       "      <th>816</th>\n",
       "      <td>BERMUDEZ QUISPE, RACHEL MILAGROS</td>\n",
       "      <td>17938</td>\n",
       "      <td>1</td>\n",
       "      <td>1</td>\n",
       "      <td>S</td>\n",
       "      <td>01-0024656-23</td>\n",
       "      <td>PAGA DIARIO (CT)</td>\n",
       "      <td>2024-04-11</td>\n",
       "      <td>1</td>\n",
       "      <td>DIAS</td>\n",
       "      <td>...</td>\n",
       "      <td>35-45</td>\n",
       "      <td>0</td>\n",
       "      <td>0</td>\n",
       "      <td>0</td>\n",
       "      <td>0</td>\n",
       "      <td>13</td>\n",
       "      <td>10125.0-20000.0</td>\n",
       "      <td>0</td>\n",
       "      <td>0</td>\n",
       "      <td>1</td>\n",
       "    </tr>\n",
       "  </tbody>\n",
       "</table>\n",
       "<p>10 rows × 35 columns</p>\n",
       "</div>"
      ],
      "text/plain": [
       "                                 SOCIO  CUENTA  AGENCIA  TIPO_SOCIO MONEDA  \\\n",
       "7300      CURASI GUITIERREZ, ALEXANDRA   21642        5           1      S   \n",
       "2180       FUENTES BORDA, IRVING FELIX   27504        1           1      S   \n",
       "3812     HUILLCA MEJIA, MARJORIT DEYSI   19235        2           1      S   \n",
       "9546          SANDOVAL HUAMANI, MARTIN   23820        8           1      S   \n",
       "733    MIRANDA AQUINO, CLOTILDE YUREMA   23184        1           1      S   \n",
       "6262    QUISPE ENRIQUEZ, VILMA SOLEDAD   20718        1           1      S   \n",
       "8480                 ITO YUCRA, NELIDA   29442       98           1      S   \n",
       "2544      CALVO FERNANDEZ, RUBEN DARIO   10738        1           1      S   \n",
       "6667       QUISPE CRUZ, JULIO FRANKLIN   27264        1           1      S   \n",
       "816   BERMUDEZ QUISPE, RACHEL MILAGROS   17938        1           1      S   \n",
       "\n",
       "              PAGARE           PRODUCTO FEC_ULT_PAGO  DIAS NOM_FRECUENCIA  \\\n",
       "7300  05-001029-22         RAPIDIN (CT)   2023-10-31     7        SEMANAS   \n",
       "2180  01-0027308-24      CONSUMO FORMAL   2024-04-29    30          MESES   \n",
       "3812  02-007408-23    NEGOCIO INVERSION   2023-03-13    30          MESES   \n",
       "9546  08-0000072-24    PAGA DIARIO (CT)   2024-04-03     1          DIAS    \n",
       "733   01-0024355-23   NEGOCIO INVERSION   2024-04-30    30          MESES   \n",
       "6262  04-001577-22     PAGA DIARIO (CT)   2023-12-29     1          DIAS    \n",
       "8480  06-0000173-24              PYME 1   2024-04-27    30          MESES   \n",
       "2544  01-015434-20     PAGA DIARIO (CT)   2021-08-25     1          DIAS    \n",
       "6667  04-002917-23         RAPIDIN (CT)   2024-04-16    30          MESES   \n",
       "816   01-0024656-23    PAGA DIARIO (CT)   2024-04-11     1          DIAS    \n",
       "\n",
       "      ...   EDAD NCUO_ATRASADAS CUO_FALTANTES_VIGENTESF  \\\n",
       "7300  ...  18-25              0                       5   \n",
       "2180  ...  35-45              0                       3   \n",
       "3812  ...  18-25              0                       5   \n",
       "9546  ...    65+              0                       0   \n",
       "733   ...  18-25              0                       4   \n",
       "6262  ...  35-45            12+                       4   \n",
       "8480  ...  45-55              0                       3   \n",
       "2544  ...  45-55            12+                       6   \n",
       "6667  ...  18-25              0                       2   \n",
       "816   ...  35-45              0                       0   \n",
       "\n",
       "     CUO_FALTANTES_VIGENTES NDIAS_ATRASADOS MONTO_PRESTAMOF   MONTO_PRESTAMO  \\\n",
       "7300                  35-60               0               2    1110.0-1130.0   \n",
       "2180                  12-18               0               6    2210.0-2290.0   \n",
       "3812                  35-60               0              13  10125.0-20000.0   \n",
       "9546                      0               0              11    5510.0-7000.0   \n",
       "733                   19-34               0              13  10125.0-20000.0   \n",
       "6262                  19-34             90+               5    2000.0-2200.0   \n",
       "8480                  12-18               0               8    3035.0-3360.0   \n",
       "2544                 61-495             90+               7    2300.0-3030.0   \n",
       "6667                   7-11               0               5    2000.0-2200.0   \n",
       "816                       0               0              13  10125.0-20000.0   \n",
       "\n",
       "     SALDO_PRESTAMOF   SALDO_PRESTAMO IS_REPRO  \n",
       "7300               1        1.0-534.0        1  \n",
       "2180               5    1723.0-2460.0        0  \n",
       "3812               8  7832.0-177657.0        1  \n",
       "9546               0                0        0  \n",
       "733                8  7832.0-177657.0        1  \n",
       "6262               3     845.0-1160.0        1  \n",
       "8480               6    2460.0-3853.0        0  \n",
       "2544               6    2460.0-3853.0        0  \n",
       "6667               4    1161.0-1721.0        0  \n",
       "816                0                0        1  \n",
       "\n",
       "[10 rows x 35 columns]"
      ]
     },
     "execution_count": 349,
     "metadata": {},
     "output_type": "execute_result"
    }
   ],
   "source": [
    "data.sample(10)"
   ]
  },
  {
   "cell_type": "markdown",
   "metadata": {},
   "source": [
    "### RESPECTO A LA MORA"
   ]
  },
  {
   "cell_type": "markdown",
   "metadata": {},
   "source": [
    "#### TEA INTERES"
   ]
  },
  {
   "cell_type": "code",
   "execution_count": 350,
   "metadata": {},
   "outputs": [
    {
     "name": "stderr",
     "output_type": "stream",
     "text": [
      "C:\\Users\\LAPTOP\\AppData\\Local\\Temp\\ipykernel_27792\\4138738797.py:2: UserWarning: FixedFormatter should only be used together with FixedLocator\n",
      "  x.set_xticklabels(x.get_xticklabels(), rotation=90);\n"
     ]
    },
    {
     "data": {
      "image/png": "[encoded data removed]",
      "text/plain": [
       "<Figure size 640x480 with 1 Axes>"
      ]
     },
     "metadata": {},
     "output_type": "display_data"
    }
   ],
   "source": [
    "x = sns.countplot(data, x='TEA_INTERES', hue='MORA',order = ordenar(list(set(data['TEA_INTERES'].unique()))))\n",
    "x.set_xticklabels(x.get_xticklabels(), rotation=90);"
   ]
  },
  {
   "cell_type": "markdown",
   "metadata": {},
   "source": [
    "##### Insights\n",
    "- La mayoría de los valores de TEA_INTERES se concentran en el intervalo de 80.0-100.0, seguido de cerca por los intervalos 0.0-41.0 y 205.0-290.0, estos dos primeros tienen menor cantidad de socios que cayeron en default.\n",
    "- Los prestamos con intervalos de 49-60, 60-80, 126-157, 290-500 de TEA_INTERES presentan una mayor cantidad de mora con respecto a creditos sin mora en el mismo intervalo.\n",
    "- Como se muestra en grafico, ciertos rangos específicos de TEA_INTERES pueden estar asociados con un mayor riesgo de mora."
   ]
  },
  {
   "cell_type": "markdown",
   "metadata": {},
   "source": [
    "### CUOTA"
   ]
  },
  {
   "cell_type": "code",
   "execution_count": 351,
   "metadata": {},
   "outputs": [
    {
     "data": {
      "text/plain": [
       "CUOTA_FIJA\n",
       "0.0-21.0         758\n",
       "38.0-49.0        751\n",
       "102.0-138.0      749\n",
       "797.0-13378.0    749\n",
       "187.0-233.0      749\n",
       "313.0-460.0      748\n",
       "460.0-796.0      748\n",
       "138.0-187.0      748\n",
       "234.0-313.0      748\n",
       "49.0-72.0        747\n",
       "72.0-102.0       747\n",
       "29.0-38.0        746\n",
       "21.0-29.0        746\n",
       "Name: count, dtype: int64"
      ]
     },
     "execution_count": 351,
     "metadata": {},
     "output_type": "execute_result"
    }
   ],
   "source": [
    "data.CUOTA_FIJA.value_counts()"
   ]
  },
  {
   "cell_type": "code",
   "execution_count": 352,
   "metadata": {},
   "outputs": [
    {
     "data": {
      "text/plain": [
       "0"
      ]
     },
     "execution_count": 352,
     "metadata": {},
     "output_type": "execute_result"
    }
   ],
   "source": [
    "data['CUOTA_FIJA'].isna().sum()"
   ]
  },
  {
   "cell_type": "code",
   "execution_count": 353,
   "metadata": {},
   "outputs": [
    {
     "name": "stderr",
     "output_type": "stream",
     "text": [
      "C:\\Users\\LAPTOP\\AppData\\Local\\Temp\\ipykernel_27792\\3478352474.py:2: UserWarning: FixedFormatter should only be used together with FixedLocator\n",
      "  x.set_xticklabels(x.get_xticklabels(), rotation=90);\n"
     ]
    },
    {
     "data": {
      "image/png": "[encoded data removed]",
      "text/plain": [
       "<Figure size 640x480 with 1 Axes>"
      ]
     },
     "metadata": {},
     "output_type": "display_data"
    }
   ],
   "source": [
    "x = sns.countplot(data, x='CUOTA_FIJA', hue='MORA', order = ordenar(list(set(data['CUOTA_FIJA'].unique()))))\n",
    "x.set_xticklabels(x.get_xticklabels(), rotation=90);"
   ]
  },
  {
   "cell_type": "markdown",
   "metadata": {},
   "source": [
    "#### INSIGHTS\n",
    "- Se puede observar en el gráfico que a medida que el valor de la COUTA_FIJA aumenta, el porcentaje de morosidad disminuye en general.\n",
    "- En los intervalos más bajos de CUOTA_FIJA (0.0-20.0 a 78.0-100.0), la proporción de MORA = 1 es relativamente alta en comparación con los intervalos más altos. Esto sugiere que las cuotas fijas más bajas podrían estar asociadas con un mayor riesgo de mora."
   ]
  },
  {
   "cell_type": "markdown",
   "metadata": {},
   "source": [
    "#### NCUO_ATRASADAS"
   ]
  },
  {
   "cell_type": "code",
   "execution_count": 355,
   "metadata": {},
   "outputs": [
    {
     "name": "stderr",
     "output_type": "stream",
     "text": [
      "C:\\Users\\LAPTOP\\AppData\\Local\\Temp\\ipykernel_27792\\1241296347.py:2: UserWarning: FixedFormatter should only be used together with FixedLocator\n",
      "  x.set_xticklabels(x.get_xticklabels(), rotation=90);\n"
     ]
    },
    {
     "data": {
      "image/png": "[encoded data removed]",
      "text/plain": [
       "<Figure size 640x480 with 1 Axes>"
      ]
     },
     "metadata": {},
     "output_type": "display_data"
    }
   ],
   "source": [
    "x = sns.countplot(data, x='NCUO_ATRASADAS', hue='MORA' ,order=sorted(data['NCUO_ATRASADAS'].unique()))\n",
    "x.set_xticklabels(x.get_xticklabels(), rotation=90);"
   ]
  },
  {
   "cell_type": "markdown",
   "metadata": {},
   "source": [
    "### INSIGHTS\n",
    "- Se puede observar la cantidad de cuotas atrasadas es minima en comparacion a prestamos que presentan cuotas atrasadas.\n",
    "- Según el grafico tambien podemos percibir que conforme aumenta el numero de cuotas atrasadas, tambien lo hace la mora."
   ]
  },
  {
   "cell_type": "markdown",
   "metadata": {},
   "source": [
    "#### CUO_FALTANTES_VIGENTES"
   ]
  },
  {
   "cell_type": "code",
   "execution_count": 70,
   "metadata": {},
   "outputs": [
    {
     "data": {
      "text/plain": [
       "CUO_FALTANTES_VIGENTES\n",
       "35-60     2001\n",
       "1-6       1631\n",
       "7-11      1494\n",
       "19-34     1338\n",
       "0         1305\n",
       "12-18     1212\n",
       "61-495     753\n",
       "Name: count, dtype: int64"
      ]
     },
     "execution_count": 70,
     "metadata": {},
     "output_type": "execute_result"
    }
   ],
   "source": [
    "data.CUO_FALTANTES_VIGENTES.value_counts()"
   ]
  },
  {
   "cell_type": "code",
   "execution_count": 71,
   "metadata": {},
   "outputs": [
    {
     "data": {
      "image/png": "[encoded data removed]",
      "text/plain": [
       "<Figure size 640x480 with 1 Axes>"
      ]
     },
     "metadata": {},
     "output_type": "display_data"
    }
   ],
   "source": [
    "x = sns.countplot(data, x='CUO_FALTANTES_VIGENTES', hue='MORA',order=ordenar(list(set(data['CUO_FALTANTES_VIGENTES'].unique()))))\n"
   ]
  },
  {
   "cell_type": "markdown",
   "metadata": {},
   "source": [
    "#### INSIGHTS\n",
    "- Segun el grafico en el rango (1-34) se puede inferir que segun el numero de cuotas faltantes disminuye, el riesgo de mora aumenta.\n",
    "- Podemos observas que en el rango de 35-60 cuotas faltantes, el riesgo de mora aumenta significativamente respecto a las demas categorias, esto puede indicar que dentro de esta categoria hay un alto porcentaje de prestamos que dejan de ser pagados o existe atrasos en sus pagos."
   ]
  },
  {
   "cell_type": "markdown",
   "metadata": {},
   "source": [
    "#### NDIAS_ATRASADOS"
   ]
  },
  {
   "cell_type": "code",
   "execution_count": 72,
   "metadata": {},
   "outputs": [
    {
     "data": {
      "text/plain": [
       "NDIAS_ATRASADOS\n",
       "0        6281\n",
       "90+      1180\n",
       "1-15      754\n",
       "45-60     688\n",
       "15-45     658\n",
       "60-90     173\n",
       "Name: count, dtype: int64"
      ]
     },
     "execution_count": 72,
     "metadata": {},
     "output_type": "execute_result"
    }
   ],
   "source": [
    "data.NDIAS_ATRASADOS.value_counts()"
   ]
  },
  {
   "cell_type": "code",
   "execution_count": 73,
   "metadata": {},
   "outputs": [
    {
     "name": "stderr",
     "output_type": "stream",
     "text": [
      "C:\\Users\\LAPTOP\\AppData\\Local\\Temp\\ipykernel_27792\\618374493.py:2: UserWarning: FixedFormatter should only be used together with FixedLocator\n",
      "  x.set_xticklabels(x.get_xticklabels(), rotation=90);\n"
     ]
    },
    {
     "data": {
      "image/png": "[encoded data removed]",
      "text/plain": [
       "<Figure size 640x480 with 1 Axes>"
      ]
     },
     "metadata": {},
     "output_type": "display_data"
    }
   ],
   "source": [
    "x = sns.countplot(data, x='NDIAS_ATRASADOS', hue='MORA',order=sorted(data['NDIAS_ATRASADOS'].unique()))\n",
    "x.set_xticklabels(x.get_xticklabels(), rotation=90);"
   ]
  },
  {
   "cell_type": "markdown",
   "metadata": {},
   "source": [
    "#### INSIGHTS\n",
    "- Del grafico podemos deducir que el NDIAS_ATRASADOS influye en la MORA directamente en la mora."
   ]
  },
  {
   "cell_type": "markdown",
   "metadata": {},
   "source": [
    "#### MONTO_PRESTAMO"
   ]
  },
  {
   "cell_type": "code",
   "execution_count": 74,
   "metadata": {},
   "outputs": [
    {
     "data": {
      "text/plain": [
       "MONTO_PRESTAMO\n",
       "4510.0-5500.0       869\n",
       "200.0-1015.0        827\n",
       "2000.0-2200.0       757\n",
       "1510.0-2000.0       746\n",
       "2300.0-3030.0       683\n",
       "3035.0-3360.0       668\n",
       "7001.0-10120.0      666\n",
       "10125.0-20000.0     650\n",
       "20001.0-450000.0    628\n",
       "1135.0-1510.0       612\n",
       "1110.0-1130.0       610\n",
       "3370.0-4500.0       603\n",
       "1020.0-1100.0       551\n",
       "2210.0-2290.0       443\n",
       "5510.0-7000.0       421\n",
       "Name: count, dtype: int64"
      ]
     },
     "execution_count": 74,
     "metadata": {},
     "output_type": "execute_result"
    }
   ],
   "source": [
    "data.MONTO_PRESTAMO.value_counts()"
   ]
  },
  {
   "cell_type": "code",
   "execution_count": 75,
   "metadata": {},
   "outputs": [
    {
     "name": "stderr",
     "output_type": "stream",
     "text": [
      "C:\\Users\\LAPTOP\\AppData\\Local\\Temp\\ipykernel_27792\\1050183195.py:2: UserWarning: FixedFormatter should only be used together with FixedLocator\n",
      "  x.set_xticklabels(x.get_xticklabels(), rotation=90);\n"
     ]
    },
    {
     "data": {
      "image/png": "[encoded data removed]",
      "text/plain": [
       "<Figure size 640x480 with 1 Axes>"
      ]
     },
     "metadata": {},
     "output_type": "display_data"
    }
   ],
   "source": [
    "x = sns.countplot(data, x='MONTO_PRESTAMO', hue='MORA',order = ordenar(list(set(data['MONTO_PRESTAMO'].unique()))))\n",
    "x.set_xticklabels(x.get_xticklabels(), rotation=90);"
   ]
  },
  {
   "cell_type": "markdown",
   "metadata": {},
   "source": [
    "#### INSIGHTS\n",
    "- Algunos intervalos específicos, como 1510.0-2000.0 y 2210.0-2290.0, muestran una proporción relativamente alta de mora, indicando que los préstamos en estos rangos tienen un mayor riesgo.\n",
    "- En los intervalos más altos de MONTO_PRESTAMO (7001.0-10120.0 y 20001.0-45000.0), la proporción de observaciones con mora es relativamente baja. Esto sugiere que los préstamos de montos muy altos tienden a ser pagados con mayor regularidad.\n",
    "- Los intervalos de 1135.0-1510.0 y 2000.0-2200.0 muestran una proporción relativamente alta de mora. Esto indica que los préstamos dentro de estos rangos pueden estar asociados con un mayor riesgo de mora. "
   ]
  },
  {
   "cell_type": "markdown",
   "metadata": {},
   "source": [
    "#### SALDO_PRESTAMO"
   ]
  },
  {
   "cell_type": "code",
   "execution_count": 76,
   "metadata": {},
   "outputs": [
    {
     "data": {
      "text/plain": [
       "SALDO_PRESTAMO\n",
       "1.0-534.0          1112\n",
       "845.0-1160.0       1086\n",
       "535.0-845.0        1082\n",
       "7832.0-177657.0    1082\n",
       "2460.0-3853.0      1082\n",
       "1723.0-2460.0      1081\n",
       "3855.0-7832.0      1081\n",
       "1161.0-1721.0      1077\n",
       "0                  1051\n",
       "Name: count, dtype: int64"
      ]
     },
     "execution_count": 76,
     "metadata": {},
     "output_type": "execute_result"
    }
   ],
   "source": [
    "data.SALDO_PRESTAMO.value_counts()"
   ]
  },
  {
   "cell_type": "code",
   "execution_count": 77,
   "metadata": {},
   "outputs": [
    {
     "name": "stderr",
     "output_type": "stream",
     "text": [
      "C:\\Users\\LAPTOP\\AppData\\Local\\Temp\\ipykernel_27792\\84685381.py:2: UserWarning: FixedFormatter should only be used together with FixedLocator\n",
      "  x.set_xticklabels(x.get_xticklabels(), rotation=90);\n"
     ]
    },
    {
     "data": {
      "image/png": "[encoded data removed]",
      "text/plain": [
       "<Figure size 640x480 with 1 Axes>"
      ]
     },
     "metadata": {},
     "output_type": "display_data"
    }
   ],
   "source": [
    "x = sns.countplot(data, x='SALDO_PRESTAMO', hue='MORA',order = ordenar(list(set(data['SALDO_PRESTAMO'].unique()))))\n",
    "x.set_xticklabels(x.get_xticklabels(), rotation=90);"
   ]
  },
  {
   "cell_type": "markdown",
   "metadata": {},
   "source": [
    "#### INSIGHTS\n",
    "- La distribucion de saldo prestamo muestra que a medida que el saldo prestamo disminuye, el riesgo de mora aumenta, esto podría deberse a los prestamos de montos bajos que presentan un mayor indice de morosidad o bien a que algunos prestamos se atrasan en las ultimas cuotas\n"
   ]
  }
 ],
 "metadata": {
  "kernelspec": {
   "display_name": "Python 3",
   "language": "python",
   "name": "python3"
  },
  "language_info": {
   "codemirror_mode": {
    "name": "ipython",
    "version": 3
   },
   "file_extension": ".py",
   "mimetype": "text/x-python",
   "name": "python",
   "nbconvert_exporter": "python",
   "pygments_lexer": "ipython3",
   "version": "3.11.3"
  }
 },
 "nbformat": 4,
 "nbformat_minor": 2
}
